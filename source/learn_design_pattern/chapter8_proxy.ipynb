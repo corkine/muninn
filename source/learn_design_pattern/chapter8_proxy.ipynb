{
 "cells": [
  {
   "cell_type": "markdown",
   "metadata": {},
   "source": [
    "\n",
    "<span type=\"title\">代理模式</span> | <span type=\"update\">2018-09-10</span> - Version <span type=\"version\">1.0</span>\n",
    "    \n",
    "    \n",
    "<span type=\"intro\"><p class=\"card-text\">本章主要介绍代理模式。代理模式指的是，通过为另一个对象昂提供替身或者占位符的方式，控制对这个对象的访问。其一般通过和被代理对象实现共同的接口，调用内部保存的被代理对象实例返回这些接口提供的服务。服务请求方只和代理进行交互。这种模式广泛应用于需要保证安全、轻量的场合，比如金融和网络。典型的代理模式是RMI，本地的客户端通过调用Stub类来访问远程服务，这个Stub类就是远程对象的代理。</p></span>"
   ]
  },
  {
   "cell_type": "markdown",
   "metadata": {},
   "source": [
    "# 代理模式\n",
    "\n",
    "## 代理模式的定义\n",
    "\n",
    "代理模式指的是，通过为另一个对象提供替身或者占位符的方式，控制对这个对象的访问。\n",
    "\n",
    "代理模式的实现常常采用包含一个被代理对象的引用，然后调用此对象和其共同实现的接口提供有限的服务。\n",
    "\n",
    "![](proxy.png)"
   ]
  },
  {
   "cell_type": "markdown",
   "metadata": {},
   "source": [
    "## RMI 概述\n",
    "\n",
    "RMI 通过以下过程调用远程访问：\n",
    "\n",
    "![](proxy1.png)\n",
    "![](proxy2.png)\n",
    "![](proxy3.png)\n",
    "\n",
    "在最开始，本地对象通过Naming或者LocateRegistry通过Socket从远程服务器地址查找Stub对象，然后获取这个对象。\n",
    "\n",
    "可以看到，其中的Skeleton负责监控端口的请求，以将远程对象通过序列化的方式发送到本地的Stub代理处。本地对象通过访问Stub即可获取远程对象所实现的之前约定好的接口的方法。\n",
    "\n",
    "当调用Stub的方法的时候，Stub会联系远程对象请求方法，然后会送给客户端。这样，所有对于远程方法的请求都需要经过Stub到Skeleton到远程对象。"
   ]
  },
  {
   "cell_type": "markdown",
   "metadata": {},
   "source": [
    "# RMI 示例代码\n",
    "\n",
    "## 定义接口\n",
    "\n",
    "首先要协商好传送的对象和服务端能够提供的方法，需要继承自 Remote 类，每个方法需要抛出 RemoteException 异常。\n",
    "\n",
    "```java\n",
    "public interface AutoMatRemote extends Remote {\n",
    "    State getState() throws RemoteException;\n",
    "    int getCount() throws RemoteException;\n",
    "    String getLocation() throws RemoteException;\n",
    "}\n",
    "```\n",
    "\n",
    "## 服务端\n",
    "\n",
    "首先，客户端需要和服务端协商好能够调用的方法，Stub只能提供这些方法的调用。从远程对象获取的序列化流只能转型成为此接口的类型。此外，对于所有需要服务端进行调用时传送的类进行序列化声明，比如State类。之后，对于服务端实现 UnicastRemoteObject 类的继承以直接绑定和传送。这个 URO 类提供了很多用于二进制化和传送的方法。如果不继承，那么需要手动序列化再绑定到注册表。\n",
    "\n",
    "此外，这个服务端的构造器需要能够抛出 RemoteException 异常。\n",
    "\n",
    "直接运行即可，可以创建多个对象，绑定到相同接口，使用不同的名称来区分。可以使用LocateRegistry注册本地接口，使用bind方法进行绑定。程序不会像正常那样运行完就终止，其会停留在那里，等待接受客户端访问。\n",
    "\n",
    "```java\n",
    "public interface State extends Serializable {\n",
    "    void insertQuarter();\n",
    "    void ejectQuarter();\n",
    "    void turnCrank();\n",
    "    void dispense();\n",
    "}\n",
    "public class AutoMat extends UnicastRemoteObject implements Serializable, AutoMatRemote {\n",
    "    public static void main(String[] args) throws Exception {\n",
    "        AutoMat machine = new AutoMat(\"Wuhan CCNU\",3);\n",
    "        AutoMat machine2 = new AutoMat(\"Wuhan HZAU\",10);\n",
    "        AutoMat machine3 = new AutoMat(\"Guangzhou SCNU\",8);\n",
    "        Registry registry = LocateRegistry.createRegistry(2333);\n",
    "        registry.rebind(\"scnu\",machine3);\n",
    "        registry.rebind(\"hzau\",machine2);\n",
    "        registry.rebind(\"ccnu\",machine);\n",
    "        System.out.println(\"Hi\");\n",
    "        machine.insertQuarter();\n",
    "        machine.ejectQuarter();\n",
    "        machine.insertQuarter();\n",
    "        machine.turnCrank();\n",
    "        machine.turnCrank();\n",
    "    }\n",
    "}\n",
    "```\n",
    "\n",
    "## 客户端\n",
    "\n",
    "客户端只用使用注册表来查找指定网址的端口的字段来获得对象，其实现在获得的是Stub代理，转型为接口方法，然后调用返回远程方法的内容即可。\n",
    "\n",
    "```java\n",
    "Registry registry = LocateRegistry.getRegistry(2333);\n",
    "for (String locate : \"ccnu scnu hzau\".split(\" \")) {\n",
    "    AutoMatRemote autoMat = (AutoMatRemote)registry.lookup(locate);\n",
    "    System.out.printf(\"Machine Location: %s\\nState: %s\\nLeft Ball:%s\\n\",\n",
    "            autoMat.getLocation(),autoMat.getState().toString(),autoMat.getCount());\n",
    "}\n",
    "//Result\n",
    "Machine Location: Wuhan CCNU\n",
    "State: noQuarterState@238e0d81\n",
    "Left Ball:2\n",
    "Machine Location: Guangzhou SCNU\n",
    "State: noQuarterState@533ddba\n",
    "Left Ball:8\n",
    "Machine Location: Wuhan HZAU\n",
    "State: noQuarterState@306a30c7\n",
    "Left Ball:10\n",
    "```"
   ]
  }
 ],
 "metadata": {
  "kernelspec": {
   "display_name": "Python 3",
   "language": "python",
   "name": "python3"
  },
  "language_info": {
   "codemirror_mode": {
    "name": "ipython",
    "version": 3
   },
   "file_extension": ".py",
   "mimetype": "text/x-python",
   "name": "python",
   "nbconvert_exporter": "python",
   "pygments_lexer": "ipython3",
   "version": "3.5.2"
  }
 },
 "nbformat": 4,
 "nbformat_minor": 2
}
