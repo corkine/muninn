{
 "cells": [
  {
   "cell_type": "markdown",
   "metadata": {},
   "source": [
    "<span type=\"title\">适配器模式和外观模式</span> | <span type=\"update\">2018-09-08</span> - Version <span type=\"version\">1.0</span>\n",
    "    \n",
    "    \n",
    "<span type=\"intro\"><p class=\"card-text\">本章主要介绍适配器模式和外观模式。</p></span>"
   ]
  },
  {
   "cell_type": "markdown",
   "metadata": {},
   "source": [
    "# 适配器模式\n",
    "\n",
    "## 适配器定义\n",
    "\n",
    "适配器模式指的是：**将一个类的接口转换成客户期望的另一个接口。适配器让原本接口不兼容的类可以合作无间。**适配器是一个具体的类，其内部保存一个被适配的对象实例，其通过调用这个被适配对象来实现一个标准接口。这样的话，适配器就可以替代被适配者，和其余任意实现了标准接口的类共享标准接口。\n",
    "\n",
    "其类图如下：\n",
    "\n",
    "![](c4p1.png)"
   ]
  },
  {
   "cell_type": "markdown",
   "metadata": {},
   "source": [
    "## 适配器分类\n",
    "\n",
    "Java的适配器是“对象”适配器，此外还有“类”适配器。但是因为Java不支持多重继承，所以无法实现。类适配器指的是，适配器多重继承两个不同接口的类，然后达到适配的目的（可以任意转型为其一标准）。对象适配器需要保存一个被适配的实例，然后调用其方法来实现需要适配的标准接口。"
   ]
  },
  {
   "cell_type": "markdown",
   "metadata": {},
   "source": [
    "# 外观模式\n",
    "\n",
    "外观模式是适配器模式的变种，其侧重于建立接口适配的基础上，简化接口。其优点在于，如果简化的接口不够用，那么用户完全可以再调用子系统的类。其并没有对子系统进行封装。\n",
    "\n",
    "## 外观模式的定义\n",
    "\n",
    "外观模式指的是**提供一个统一的接口，用来访问子系统的一群接口。外观定义了一个高层接口，让子系统更容易使用。**\n",
    "\n",
    "其类图如下：\n",
    "\n",
    "![](c4p2.png)\n",
    "\n",
    "注意，这些子系统可以直接使用，其并没有被外观封装，因此称之为“外观skin”。其和适配器的区别在于内部保存的实例变量的多少。此外，外观模式中的子系统可以有多个外观，也就是可以有多种对接口的实现方式。"
   ]
  },
  {
   "cell_type": "markdown",
   "metadata": {},
   "source": [
    "## 装饰器、适配器、外观模式和命令模式区分\n",
    "\n",
    "**适配器和装饰器**\n",
    "\n",
    "有人认为，装饰器是相同接口的适配器。因为其类图非常相似，唯一的区别在于被适配者也实现了标准接口。虽然适配器和装饰器都在其内部保留了一个对象实例，然后调用这个被包裹的实例实现了一组接口。但是，适配器和装饰器的目的和作用大相径庭，装饰器常用来为使用相同接口的方法添加“责任”/功能，而适配器的作用主要是为两个不同的类之间提供一组共用的API标准，其无关责任，不需要添加功能，只要保证两个接口之间的功能对应即可。\n",
    "\n",
    "**适配器和命令模式**\n",
    "\n",
    "命令模式指的是通过保存一个/组对象，然后以实现一个接口。适配器指的是通过保存一个对象，然后以实现一个/组接口。换句话说，命令模式为暴君服务，提供千万妃子，适配器为牛郎和织女建立联系，一心一意。\n",
    "\n",
    "**总结**\n",
    "\n",
    "除去量词之外，适配器、命令模式、装饰器基本思路相同，适配器侧重于一对一，命令侧重于多对独，装饰器侧重于一对一的同时，添加点私货。此外，外观模式侧重于多对一（这里的一指的是一个对象，独指的是一个方法/接口，多指的是多个对象，前面指的是被适配、装饰、外观，后面指的是指向的标准）"
   ]
  },
  {
   "cell_type": "markdown",
   "metadata": {},
   "source": [
    "# “最少知识”原则\n",
    "\n",
    "这是新的一条OO原则：只和你的密友谈话。\n",
    "\n",
    "很显然的，这样有利于对象的解耦。当我们更改一个类的时候，只用担心和其交互的那些类就可以了，而不用担心非常远的某个地方通过调用 `xxx.getxxx().getyyy().getzzz()` 这种方式耦合的代码。换句话说，我们不应该在任何地方通过获取一个对象的方式来获取这个对象内部的方法，除非这个对象作为方法的参数、返回值或者实例变量或者这个对象本身的（轻度耦合）。\n",
    "\n",
    "\n",
    "\n",
    "别忘了，采用最少知识原则会导致过多的包装类，从而产生过多的层。因此要适度使用。"
   ]
  },
  {
   "cell_type": "markdown",
   "metadata": {},
   "source": [
    "# 示例代码\n",
    "\n",
    "## 外观模式\n",
    "\n",
    "```java\n",
    "class Water { int get()}\n",
    "class Orange { int get() }\n",
    "class Milk { int get() }\n",
    "class Juice implements Drink17, Drink18{\n",
    "\tWater water;\n",
    "\tOrange orange;\n",
    "\tMilk milk;\n",
    "\tvoid moreSweet() { milk.get(); water.get();}\n",
    "\tvoid likeSummer() { orange.get(); water.get();}\n",
    "\tvoid likeWinter() { water.get();water.get();orange.get();}\n",
    "}\n",
    "class JuiceSkin implements Drink18 {\n",
    "\tWater water;\n",
    "\tOrange orange;\n",
    "\tMilk milk;\n",
    "\tvoid likeWinter() { water.get();water.get();orange.get();}\n",
    "}\n",
    "interface Drink17 {\n",
    "\tvoid moreSweet()\n",
    "\tvoid likeSummer()\n",
    "}\n",
    "interface Drink18 {\n",
    "\tvoid likeWinter()\n",
    "}\n",
    "```\n",
    "\n",
    "如上所示，外观模式通过实例化对象以提供接口的实现，其侧重于多个对象对一个类的多个接口/方法。可以有多个外观，可以通过多重实现（衣服单反穿）或者直接使用别的外观（JuiceSkin，换套衣服）来实现自定义外观。"
   ]
  },
  {
   "cell_type": "markdown",
   "metadata": {},
   "source": [
    "## 适配器模式\n",
    "\n"
   ]
  }
 ],
 "metadata": {
  "kernelspec": {
   "display_name": "Python 3",
   "language": "python",
   "name": "python3"
  },
  "language_info": {
   "codemirror_mode": {
    "name": "ipython",
    "version": 3
   },
   "file_extension": ".py",
   "mimetype": "text/x-python",
   "name": "python",
   "nbconvert_exporter": "python",
   "pygments_lexer": "ipython3",
   "version": "3.5.2"
  }
 },
 "nbformat": 4,
 "nbformat_minor": 2
}
