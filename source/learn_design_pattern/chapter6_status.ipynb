{
 "cells": [
  {
   "cell_type": "markdown",
   "metadata": {},
   "source": [
    "<span type=\"title\">状态模式</span> | <span type=\"update\">2018-09-08</span> - Version <span type=\"version\">1.0</span>\n",
    "    \n",
    "    \n",
    "<span type=\"intro\"><p class=\"card-text\">本章主要介绍状态模式</p></span>"
   ]
  },
  {
   "cell_type": "markdown",
   "metadata": {},
   "source": [
    "# 状态模式\n",
    " \n",
    "考虑自动售货机，其包含四种状态，有硬币，无硬币，无货，出售。此外，我们还有四种行为：投币、退币、转动曲柄、发放糖果。很容易想到，将四种状态保存成四个实例变量，把四种行为写作一个类的四个方法，然后不同的行为改变状态来提供服务。\n",
    "\n",
    "这种写法正是典型的面向过程，四个变量，四个函数，每个函数操纵四个变量提供其服务。这样做的问题在于：1、违反了开闭原则，新的代码将需要大量修改函数内部代码，难以调试。2、根本不是面向对象。3、状态的转换被隐藏在函数内部，因为状态更加容易变化，而行为不是，因此，我们很难添加一种新的状态，因为需要调整数个函数内部的条件判断语句。换句话说，这样的面向过程程序，一旦要进行修改，就要从头改到尾，从头重新测试到尾。\n",
    "\n"
   ]
  }
 ],
 "metadata": {
  "kernelspec": {
   "display_name": "Python 3",
   "language": "python",
   "name": "python3"
  },
  "language_info": {
   "codemirror_mode": {
    "name": "ipython",
    "version": 3
   },
   "file_extension": ".py",
   "mimetype": "text/x-python",
   "name": "python",
   "nbconvert_exporter": "python",
   "pygments_lexer": "ipython3",
   "version": "3.5.2"
  }
 },
 "nbformat": 4,
 "nbformat_minor": 2
}
