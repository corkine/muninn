{
 "cells": [
  {
   "cell_type": "markdown",
   "metadata": {},
   "source": [
    "<span type=\"title\">模板方法模式</span> | <span type=\"update\">2018-09-08</span> - Version <span type=\"version\">1.0</span>\n",
    "    \n",
    "    \n",
    "<span type=\"intro\"><p class=\"card-text\">本章主要介绍模板方法模式</p></span>"
   ]
  },
  {
   "cell_type": "markdown",
   "metadata": {},
   "source": [
    "# 模板方法模式\n",
    "\n",
    "## 定义\n",
    "\n",
    "模板方法模式指的是，在抽象类中搭建框架，定义算法的步骤，然后把这些步骤的实现推迟到子类的设计模式。\n",
    "\n",
    "模板方法模式很像工厂方法模式，其区别在于，前者交给子类的是“方法”（算法的某个步骤），后者交给子类的是“对象”（然后对对象调用各种方法完成服务）。模板方法模式可以使用 abstract 限制以完全交给子类，也可以使用 protected 限制以实现钩子，由子类决定是否要实现，或者使用默认"
   ]
  }
 ],
 "metadata": {
  "kernelspec": {
   "display_name": "Python 3",
   "language": "python",
   "name": "python3"
  },
  "language_info": {
   "codemirror_mode": {
    "name": "ipython",
    "version": 3
   },
   "file_extension": ".py",
   "mimetype": "text/x-python",
   "name": "python",
   "nbconvert_exporter": "python",
   "pygments_lexer": "ipython3",
   "version": "3.5.2"
  }
 },
 "nbformat": 4,
 "nbformat_minor": 2
}
