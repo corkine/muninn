{
 "cells": [
  {
   "cell_type": "markdown",
   "metadata": {},
   "source": [
    "\n",
    "<span type=\"title\">其他设计模式</span> | <span type=\"update\">2018-09-11</span> - Version <span type=\"version\">1.0</span>\n",
    "    \n",
    "    \n",
    "<span type=\"intro\"><p class=\"card-text\">本章介绍其余设计模式。</p></span>"
   ]
  },
  {
   "cell_type": "markdown",
   "metadata": {},
   "source": [
    "# 桥接模式\n",
    "\n",
    "桥接模式是程序设计者在解决**实现和抽像分离**的问题时被发现的。比如，当我们需要为不同品牌的电视机做遥控器，现在有一个遥控器的接口，因此，最容易想到的方式就是实现这个接口，然后，使用策略模式对各个不同实现的遥控器传入被遥控的对象，重写这些子类遥控器的接口以实现对对象的控制。但这样的问题在于，我们“面向实现”编程，而非面向抽像。因此进行如下设计：\n",
    "\n",
    "① 使用策略模式，将实现分离出抽像\n",
    "\n",
    "为了使用策略模式，实现一个AbstractController类来实现遥控器接口，然后让各个TV实现TV类来作为参数传入并且被遥控器类保存成为实例变量。通过对实例变量方法调用，遥控器类可以提供其接口的服务。\n",
    "\n",
    "但是，策略模式的问题在于，我们可以对实现进行分离，因为我们总是有不同的实现，作为参数传递到主类的实例变量中。但是，我们确定好的接口标准则完全无法改变，也就是，**我们一旦确定策略模式所提供的接口，就不能够再去修改这个接口**，这导致了不灵活的设计。\n",
    "\n"
   ]
  }
 ],
 "metadata": {
  "kernelspec": {
   "display_name": "Python 3",
   "language": "python",
   "name": "python3"
  },
  "language_info": {
   "codemirror_mode": {
    "name": "ipython",
    "version": 3
   },
   "file_extension": ".py",
   "mimetype": "text/x-python",
   "name": "python",
   "nbconvert_exporter": "python",
   "pygments_lexer": "ipython3",
   "version": "3.5.2"
  }
 },
 "nbformat": 4,
 "nbformat_minor": 2
}
