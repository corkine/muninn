{
 "cells": [
  {
   "cell_type": "markdown",
   "metadata": {},
   "source": [
    "<span type=\"title\">Spring IOC</span> | <span type=\"update\">2018-09-30</span> - Version <span type=\"version\">1.0</span>\n",
    "    \n",
    "    \n",
    "<span type=\"intro\"><p class=\"card-text\">这一部分主要介绍使用 Spring 框架进行 Web 开发简化的方法。本章重点介绍了 Spring 的 IOC/DI 控制反转/依赖注入，包括使用 XML 和 注解两种以无侵入性的方式创建对象实例的方法。IOC 是工厂方法的升级版本，其优点在于：使用 XML，依赖 Spring 提供的IOC容器，对象可以更加方便的在运行时动态生成，而不需手动构造（可以将 Spring IOC 看作一个大的对象工厂，其根据 XML 进行 RTTI 参数注入，从容器中根据 id 获取对象。）。</p></span>"
   ]
  },
  {
   "cell_type": "markdown",
   "metadata": {},
   "source": [
    "# Spring IOC 前世\n",
    "\n",
    "Spring 的 IOC 需要使用以下 jar 依赖：commons-logging, core, beans, context, expression.\n",
    "\n",
    "其基本使用方法如下：\n",
    "\n",
    "person Bean 类\n",
    "\n",
    "```java\n",
    "public class Person {\n",
    "    private String name;\n",
    "    private int id;\n",
    "    private Address address;\n",
    "    private List<Address> schools;\n",
    "... 略}\n",
    "```\n",
    "\n",
    "IOC 容器 Bean 配置文件\n",
    "\n",
    "```xml\n",
    "<bean id=\"ccnu\" class=\"com.mazhangjing.test.Address\" scope=\"singleton\">\n",
    "    <constructor-arg index=\"0\" value=\"China\"/>\n",
    "    <constructor-arg name=\"city\" value=\"Wuhan\" />\n",
    "    <constructor-arg name=\"code\" value=\"027\" />\n",
    "    <constructor-arg index=\"3\" value=\"CCNU\" />\n",
    "</bean>\n",
    "<bean id=\"person\" class=\"com.mazhangjing.test.Person\" scope=\"singleton\">\n",
    "    <property name=\"name\" value=\"Corkine\"/>\n",
    "    <property name=\"address\" ref=\"ccnu\" />\n",
    "    <property name=\"id\">\n",
    "        <value>2017110658</value>\n",
    "    </property>\n",
    "</bean>\n",
    "```\n",
    "\n",
    "IOC 对象调用\n",
    "\n",
    "```java\n",
    "ApplicationContext ctx = new ClassPathXmlApplicationContext(\"applicationContext.xml\");\n",
    "Person person = (Person) ctx.getBean(\"person\");\n",
    "```\n",
    "\n",
    "通过在 context.xml 进行配置，然后 IOC 容器会自动解析此 XML 文件，并且进行 Bean 的构造，并且自动管理其生命周期。当需要使用 Bean 的时候，从 ApplicationContext 中根据 id 获取对象即可使用。这就是 IOC 容器的基本使用方法。重点在于 XML 配置 Bean 以及其依赖关系、各种数据结构、外部属性文件的语法。\n",
    "\n",
    "## IOC/DI 的定义\n",
    "\n",
    "IOC 指的是 Inversion of Control。在传统的 JavaEE 中，当希望获取一个对象，我们要向容器发送请求，获取构造此对象的资源，容器进行相应，然后构造此对象。在IOC中，容器主动的在项目启动的时候，自动将合适的资源注入对象中，这样，只需要向容器寻求这个对象即可，而不用再去调用和配置对象构造器来手动管理对象构建。IOC和DI含义相同，其中DI指的是依赖注入，也就是容器将对象的类属性所需要的对象使用 setter 方法进行自动调用，然后既可以直接使用这个对象，而不需手动的去 set 依赖的方式。DI是IOC的另一种表述形式。\n",
    "\n"
   ]
  }
 ],
 "metadata": {
  "kernelspec": {
   "display_name": "Python 3",
   "language": "python",
   "name": "python3"
  },
  "language_info": {
   "codemirror_mode": {
    "name": "ipython",
    "version": 3
   },
   "file_extension": ".py",
   "mimetype": "text/x-python",
   "name": "python",
   "nbconvert_exporter": "python",
   "pygments_lexer": "ipython3",
   "version": "3.5.2"
  }
 },
 "nbformat": 4,
 "nbformat_minor": 2
}
