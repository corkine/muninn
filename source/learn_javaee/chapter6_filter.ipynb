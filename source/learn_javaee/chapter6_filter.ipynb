{
 "cells": [
  {
   "cell_type": "markdown",
   "metadata": {},
   "source": [
    "<span type=\"title\">Filter and Wrapper</span> | <span type=\"update\">2018-09-26</span> - Version <span type=\"version\">1.0</span>\n",
    "    \n",
    "    \n",
    "<span type=\"intro\"><p class=\"card-text\">本章主要介绍 Servlet 和 JSP 应用程序的请求和相应的过滤问题。</p></span>"
   ]
  },
  {
   "cell_type": "markdown",
   "metadata": {},
   "source": [
    "# 过滤器\n",
    "\n",
    "## 实现过滤器类\n",
    "\n",
    "过滤器用来劫持对于 Servlet 的请求，并且可以重写 Servlet 的相应结果。我们一般使用过滤器进行安全审查、日志和审计工作、压缩相应流等等。Servlet 并不会知道传递给自己的 req 或者自己写好的 resp 被更改了。\n",
    "\n",
    "过滤器使用了装饰者设计模式，一个过滤器类必须实现 Servlet 的 Filter 接口，然后实现 init、doFilter 以及 destroy 方法，其中可供调用的对象是 ServletContext 以及 FilterConfig 对象。使用者必须在 init 方法中创建类实例来保存着两个对象（大部分情况下）。doFilter 会接受 req，resp 以及 FilterChain 三个对象，对于前两者需要转型为 HttpServletRequest/Response。FilterChain 的作用在于指示此过滤器传递给下一个过滤器来执行进一步的动作。\n",
    "\n",
    "举例如下，这个例子的过滤器获取 request 对象，打印日志，然后交给下一个 Filter，最后的 Filter 交给 Servlet 进行响应。此外需要注意，doFilter 需要能够抛出 ServletException 以及 IOException 这两个错误。\n",
    "\n",
    "```java\n",
    "public class UserFilter implements Filter {\n",
    "    private FilterConfig config;\n",
    "    private ServletContext context;\n",
    "    @Override\n",
    "    public void doFilter(ServletRequest servletRequest, ServletResponse servletResponse, FilterChain filterChain)\n",
    "                throws ServletException, IOException {\n",
    "        HttpServletRequest request = (HttpServletRequest) servletRequest;\n",
    "        HttpServletResponse response = (HttpServletResponse) servletResponse;\n",
    "        String name;\n",
    "        if ((name = request.getRemoteUser()) != null) \n",
    "            context.log(\"User\" + name + \"is updating...\");\n",
    "        filterChain.doFilter(request,response);\n",
    "    }\n",
    "\n",
    "    @Override\n",
    "    public void init(FilterConfig filterConfig) {\n",
    "        this.config = filterConfig;\n",
    "        this.context = config.getServletContext();\n",
    "        context.log(config.getFilterName() + \"is init now...\");\n",
    "    }\n",
    "\n",
    "    @Override\n",
    "    public void destroy() {\n",
    "        context.log(config.getFilterName() + \"is destroy now...\");\n",
    "    }\n",
    "}\n",
    "```\n",
    "\n",
    "## 确定过滤器链\n",
    "\n",
    "在 DD 中进行如下设置：在 filter 标签中设置过滤器名称以及对应的过滤器类，还包括可选的参数信息。然后在 mapping 中设置此过滤器对应的 url 模式匹配或者 servlet 匹配。两者必须有一个。如果一个 url 符合多个匹配，那么按照 DD 的顺序设置 chain。如果对于一个 Servlet，有 url 和 Servlet 两种指定的过滤器，那么 url 指定的过滤器放在前面，servlet 指定的过滤器放在后面（更靠近Servlet）。\n",
    "\n",
    "在 mapping 中，还可以设置对于不同的请求方式进行过滤，默认为 request，可选 include、forward、error。\n",
    "\n",
    "```xml\n",
    "<filter>\n",
    "    <filter-name>userfilter</filter-name>\n",
    "    <filter-class>com.mazhangjing.filter.UserFilter</filter-class>\n",
    "    <init-param>\n",
    "        <param-name>namespace</param-name>\n",
    "        <param-value>hi</param-value>\n",
    "    </init-param>\n",
    "</filter>\n",
    "<filter-mapping>\n",
    "    <filter-name>userfilter</filter-name>\n",
    "    <url-pattern>*.jsp</url-pattern> <!--OR <servlet-name>HelloAgain</servlet-name> -->\n",
    "    <dispatcher>REQUEST</dispatcher> <!-- OR -->\n",
    "    <dispatcher>INCLUDE</dispatcher> <!-- OR -->\n",
    "    <dispatcher>FORWARD</dispatcher> <!-- OR -->\n",
    "    <dispatcher>ERROR</dispatcher> <!-- OR -->\n",
    "</filter-mapping>\n",
    "```\n",
    "\n"
   ]
  }
 ],
 "metadata": {
  "kernelspec": {
   "display_name": "Python 3",
   "language": "python",
   "name": "python3"
  },
  "language_info": {
   "codemirror_mode": {
    "name": "ipython",
    "version": 3
   },
   "file_extension": ".py",
   "mimetype": "text/x-python",
   "name": "python",
   "nbconvert_exporter": "python",
   "pygments_lexer": "ipython3",
   "version": "3.5.2"
  }
 },
 "nbformat": 4,
 "nbformat_minor": 2
}
