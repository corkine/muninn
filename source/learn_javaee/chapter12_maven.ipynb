{
 "cells": [
  {
   "cell_type": "markdown",
   "metadata": {},
   "source": [
    "<span type=\"title\">Maven Basic</span> | <span type=\"update\">2018-10-26</span> - Version <span type=\"version\">1.0</span>\n",
    "    \n",
    "    \n",
    "<span type=\"intro\"><p class=\"card-text\">本章主要介绍 Maven 的使用。</p></span>"
   ]
  },
  {
   "cell_type": "markdown",
   "metadata": {},
   "source": [
    "# Maven 及自动化框架\n",
    "\n",
    "Maven 是一个自动化的 Java 程序部署框架，其主要功能有：\n",
    "\n",
    "1. 清理 清理原有的 classes 类目录\n",
    "2. 编译 调用 JVM 编译 .java 程序\n",
    "3. 测试 自动调用 JUnit 进行测试\n",
    "4. 报告 报告编译和测试结果\n",
    "5. 打包 将编译后的结果打成 war 或者 jar 包\n",
    "6. 安装 Maven 特定概念，将程序依赖部署到合适的位置\n",
    "7. 部署 提交容器进行部署\n",
    "\n",
    "由于众所周知的原因：Java 的类名称、方法签名一般较长，语法更强调标准及其实现，而更少关注灵活性和便捷性，因此，常见的 Java 开发一般很难遇到使用 Code、Vim 等进行编写的。因此，在基于 IDE 的 Java 编程环境下，Maven 作为 “部署工具” 的属性难以体现，这是因为 Idea 或者 Elipse 等 IDE 基本上已经自动化的完成了 清理、编译、测试、打包的功能。\n",
    "\n",
    "虽然 Maven 和大部分 IDE 的功能重叠，但是，大部分的 IDE 还都是提供了对于 Maven 较为全面的支持，在部署、包管理方面，Maven 的优势更大，尤其是 Java EE 开发环境下，SSH 框架至少有 20 个左右互相依赖的 jar 包，此外还有繁琐的版本问题、线上线下替换问题。因此，使用 Maven 管理包是一种主流的做法，况且，Maven [中心仓库](https://mvnrepository.com/)提供了大量的 Java jar 包，目前为止，大约有 1.2 亿个包。这些包的数量甚至超过除了 npm 以外的所有主流编程语言的主流仓库包数量的总和。\n",
    "\n",
    "Maven 的工程结构如下：\n",
    "\n",
    "```\n",
    "根目录 工程名\n",
    " |-- pom.xml 核心配置文件\n",
    " |-- src/ 可读程序\n",
    " |     |-- main/ 主程序\n",
    " |     |    |-- java/ Java 源文件\n",
    " |     |    |-- resources/ 各种配置文件\n",
    " |     |-- test/ 测试程序\n",
    " |-- target/ class 源码\n",
    "```\n",
    "\n",
    "这种目录结构是一种约定俗称的规范，其中 src 即源码，包含了 main 主程序以及 test 测试程序主文件夹，target 即部署的二进制代码，pom.xml 则提供了 Maven 工程插件以及 jar 包依赖设置。\n",
    "\n",
    "Maven 仓库的地址是：https://mvnrepository.com/\n",
    "\n",
    "其在全球各大洲都有广泛的镜像站点以供数据存取。想要获取一个 jar 包，只用到网站搜索，然后复制一段依赖信息，粘贴到 pom.xml 的依赖标签中即可，idea 等 IDE 会自动去镜像站下载，并且缓存在本地指定文件夹。\n",
    "\n",
    "为了加速访问中心仓库，在 Maven 的 settings.xml 中 mirrors 标签中添加 aliyun 的镜像站点信息。\n",
    "\n",
    "```\n",
    "<mirror>\n",
    "    <id>nexus-aliyun</id>\n",
    "    <mirrorOf>central</mirrorOf>\n",
    "    <name>Nexus aliyun</name>\n",
    "    <url>http://maven.aliyun.com/nexus/content/groups/public</url>\n",
    "</mirror>\n",
    "```\n",
    "\n",
    "当一个程序需要使用 jar 包，其会先到本地缓存寻找，如果找不到，则自动去中心仓库寻找。所有下载会在 `用户home目录/.m2/repository` 下。可以在 settings.xml 文件手动配置。\n",
    "\n",
    "Maven 作为单独的程序，可以单独去 [Apache Maven 网站下载](https://maven.apache.org/\n",
    ")，idea 提供了内置的 Maven，因此可以直接使用，新建 Maven 工程，默认使用内置的 Maven 程序，以及其默认仓库缓存位置和默认配置。如果希望在命令行执行 mvn 命令，则需要添加 Maven 到环境变量，其中需要定义 JRE_HOME, \n",
    "\n"
   ]
  }
 ],
 "metadata": {
  "kernelspec": {
   "display_name": "Python 3",
   "language": "python",
   "name": "python3"
  },
  "language_info": {
   "codemirror_mode": {
    "name": "ipython",
    "version": 3
   },
   "file_extension": ".py",
   "mimetype": "text/x-python",
   "name": "python",
   "nbconvert_exporter": "python",
   "pygments_lexer": "ipython3",
   "version": "3.5.2"
  }
 },
 "nbformat": 4,
 "nbformat_minor": 2
}
