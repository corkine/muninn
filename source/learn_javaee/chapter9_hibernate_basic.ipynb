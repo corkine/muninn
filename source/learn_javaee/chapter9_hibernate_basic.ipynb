{
 "cells": [
  {
   "cell_type": "markdown",
   "metadata": {},
   "source": [
    "<span type=\"title\">Hibernate Basic</span> | <span type=\"update\">2018-10-24</span> - Version <span type=\"version\">1.0</span>\n",
    "    \n",
    "    \n",
    "<span type=\"intro\"><p class=\"card-text\">本章主要介绍 Hibernate 的基础使用。</p></span>"
   ]
  },
  {
   "cell_type": "markdown",
   "metadata": {},
   "source": [
    "# Object/Relation Map\n",
    "\n",
    "Hibernate 是一个对象持久化框架，广义上的持久化指的是 OOP 对象和 数据库行列之间的交互，包括 增加、删除、更改、查找（CRUD）。Hibernate 特有一个叫做“加载”的概念，这是指根据 OID，将一个对象从数据库加载到内存中的操作。其中 OID 指的是，对象标识，OO 对象的属性对应数据库的列，OO 的每个对象对应数据库的行，这种映射称之为 ORM(Object/Relation Map)。为了满足对象和 OO 之间的对应，我们所需要一个指定关联，这个关联叫做 Object Identifier。\n",
    "\n",
    "ORM 不仅仅需要有 OID 的行对应，还需要有对象的列对应，列对应属性。在 DBUtils or JdbcTemplate 中，我们约定好了一种简单的映射规则，其中属性全小写作为数据库列名标识，这样就完成了对应。但对于实际情况，一个对象可能包含非基本类型的其它类型属性，这时候就需要使用多张表完成此对象的映射，在这种情况下，我们常常需要提供一个 .xml 文件完成这种属性和列的手动映射。\n",
    "\n",
    "ORM 的架构分为三层，上层是业务逻辑，这里包含了域模型，其中包含了 ORM 需要处理的一些问题：对象、属性、关联、继承和多态。中间层是 ORM 提供的 API，以及其具体实现。Java 有官方的 API，叫做 JPA，Hibernate 是 JPA 的实现的一个超集，支持 xml 和注解两种方式定义域模型和映射关系。下层是数据库层，这里负责维护关系数据模型，包括表、字段、索引、主键和外键。业务逻辑层和数据库层之间通过 xml 或者注解联系起来，完成类和数据库表之间的映射，以支持 CRUD 的操作。\n",
    "\n",
    "ORM 的业务逻辑域模型被封装成 Data Access Object 对象，负责进行 CRUD 的操作。DAO 可以由 JDBC，DBUtiles，JdbcTemplate 来实现，也可以由 Hibernate，MyBatis 来实现。前者称之为工具，按照约定来进行简单映射，后者称之为框架，其中 Hibernate 使用 xml 文件或者注解进行域模型和数据模型的全自动关联，MyBaits 使用 xml 文件或者 Mapper 接口配合 SQL 进行域模型和数据模型的手动关联。"
   ]
  },
  {
   "cell_type": "markdown",
   "metadata": {},
   "source": [
    "# Hello World by Hibernate \n",
    "\n",
    "为了使用 Hibernate 创建 “Hello， World”，最基本的，我们需要有域模型内的 Java 持久化对象，此外还要指定此对象的 OID，属性和数据表列的对应，除此之外，我们还要指定数据库的登录和配置信息，这样，Hibernate 就可以自动在 Java 对象和 数据库表之间建立联系，支持 CRUD 了。在整个过程中，我们不需要编写 SQL，t"
   ]
  }
 ],
 "metadata": {
  "kernelspec": {
   "display_name": "Python 3",
   "language": "python",
   "name": "python3"
  },
  "language_info": {
   "codemirror_mode": {
    "name": "ipython",
    "version": 3
   },
   "file_extension": ".py",
   "mimetype": "text/x-python",
   "name": "python",
   "nbconvert_exporter": "python",
   "pygments_lexer": "ipython3",
   "version": "3.5.2"
  }
 },
 "nbformat": 4,
 "nbformat_minor": 2
}
