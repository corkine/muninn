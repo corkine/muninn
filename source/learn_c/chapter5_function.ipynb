{
 "cells": [
  {
   "cell_type": "markdown",
   "metadata": {},
   "source": [
    "<span type=\"title\">函数、数组和指针</span> | <span type=\"update\">2018-07-07</span> | <span type=\"version\">0.8</span>\n",
    "\n",
    "\n",
    "<span type=\"intro\"><p class=\"card-text\">本章主要讲解函数、数组和指针相关内容。</p></span>"
   ]
  },
  {
   "cell_type": "markdown",
   "metadata": {},
   "source": [
    "# 函数\n",
    "\n",
    "函数是一种封装，这种封装接受一些数据，然后经过某些运算后传出一些数据。毋庸置疑，函数的作用在于：对于自己：提供了一种代码复用的形式。对于他人，提供了一种不需要知道具体细节和实现就可以使用的黑箱。\n",
    "\n",
    "函数包括其参数、返回值类型、函数名称和函数体组成。和变量一样，函数需要定义，称之为函数原型。函数原型扩展了在不同文件中调用函数的能力。\n",
    "\n",
    "## 函数的原型\n",
    "\n",
    "函数原型包括 返回值类型、函数名称、参数或参数类型三部分构成。\n",
    "\n",
    "`float pow(float a, int b);` 其可以简写成 `float pow(float, int);`，省略形式参数的名称。\n",
    "\n",
    "函数原型可以放置在专有的文件中，称之为头文件，比如 `math.h`，而使用的时候，只需要告诉预编译器  `#include <math.h>`即可。函数原型不是必须的，对于较小的文件来说，只要函数的调用在函数的定义之后，就可以不写函数原型，或者说，现在的函数原型就是函数的定义。\n",
    "\n",
    "## 函数定义和调用\n",
    "\n",
    "函数定义包含了完整的函数结构，当调用函数时，程序会通过函数原型找到函数定义，然后去执行。函数定义类似于：\n",
    "\n",
    "```c\n",
    "float pow(float a, int b){\n",
    "    for (int i = 0; i < b;i++)\n",
    "    res *= a * b;\n",
    "    return res;\n",
    "}\n",
    "\n",
    "pow(10.3,20) //实参，是一些值\n",
    "```\n",
    "\n",
    "函数体中的a和b被称作形式参数，形式参数是一组变量，在调用时值被传递并且复制给形式参数。传递给形式参数的值称之为实际参数（实参），实参可以是任何能够生成值得东西，包括常量、变量以及表达式，实参总是将值传给形参，传递的总是值而不是变量，也就是说，传递过程是数据的复制过程。\n",
    "\n",
    "## 参数传递过程\n",
    "\n",
    "参数传递的机制大概如下：\n",
    "\n",
    "C程序会单独开辟一片内存空间用来放置给定的参数（实参），称之为Stack堆栈，然后根据形参的数据要求从堆栈中取出对应长度的数据，比如第一个形参要求float类型，C就从内存中取出float类型占的字节长度，如果碰巧传递过来的值是char类型，那么C就会很不智能的跨过边界，其取得值将包括这个char以及其堆栈后紧邻的部分数据，这回导致错误，这种错误在实参部分缺失或者实参和形参不匹配的情况下会出现。\n",
    "\n",
    "ANSI C 使用函数原型修复了不匹配数据类型的问题。\n",
    "\n",
    "## 变量作用域\n",
    "\n",
    "函数有变量的作用域问题。所有包含在函数内部的变量作用空间仅仅在其内部，而不会影响到外部的变量，除非是指针指向的地址。\n",
    "\n"
   ]
  },
  {
   "cell_type": "markdown",
   "metadata": {},
   "source": [
    "# 指针\n",
    "\n",
    "指针"
   ]
  }
 ],
 "metadata": {
  "kernelspec": {
   "display_name": "Python 3",
   "language": "python",
   "name": "python3"
  },
  "language_info": {
   "codemirror_mode": {
    "name": "ipython",
    "version": 3
   },
   "file_extension": ".py",
   "mimetype": "text/x-python",
   "name": "python",
   "nbconvert_exporter": "python",
   "pygments_lexer": "ipython3",
   "version": "3.5.2"
  }
 },
 "nbformat": 4,
 "nbformat_minor": 2
}
