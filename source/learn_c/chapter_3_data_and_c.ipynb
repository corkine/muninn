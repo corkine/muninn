{
 "cells": [
  {
   "cell_type": "markdown",
   "metadata": {},
   "source": [
    "# 3. 数据和C"
   ]
  },
  {
   "cell_type": "markdown",
   "metadata": {},
   "source": [
    "```c\n",
    "#include <stdio.h>\n",
    "int main(void) {\n",
    "    printf(\"Date:2018-05-19 Author：Corkine Ma\");\n",
    "    return 0;\n",
    "}\n",
    "```"
   ]
  },
  {
   "cell_type": "markdown",
   "metadata": {},
   "source": [
    "C的两大特征是快速和简洁，因此自带了很多数据类型，丰富的数据类型为不同硬件下C的运行提供了很好的发挥空间，常见的数据类型有`int, sort, long , unsigned, char, float, double, -Bool`. 使用 `sizeof()`可以获取当前的数据类型所占的byte数，比如在Qt-Win下，unsigned 8 byte，long long int 和 float 8 byte，int 4 byte。"
   ]
  },
  {
   "cell_type": "markdown",
   "metadata": {},
   "source": [
    "**获取输入**：使用 `scanf(\"%d\",&varname)` 获取用户输入，相当于input()在Python中的作用，不过可以自动转换为相应类型，并且varname还需要提前定义。"
   ]
  },
  {
   "cell_type": "markdown",
   "metadata": {},
   "source": [
    "**数据类型**：整数在计算机中的存储基本都是按照bit的位数来定义的，2 bit可以定义4个数字，8bit可以定义2**8个数字。符号单独在前面占一位进行定义，正数和负数的定义方式不同。小数的话，采用的是浮点数定义，也就是 aEb，其中a为E次方的乘数，b为E次方的指数。这三个元素分别存储在对应的比特中，符号另存。浮点数有精度的问题，其往往是真实数值的近似，计算速度慢。"
   ]
  },
  {
   "cell_type": "markdown",
   "metadata": {},
   "source": [
    "## 3.1 C数据类型简介\n",
    "\n",
    "### 3.1.1 int 类型\n",
    "\n",
    "int类型一般使用16bit定义，范围在-32768~32768之间。可以通过以下方法声明：\n",
    "\n",
    "```c\n",
    "int var_1;\n",
    "int var_2, var_3;\n",
    "int var_1 = 20;\n",
    "\n",
    "int var_1 = 20, var_2 = 30; //错误\n",
    "int var_1, var_2 = 30; //不推荐\n",
    "printf(\"var_1 is %d, var_2 is %d\",var_1,var_2);//如果少写，那么系统会随机从内存中取值，而不会报错。\n",
    "//如果类型不匹配, IDE会提醒，尽量不要不匹配，如果为了显示float，使用%.f来像整数一样显示即可。\n",
    "```\n",
    "\n",
    "初始化变量后，系统会自动将内存中某片区域给此变量，并且赋值。\n",
    "\n",
    "**不同进制**\n",
    "\n",
    "10进制int使用“%d”打印。\n",
    "\n",
    "8进制数字的写法为 octal，%o, %#o\n",
    "\n",
    "16进制的写法为 hex, %x, %#x\n",
    "\n",
    "其中带有#的表示显示前缀。\n",
    "\n",
    "**不同整型**\n",
    "\n",
    "其余整型有（方括号可不写）：\n",
    "\n",
    "- sort [int] 和int占有相同的bit，不过表示数字更小。打印使用%hd/ho/hx/hu\n",
    "\n",
    "- long [int] 表示数字更多，一般为32位。会减慢计算。打印使用%ld/lx/lo/lu\n",
    "\n",
    "- long long [int] 表示数字更多，一般为64位。64位推荐使用。打印使用%lld/llo/llx/llu\n",
    "\n",
    "- unsigned [int] 非负整数，相比较int可表示更大数值。一般用于计数。打印使用%u，如果是u long long int,使用%llu\n",
    "\n",
    "**整数溢出**\n",
    "\n",
    "不要错误的使用打印符号，请手动进行类型转换。\n",
    "\n",
    "注意，对于无符号变量使用%d会导致负值，这是因为非负数和整数表示方式不同。同样，short int 使用 %d ，不会出现什么问题，但是 long int使用 %d 会导致截断。\n",
    "\n",
    "超出600000多的int类型会溢出，溢出后会归零。负数会随机赋值。浮点数溢出精度后只会截断，不影响数据。\n",
    "\n"
   ]
  },
  {
   "cell_type": "markdown",
   "metadata": {},
   "source": [
    "### 3.1.2 char 类型\n",
    "\n",
    "char是ASCII码字符类型，使用单引号表示，而双引号则表示字符串。char的长度为1（char），即1个byte占有几个bit意味着1个char占有几个bit。\n",
    "\n",
    "```c\n",
    "char grade = 'A';//正确\n",
    "char grade = 65;//ASCII码，不推荐\n",
    "\n",
    "char beep = '\\007';\n",
    "char beep = '\\a';\n",
    "char beep = 7;//10进制\n",
    "//转义序列，不论是字幕还是各种进制的转义，都必须加引号\n",
    "\n",
    "char ret = 13;//10进制\n",
    "char ret = 015;//8进制\n",
    "char ret = 0xd;//16进制\n",
    "//这三种不同进制表示均可以，且不用加引号\n",
    "\n",
    "char var_a = \"B\"; char var_b = C;//统统错误\n",
    "```\n",
    "\n",
    "常见的有：\n",
    "\n",
    "- \\0oo 8进制\n",
    "\n",
    "- \\xhh 16进制\n",
    "\n",
    "- \\\" 双引号\n",
    "\n",
    "- \\' 单引号\n",
    "\n",
    "- \\\\ 反斜杠\n",
    "\n",
    "使用 `%e` 来打印char类型。\n",
    "\n",
    "使用 <inttypes.h> 来包含可移植的类型，比如uint32_t表示unsigned 32bit int，int16_t表示 16bit的有符号类型整数。"
   ]
  },
  {
   "cell_type": "markdown",
   "metadata": {},
   "source": [
    "### 3.1.3 float double 类型\n",
    "\n",
    "float为单精度数，标准规定其至少表示6位数，比如33.333 333，包含点和整数部分的6位数。通常系统使用32bit表示1个float，其中8位表示指数和符号，24位表示非指数和符号。\n",
    "\n",
    "double为双精度数。其至少表示10位数字。一般为64bit。此处的e好像不是数学中的$e$，而是10.\n",
    "\n",
    "```c\n",
    "double a = 27e-5;\n",
    "printf(\"a in double is %f, in e is %e\",a,a);\n",
    "//a in double is 0.000270, in e is 2.700000e-004\n",
    "\n",
    "double a = 27e1000;\n",
    "printf(\"a in double is %.10, in e is %e\",a,a);\n",
    "//a in double is , in e is 1.#INF00e+000\n",
    "```\n",
    "\n",
    "double和float类型都使用%f进行打印，使用%e表示E形式。\n",
    "\n",
    "进行比如 2.0 × 3.0 的计算，会默认使用double，但这有可能减慢速度，因此使用 2.0f × 3.0f 强制使用float类型计算。还有 2.0L和3.0L代表long double。\n",
    "\n",
    "小数溢出最大为INF，表示无穷大，最小为NaN，代表不是Number的Number类型的数。"
   ]
  },
  {
   "cell_type": "markdown",
   "metadata": {},
   "source": [
    "## 3.2 使用数据类型\n",
    "\n",
    "C需要声明数据，其会自动在声明的时候进行转换，比如\n",
    "\n",
    "```c\n",
    "int apple = 3;\n",
    "int orange = 3.0; // 不好\n",
    "int banana = 3.1; // 不好\n",
    "float pi = 3.141592654 //不好\n",
    "```\n",
    "\n",
    "除此之外，在打印的时候也容易出错，这里更应该小心，因为C不会自动转换数据。\n",
    "\n",
    "**转义序列的使用**\n",
    "\n",
    "```c\n",
    "float money;\n",
    "printf(\"小明科技公司涨薪计算\\n请输入你的薪水：￥_____\\b\\b\\b\\b\");\n",
    "scanf(\"%f\",&money);\n",
    "printf(\"\\n\\t%.2f 涨薪水后的工资为：%.2f\",money,money*1.3);\n",
    "printf(\"\\rGee!\\n\");\n",
    "```\n",
    "\n",
    "如上所示，\\r表示回到行首，\\n表示换行。\\b表示光标回退，但不删除回退过程中的东西。\n",
    "\n",
    "**刷新输出**\n",
    "\n",
    "有三种情况下会遇到刷新输出的问题，其一是缓冲区满的时候，其二为遇到换行符的时候，其三为需要输入的时候。"
   ]
  }
 ],
 "metadata": {
  "kernelspec": {
   "display_name": "Python 3",
   "language": "python",
   "name": "python3"
  },
  "language_info": {
   "codemirror_mode": {
    "name": "ipython",
    "version": 3
   },
   "file_extension": ".py",
   "mimetype": "text/x-python",
   "name": "python",
   "nbconvert_exporter": "python",
   "pygments_lexer": "ipython3",
   "version": "3.5.2"
  }
 },
 "nbformat": 4,
 "nbformat_minor": 2
}
