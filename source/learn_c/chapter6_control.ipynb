{
 "cells": [
  {
   "cell_type": "markdown",
   "metadata": {},
   "source": [
    "<span type=\"title\">控制语句、运算符优先级、文件I/O基础</span> | <span type=\"update\">2018-06-21</span> | <span type=\"version\">0.7</span>\n",
    "\n",
    "\n",
    "<span type=\"intro\"><p class=\"card-text\">本章主要讲解C语言的循环(while/do..while/for)、分支(if/switch)和跳转语句，这些语句/语法可以满足在C中进行逻辑控制的大多数需求。本章亦讲解了关系运算符、算术运算符、逻辑运算符、逗号运算符和条件运算符等运算符的作用和优先级。在使用语句的时候，这些运算符的处理非常重要。此外，本章穿插讲解了 getchar() 和 putchar() 等宏，以及 ctype.h 提供的字符函数。</p><p class=\"card-text\">在第二部分，重点介绍了文件I/O的基本知识，包括流，重定向以及如何确认输入内容。</span>"
   ]
  },
  {
   "cell_type": "markdown",
   "metadata": {},
   "source": []
  },
  {
   "cell_type": "markdown",
   "metadata": {},
   "source": []
  },
  {
   "cell_type": "markdown",
   "metadata": {},
   "source": []
  }
 ],
 "metadata": {
  "kernelspec": {
   "display_name": "Python 3",
   "language": "python",
   "name": "python3"
  },
  "language_info": {
   "codemirror_mode": {
    "name": "ipython",
    "version": 3
   },
   "file_extension": ".py",
   "mimetype": "text/x-python",
   "name": "python",
   "nbconvert_exporter": "python",
   "pygments_lexer": "ipython3",
   "version": "3.5.2"
  }
 },
 "nbformat": 4,
 "nbformat_minor": 2
}
