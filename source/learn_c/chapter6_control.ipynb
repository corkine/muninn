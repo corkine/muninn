{
 "cells": [
  {
   "cell_type": "markdown",
   "metadata": {},
   "source": [
    "<span type=\"title\">控制语句：循环、分支和跳转</span> | <span type=\"update\">2018-06-17</span> | <span type=\"version\">0.1</span>\n",
    "\n",
    "\n",
    "<span type=\"intro\">本章主要讲解C语言的循环、分支和跳转语句，这些语句/语法可以满足在C中进行逻辑控制的大多数需求。</span>"
   ]
  },
  {
   "cell_type": "markdown",
   "metadata": {},
   "source": [
    "# 循环语句\n",
    "\n",
    "C风格的循环常常用来连续读入数据：\n",
    "\n",
    "```c\n",
    "long int num;\n",
    "while (scanf(\"%ld\",&num) == 1){\n",
    "    printf(\"The number is %ld\\n\",num);\n",
    "    if (num == 233) break;\n",
    "}\n",
    "```\n",
    "```\n",
    "12 23 321\n",
    "The number is 12\n",
    "The number is 23\n",
    "The number is 321\n",
    "23 3213 321 a 23\n",
    "The number is 23\n",
    "The number is 3213\n",
    "The number is 321\n",
    "```\n",
    "\n",
    "这里很巧妙的利用了 scanf 读数据的返回值，当 scanf 没有读到合适的数据，那么就会返回0，终止读取，循环结束。\n",
    "\n"
   ]
  }
 ],
 "metadata": {
  "kernelspec": {
   "display_name": "Python 3",
   "language": "python",
   "name": "python3"
  },
  "language_info": {
   "codemirror_mode": {
    "name": "ipython",
    "version": 3
   },
   "file_extension": ".py",
   "mimetype": "text/x-python",
   "name": "python",
   "nbconvert_exporter": "python",
   "pygments_lexer": "ipython3",
   "version": "3.5.2"
  }
 },
 "nbformat": 4,
 "nbformat_minor": 2
}
