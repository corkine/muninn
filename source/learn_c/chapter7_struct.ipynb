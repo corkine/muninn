{
 "cells": [
  {
   "cell_type": "markdown",
   "metadata": {},
   "source": [
    "<span type=\"title\">结构体和链表</span> | <span type=\"update\">2018-07-11</span> | <span type=\"version\">0.9</span>\n",
    "\n",
    "\n",
    "<span type=\"intro\"><p class=\"card-text\">本章讲解结构体和链表</p></span>"
   ]
  },
  {
   "cell_type": "markdown",
   "metadata": {},
   "source": [
    "# 结构体\n",
    "\n",
    "结构体是一种复合数据结构，就其结构而言，其非常类似于数组，但和数组又有一定的区别。你可以认为结构体是yi'zh"
   ]
  }
 ],
 "metadata": {
  "kernelspec": {
   "display_name": "Python 3",
   "language": "python",
   "name": "python3"
  },
  "language_info": {
   "codemirror_mode": {
    "name": "ipython",
    "version": 3
   },
   "file_extension": ".py",
   "mimetype": "text/x-python",
   "name": "python",
   "nbconvert_exporter": "python",
   "pygments_lexer": "ipython3",
   "version": "3.5.2"
  }
 },
 "nbformat": 4,
 "nbformat_minor": 2
}
