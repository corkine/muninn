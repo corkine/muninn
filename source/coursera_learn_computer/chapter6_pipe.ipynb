{
 "cells": [
  {
   "cell_type": "markdown",
   "metadata": {},
   "source": [
    "<span type=\"title\">流水线处理器</span> | <span type=\"update\">2018-07-16</span> | <span type=\"version\">1</span>\n",
    "\n",
    "<span type=\"intro\"><p type=\"card-text\">本章主要介绍流水线处理器。</p></span>"
   ]
  },
  {
   "cell_type": "markdown",
   "metadata": {},
   "source": [
    "# 基本原理\n",
    "\n",
    "传统MIPS的执行指令主要分为五步，取指（存储器取指令，更新PC）、译码（寄存器堆读寄存器值）、执行（运算指令使用ALU，访存指令计算存储器地址）、访存（Load指令从储存器读数据，Store数据写入储存器），回写（将数据写入寄存器堆）。\n",
    "\n",
    "![](w6p1.png)\n",
    "\n",
    "如图的蓝色部分就是流水线寄存器所在位置，当添加流水线寄存器之后，在五个阶段进行的中间数据就得以保存，这样的话，当取指完成其功能后就进行下一条指令，**节省了时间，提高了时间连续性和吞吐率。**\n",
    "\n",
    "如果一条指令需要1000ps，每个部分需要200ps，那么对于单周期处理器而言，时钟周期为1000ps，对于流水线处理器而言，时钟周期为200ps。\n",
    "\n",
    "**那么，可以无限的划分流程，而无限的提高频率吗？**实际情况是，因为流水寄存器的消耗，每个部分会出现延迟，当划分段数越多，延迟越多。但是因为划分段数越多，指令频率越高，账面越好看，但是实际执行时间会随着每部分流水线组件交接的延时而拖累整体的执行速度。\n",
    "\n"
   ]
  },
  {
   "cell_type": "markdown",
   "metadata": {},
   "source": [
    "流水线的第二个问题是，如果每个阶段的运行时间不相等，那么就要以最慢的那个阶段为时钟频率。因此，尽可能的划分"
   ]
  }
 ],
 "metadata": {
  "kernelspec": {
   "display_name": "Python 3",
   "language": "python",
   "name": "python3"
  },
  "language_info": {
   "codemirror_mode": {
    "name": "ipython",
    "version": 3
   },
   "file_extension": ".py",
   "mimetype": "text/x-python",
   "name": "python",
   "nbconvert_exporter": "python",
   "pygments_lexer": "ipython3",
   "version": "3.5.2"
  }
 },
 "nbformat": 4,
 "nbformat_minor": 2
}
