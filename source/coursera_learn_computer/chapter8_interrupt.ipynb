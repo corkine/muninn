{
 "cells": [
  {
   "cell_type": "markdown",
   "metadata": {},
   "source": [
    "<span type=\"title\">异常和中断</span> | <span type=\"update\">2018-07-18</span> | <span type=\"version\">2</span>\n",
    "\n",
    "<span type=\"intro\"><p type=\"card-text\">本章主要讲解异常和中断。</p></span>"
   ]
  },
  {
   "cell_type": "markdown",
   "metadata": {},
   "source": [
    "# 中断和异常的来源\n",
    "\n",
    "- 第一个带有外部中断的系统：DYSEAC，1954年\n",
    "    - 有两个程序计数器（PC），根据I/O信号进行切换\n",
    "    \n",
    "- 第一个带有异常处理的系统：UNIVAC，1951年\n",
    "    - 当ALU运算出错，直接连线到PC，更新地址到00\n",
    "    - 算术运算溢出时：转向地址0执行两条修复指令，或者停机\n",
    "    - 1955年，UNIVAC 1103 增加了外部中断，用于风洞数据的实时收集\n",
    "    \n",
    "简要来说，将计算机的异常分为内部中断和外部中断，其中内部中断指的是因为ALU运行出错（比如结果溢出）导致的，而外部中断指的是I/O设备导致的（比如需要输入输出）。"
   ]
  },
  {
   "cell_type": "markdown",
   "metadata": {},
   "source": [
    "# 中断向量表的结构\n",
    "\n",
    "## Intel 8086\n",
    "\n",
    "存储器中保留两个专用区域\n",
    "- 中断向量表区：00000H~003FFH（地址最低的1KB）\n",
    "- 初始化程序区：FFFF0H~FFFFFH（地址最高的16B）\n",
    "\n"
   ]
  },
  {
   "cell_type": "markdown",
   "metadata": {},
   "source": [
    "![](w8p1.png)"
   ]
  },
  {
   "cell_type": "markdown",
   "metadata": {},
   "source": [
    "如上图所示，在8086的寄存器中的底端保存着中断向量表，这个表保存着对应错误指令对应的处理地址，其占有256*4个字节，可以处理256种错误。每个错误对应的地址有4个字节。\n",
    "\n",
    "其中前两个字节保存着中断服务程序入口地址的偏移量（IP），低字节在前，高字节在后。后两个字节保存段基值（CS），其中低字节在前，高字节在后。\n",
    "\n",
    "比如 06H 30H 00H 40H （由左到右为IP低，IP高，CS低，CS高）可以组成 4000H 3006H （分别对应CS,IP），合并起来就是 40003006H 这个物理地址。"
   ]
  },
  {
   "cell_type": "markdown",
   "metadata": {},
   "source": [
    "![](w8p2.png)"
   ]
  },
  {
   "cell_type": "markdown",
   "metadata": {},
   "source": []
  }
 ],
 "metadata": {
  "kernelspec": {
   "display_name": "Python 3",
   "language": "python",
   "name": "python3"
  },
  "language_info": {
   "codemirror_mode": {
    "name": "ipython",
    "version": 3
   },
   "file_extension": ".py",
   "mimetype": "text/x-python",
   "name": "python",
   "nbconvert_exporter": "python",
   "pygments_lexer": "ipython3",
   "version": "3.5.2"
  }
 },
 "nbformat": 4,
 "nbformat_minor": 2
}
