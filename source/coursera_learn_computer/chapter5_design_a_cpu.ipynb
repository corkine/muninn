{
 "cells": [
  {
   "cell_type": "markdown",
   "metadata": {},
   "source": [
    "<span type=\"title\">单周期处理器</span> | <span type=\"update\">2018-07-15</span> | <span type=\"version\">2</span>\n",
    "\n",
    "<span type=\"intro\"><p type=\"card-text\">本章主要讲解单周期处理器。</p></span>"
   ]
  },
  {
   "cell_type": "markdown",
   "metadata": {},
   "source": [
    "# 处理器的设计步骤\n",
    "\n",
    "- 分析指令，得出对数据通路的需求\n",
    "- 为数据通路选择合适的组件\n",
    "- 连接各部分组件以建立数据通路\n",
    "- 分析每条指令的实现，确定控制信号\n",
    "- 控制信号的整合，形成完整的控制逻辑\n",
    "\n",
    "# 1. 形成数据通路\n",
    "\n",
    "本章节主要实现六条指令的MIPS：\n",
    "\n",
    "- addu rd,rs,rt\n",
    "- subu rd,rs,rt\n",
    "- ori rt,rs,imm16\n",
    "- lw rt,imm16(rs)\n",
    "- sw rt,imm16(rs)\n",
    "- beq rs,rt,imm16\n",
    "\n",
    "这六条指令对应了储存器数据的存储、算术加减和立即数逻辑或运算，还有一条条件分支语句。\n",
    "\n",
    "根据我们的需求——实现六条MIPS语句，不难得出，我们需要以下部件：\n",
    "\n",
    "- ALU：可以支持加减、或、相等的比较，能够操作2个32位数，其来自寄存器或者扩展后的立即数。\n",
    "- 立即数扩展器：将16位立即数扩展为32位，支持零扩展和符号扩展\n",
    "- 程序计数器：32位的寄存器，用来保存程序指令地址。\n",
    "- 寄存器堆：每个寄存去32bit，共32个，zh"
   ]
  }
 ],
 "metadata": {
  "kernelspec": {
   "display_name": "Python 3",
   "language": "python",
   "name": "python3"
  },
  "language_info": {
   "codemirror_mode": {
    "name": "ipython",
    "version": 3
   },
   "file_extension": ".py",
   "mimetype": "text/x-python",
   "name": "python",
   "nbconvert_exporter": "python",
   "pygments_lexer": "ipython3",
   "version": "3.5.2"
  }
 },
 "nbformat": 4,
 "nbformat_minor": 2
}
