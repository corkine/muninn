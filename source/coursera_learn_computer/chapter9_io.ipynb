{
 "cells": [
  {
   "cell_type": "markdown",
   "metadata": {},
   "source": [
    "<span type=\"title\">输入输出设备</span> | <span type=\"update\">2018-07-19</span> | <span type=\"version\">1</span>\n",
    "\n",
    "<span type=\"intro\"><p type=\"card-text\">本章主要介绍输入输出设备。</p></span>"
   ]
  },
  {
   "cell_type": "markdown",
   "metadata": {},
   "source": [
    "# 输出输出接口的基本功能\n",
    "\n",
    "对于模型机而言，输入输出设备可以看作特殊的存储器，当需要输入时，PC通过地址总线到输入设备寻找数据，当控制总线发出“读”指令的时候，通过数据总线进行输入和处理。\n",
    "\n",
    "![](w9p1.png)\n",
    "\n",
    "如上图所示，I/O接口类似于存储器，但是功能却有重要的区别，其不仅包含了数据输入和输出的寄存器，还包含了状态、控制寄存器、中断控制逻辑，这些结构的目的是为了延缓外设读写和CPU处理数据之间的巨大的速度差距，避免外设连累CPU。当然，地址、数据、控制总线被用来将存储器和I/O接口与CPU连接起来。"
   ]
  },
  {
   "cell_type": "markdown",
   "metadata": {},
   "source": [
    "常见的简单外设使用并行数据接口进行连接。对于像单纯的LED数码管或者拨码开关这类设备，直接I/O接口通过8bit的并行数据输入输出和它们相连。"
   ]
  }
 ],
 "metadata": {
  "kernelspec": {
   "display_name": "Python 3",
   "language": "python",
   "name": "python3"
  },
  "language_info": {
   "codemirror_mode": {
    "name": "ipython",
    "version": 3
   },
   "file_extension": ".py",
   "mimetype": "text/x-python",
   "name": "python",
   "nbconvert_exporter": "python",
   "pygments_lexer": "ipython3",
   "version": "3.5.2"
  }
 },
 "nbformat": 4,
 "nbformat_minor": 2
}
