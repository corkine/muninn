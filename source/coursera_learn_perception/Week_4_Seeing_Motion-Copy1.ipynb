{
 "cells": [
  {
   "cell_type": "markdown",
   "metadata": {},
   "source": [
    "# 4. Seeing Motion"
   ]
  },
  {
   "cell_type": "markdown",
   "metadata": {},
   "source": [
    "Phy Motion的定义：Translation、rotation 欧几里得坐标系的平行和旋转\n",
    "\n",
    "Physical 速度导致视觉Perceived 速度感知\n",
    "\n",
    "Physical 距离导致了视觉Perceived 距离的感知\n",
    "\n",
    "本章主要内容有以下（括号内为主要因素）：\n",
    "- 表观运动（time）\n",
    "- 运动后效（tiring）\n",
    "- 闪光效应（speend）\n",
    "- 光圈效应（direction）\n"
   ]
  },
  {
   "cell_type": "markdown",
   "metadata": {},
   "source": [
    "## 4.1 Apparent Motion\n",
    "\n",
    "frame 1 ----time interval----> frame 2\n",
    "\n",
    "表观运动取决于一个合适的时间间隔，这个间隔过大，则两帧被认为是静止独立，若过小，则无法区分，只有满足闪光融合频率(60帧/s)以上，会感知到运动。"
   ]
  },
  {
   "cell_type": "markdown",
   "metadata": {},
   "source": [
    "## 4.2 After Effect\n",
    "\n",
    "现象A：盯住下降的瀑布，再看别处，别的地方似乎在上升。\n",
    "现象B：盯住白色背景的红色方块，移除方块，看到绿色方块。\n",
    "\n",
    "解释：人眼的一个特性就是每个地方（注视点）看几秒，如果长时间看某个东西，比如下降/某种颜色，那么关于此的神经元细胞激活过于频繁，则容易tiring，所以在移除后容易看到相反神经元的错误激活。？支持视觉颜色的对立理论？"
   ]
  },
  {
   "cell_type": "markdown",
   "metadata": {},
   "source": [
    "## 4.3 Inverse Problem\n",
    "\n",
    "反转问题在Motion上的表现是，我们不清楚外界的运动方向和速度变化，因为有很多外界不同物体变化会导致2D视网膜上呈现出相同的像，这种问题难以区分。"
   ]
  },
  {
   "cell_type": "markdown",
   "metadata": {},
   "source": [
    "## 4.4 Flash-Lag Effect\n",
    "\n",
    "![](seeingmotion1.png)"
   ]
  },
  {
   "cell_type": "markdown",
   "metadata": {},
   "source": [
    "\n",
    "当红色棍以不同速度向右移动，同时正好在通过闪光灯时给予一个闪光，如A所示，则实际感受到的现象为B和C，其中C的棍子运动速度更快，感知延迟更大。\n",
    "\n",
    "下图为心理物理实验结果:\n",
    "\n",
    "![](seeingmotion2.png)"
   ]
  },
  {
   "cell_type": "markdown",
   "metadata": {},
   "source": [
    "随着棍子速度变化，延迟越来越大，但是变化幅度减小。右图是为探究这一现象而进行的另一个实验，操纵3D世界物体速度以观察不同速度出现在2D中的概率。"
   ]
  },
  {
   "cell_type": "markdown",
   "metadata": {},
   "source": [
    "采用伪3D，使用计算机投射点，然后将这些点表示在3D空间中（因为技术原因，不能直接探知真实世界的点，因为录像的像是2D的），然后移动3D世界中的点（不知道怎么做到的），由于视网膜是2D的，因此3D的移动在2D转换中频率变化了，如下图所示：\n",
    "\n",
    "![](seeingmotion3.png)"
   ]
  },
  {
   "cell_type": "markdown",
   "metadata": {},
   "source": [
    "A显示随着物体速度变化的2D世界可能性，B为累计可能性。右下方为可能性和Lag之间的关系。可以看出，对于较小的速度，出现的概率大。这是因为，只有在视线平行于视网膜的平面上速度才有最大值，而一个斜着面向视网膜的物体，其在视网膜上的运动速度只是其真是速度的一个分量。"
   ]
  },
  {
   "cell_type": "markdown",
   "metadata": {},
   "source": [
    "## 4.5 Aperture Effects"
   ]
  },
  {
   "cell_type": "markdown",
   "metadata": {},
   "source": [
    "Wallach做的一个很有趣的系列实验：\n",
    "\n",
    "![](seeingmotion4.png)"
   ]
  },
  {
   "cell_type": "markdown",
   "metadata": {},
   "source": [
    "将一个斜棍子向右平移，如果给予一个圆形遮罩，则看起来它像是向着垂直于这根棍子的方向平移。当我们改变初始的棍子方向，结果都是一样——垂直于棍子的方向。\n",
    "\n",
    "采用和上面类似的方法，呈现出不同的3D棍子，以不同方向移动，观察哪一种出现的概率更高，绘制图像，如下所示：\n",
    "\n",
    "![](seeingmotion5.png)\n",
    "![](seeingmotion6.png)"
   ]
  },
  {
   "cell_type": "markdown",
   "metadata": {},
   "source": [
    "这个问题的关键在于我们只能看到遮罩之内的棍子，因此我们不清楚真实的物体运动方向。而不同的现实世界运动方向在对应视网膜方向时，其长度和速度都发生了变化，因此，我们得到的结果如下图，杏仁状为出现在各个方向上的可能性，其中垂直于棍子方向的运动可能性最大。同样的原因——因为我们看到的方向只是其投影在视网膜上的分量。"
   ]
  },
  {
   "cell_type": "markdown",
   "metadata": {},
   "source": [
    "![](seeingmotion7.png)\n",
    "![](seeingmotion8.png)"
   ]
  },
  {
   "cell_type": "markdown",
   "metadata": {},
   "source": [
    "为什么是垂直呢？因为垂直于物体的运动方向比其他运动方向更容易满足孔径。这是人类的经验所导致的。而对于垂直遮罩也是的，因为重力的作用，a有更大概率出现。\n",
    "\n",
    "什么叫做满足孔径？这里指的是，穿过孔径同时没有露出任何的端口。因为垂直的运动方向最常在孔径中发生这种现象，而对于别的方向，比如右图蓝色的线，必须有更长的线段才能够出现这种现象，因此，垂直方向比别的方向更容易出现这种现象。同样的，对于垂直孔径，垂直运动的线出现这种不露端口的线概率更大，更容易满足孔径，所以我们很大概率这样感知——垂直运动。"
   ]
  },
  {
   "cell_type": "markdown",
   "metadata": {},
   "source": [
    "看起来我们有一种默认反应的模型，来应对随机不确定的变化（不确定线段长度）。"
   ]
  }
 ],
 "metadata": {
  "kernelspec": {
   "display_name": "Python 3",
   "language": "python",
   "name": "python3"
  },
  "language_info": {
   "codemirror_mode": {
    "name": "ipython",
    "version": 3
   },
   "file_extension": ".py",
   "mimetype": "text/x-python",
   "name": "python",
   "nbconvert_exporter": "python",
   "pygments_lexer": "ipython3",
   "version": "3.5.2"
  }
 },
 "nbformat": 4,
 "nbformat_minor": 2
}
