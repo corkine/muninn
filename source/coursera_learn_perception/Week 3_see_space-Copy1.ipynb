{
 "cells": [
  {
   "cell_type": "markdown",
   "metadata": {},
   "source": [
    "# 1. Seeing Space\n",
    "\n",
    "## 1.1 Seeing Geometry\n",
    "\n",
    "通常意义上的Geometrical illusions 是不存在的，因为illusion 暗示了这样一种观点：我们能够真实的认识到世界的样子，但是我们的大脑难以对其做出正确的反应。而真实的情况是，我们压根看不到真实的Phy World，而大脑也并不像我们想象一直出错，而是在努力的猜测正确的外在世界样子。"
   ]
  },
  {
   "cell_type": "markdown",
   "metadata": {},
   "source": [
    "![](seespace1.png)"
   ]
  },
  {
   "cell_type": "markdown",
   "metadata": {},
   "source": [
    "如上图所示，A为Hering错觉，涉及角度判断，B为Poggendorff错觉，C为Inverted T（林肯帽子）错觉，D为Mueller-Lyer错觉，E为Ponzo错觉。F中红色桌子是绿色桌子转了90°。这些几何问题很有趣，其中有一些可以解释，但另外一些则还尚未被解释。\n",
    "\n",
    "关于Muller-layer错觉，我们没有一个直观的解释，一些人可能会把D中第一个图形看作一个从内部看的墙角，把第二个图形看作一个从外部看的墙角，这样的话，我们可以吧D和E看作一类，它们都涉及在2D平面上看到3D空间时发生的错误。\n",
    "\n",
    "对于A-C这三个错觉，它们都涉及到基本的角度和线段长度。"
   ]
  },
  {
   "cell_type": "markdown",
   "metadata": {},
   "source": [
    "### 1.1.1 Inverse Problem in Geometry\n",
    "\n",
    "![](seespace2.png)"
   ]
  },
  {
   "cell_type": "markdown",
   "metadata": {},
   "source": [
    "需要明白的几点是：\n",
    "\n",
    "1、我们永远无法感知到一个呈现在视网膜上相同的刺激所对应的几种不同物体，如上图所示。\n",
    "\n",
    "2、我们永远无法通过任何算法来逆向推导出真实世界中存在的这些不同物体。"
   ]
  },
  {
   "cell_type": "markdown",
   "metadata": {},
   "source": [
    "### 1.1.2 Seeing Length of Lines\n",
    "\n",
    "<img src=\"seeingspace3.png\" width=\"70%\" align=\"left\">"
   ]
  },
  {
   "cell_type": "markdown",
   "metadata": {},
   "source": [
    "如上图所示，我们总会认为纵向线段比横向更长，给定一个线段以让被试转化成为水平线段的心理物理函数如右图所示，X轴表示相比较水平的度数变化，Y轴表示感知到的线段长度和真实物理相等横线的差异，可以看出，从垂直方向30度倾斜的斜线有最高的错误比例，估计错误量大概为12%左右。"
   ]
  },
  {
   "cell_type": "markdown",
   "metadata": {},
   "source": [
    "<img src=\"seeingspace4.png\" width=\"50%\" height=\"50%\" align=\"left\">\n",
    "<img src=\"seeingspace5.png\" width=\"50%\" height=\"50%\" align=\"left\">"
   ]
  },
  {
   "cell_type": "markdown",
   "metadata": {},
   "source": [
    "使用激光测距仪（laser range finder）对于空间里的每个点进行距离测量，如上图左边所示。\n",
    "\n",
    "对于视网膜来说，有一些实际线段不会在视网膜上表示为线段。激光测距仪能够找出在同一平面（到眼球有相同距离的点所构成的面）的所有点，这些点在真实世界中构成的线条均为有效线条，而只要距离相差不太远的多个平面的所有可能点所组成的任何线条也是有效线条（白色），而那些相差太远的平面则构成无效线条（红色）。统计所有有效线段作为pool，然后统计各个角度和长度线段作为变量。\n",
    "\n",
    "之后测量了不同角度线条出现的频率，如下：\n",
    "\n",
    "<img src=\"seeingspace6.png\" width=\"50%\" height=\"50%\" align=\"left\">\n",
    "<img src=\"seeingspace7.png\" width=\"50%\" height=\"50%\" align=\"left\">"
   ]
  },
  {
   "cell_type": "markdown",
   "metadata": {},
   "source": [
    "0°表示水平，90°表示垂直。红色为垂直，蓝色为水平，可以看出，垂线在真实世界中出现的概率更高。这和之前的心理物理函数测量结果一致。\n",
    "\n",
    "还有一个有趣的问题，当横线和竖线占据图片的比率更大的时候，其感知的差别逐渐消失了。可能是因为很少有充斥整个视网膜的这种线段，或者我们遇到它们的概率近似。"
   ]
  },
  {
   "cell_type": "markdown",
   "metadata": {},
   "source": [
    "### 1.1.3 Seeing Angles\n",
    "\n",
    "![](seeingspace8.png)"
   ]
  },
  {
   "cell_type": "markdown",
   "metadata": {},
   "source": [
    "如上图所示，对于B，我们感知到的红线总是向左偏斜，在C上可以明显看出，四条红线不平行的效应，在D上的表示为红线弯曲。A是我们的结果，对于锐角，我们倾向于将其估计的更大，对于钝角，我们倾向于将其估计的更小。"
   ]
  },
  {
   "cell_type": "markdown",
   "metadata": {},
   "source": [
    "![](seeingspace9.png)\n",
    "\n",
    "<img src=\"seeingspace10.png\" width=\"50%\" height=\"50%\" align=\"left\">"
   ]
  },
  {
   "cell_type": "markdown",
   "metadata": {},
   "source": [
    "如上图所示，结果显示，对于人工和自然界都存在的物体，锐角和钝角出现的概率更高（同样使用激光测距仪得到的数据）。而直角的概率更低，考虑到不同的直角摆放方式，这一结论仍然成立。\n",
    "\n",
    "我们的解释是：相同长度的两根线组成的直角占据最大的面积，而这么大的面积里必然会存在更多的小面积图形，而这些小面积图形则是由锐角和钝角构成，因此，锐角和钝角总是比直角更多。"
   ]
  },
  {
   "cell_type": "markdown",
   "metadata": {},
   "source": [
    "### 1.1.4 Seeing Object Size\n",
    "\n",
    "<img src=\"seeingspace11.png\" width=\"50%\" height=\"50%\" align=\"left\">\n",
    "\n",
    "<img src=\"seeingspace12.png\" width=\"50%\" height=\"50%\" align=\"left\">"
   ]
  },
  {
   "cell_type": "markdown",
   "metadata": {},
   "source": [
    "如上图所示，我们需要估计灰色圆球的大小。可以看出，这里和颜色-明度的情况非常类似，背景信息影响我们对于物体大小的知觉。\n",
    "\n",
    "这项研究是艾宾浩斯所做出的。其控制三种条件，如图A三种不同大小实心圆球，和空心比较，结果如B图所示，相对较小的圆球出现概率最高，相对较大的圆球概率较低。但是当中心圆球变得更大，也就是小球变得更小，其出现概率随之降低。"
   ]
  },
  {
   "cell_type": "markdown",
   "metadata": {},
   "source": [
    " ### 1.1.5 Summary #1\n",
    "\n",
    "我们的结论是，我们不能够知道真实世界的图像，我们必须去猜测其出现的可能性。对物体的知觉并非是基于其特征和表现，而是基于猜测的准确性和累计的错误经验。证据支持了这种假设。"
   ]
  },
  {
   "cell_type": "markdown",
   "metadata": {},
   "source": [
    "## 1.2 Seeing Distance with One Eye\n",
    "\n",
    "定义距离（Distance）指的是一种单眼知觉（monocularly），其表示我们能够感知到场景中的对象的距离。（Distance只涉及单眼知觉，没有双眼差异）\n",
    "\n",
    "定义深度（Depth）表示stereopisis（立体知觉），指的是一种由双眼知觉（binocularly）所调节的对深度的认识。"
   ]
  },
  {
   "cell_type": "markdown",
   "metadata": {},
   "source": [
    "<img src=\"seeingspace13.png\" width=\"50%\" height=\"50%\" align=\"left\">"
   ]
  },
  {
   "cell_type": "markdown",
   "metadata": {},
   "source": [
    "### 1.2.1 Cues\n",
    "\n",
    "常见的单眼视觉线索有：\n",
    "\n",
    "1、最重要的：透视——一种几何关系，近大远小\n",
    "\n",
    "2、遮挡：被遮挡的物体一般位于远处\n",
    "\n",
    "3、空气透视：由于蓝天反射蓝色光纤，还有空气过滤掉部分远处物体光线，因此远处物体看起来更蓝、更模糊\n",
    "\n",
    "4、运动错觉：近处的物体运动更快，远处更慢。"
   ]
  },
  {
   "cell_type": "markdown",
   "metadata": {},
   "source": [
    "### 1.2.2 Distance “illustion” Explanation\n",
    "\n",
    "除此之外，还有一个非常有意思的问题：\n",
    "\n",
    "<img src=\"seeingspace14.png\" width=\"50%\" height=\"50%\" align=\"left\">"
   ]
  },
  {
   "cell_type": "markdown",
   "metadata": {},
   "source": [
    "当我们俯视和仰视物体时，我们估计物体和我们的距离会发生变化。对于俯视而言，估计距离总是小于实际距离，并且其差异逐渐随着俯视角度增大而减小。（低估）。也就是说，当越来越接近平视的时候，估计准确度变得更低。\n",
    "\n",
    "在平视的时候更有趣，当距离较近的时候，我们估计到的距离更远。但当距离较远的时候，我们估计的距离更近。\n",
    "\n",
    "在仰视的时候，情况和俯视相反，我们估计到的距离相比真实距离更远。（高估）"
   ]
  },
  {
   "cell_type": "markdown",
   "metadata": {},
   "source": [
    "<img src=\"seeingspace15.png\" width=\"70%\" height=\"50%\" align=\"left\">"
   ]
  },
  {
   "cell_type": "markdown",
   "metadata": {},
   "source": [
    "同样的，使用laser range finder进行研究。不同颜色表示不同的可能性，可以看到，最高可能发生在较近的俯视，在这里我们倾向于低估，准确性较高。而距离较远的俯视可能性很低，在这里我们估计的准确性较差，但依旧倾向于低估。而中等概率发生在仰视和较近的平视，在这里我们倾向于高估。"
   ]
  },
  {
   "cell_type": "markdown",
   "metadata": {},
   "source": [
    "我的解释（一种可能性）：对于俯视，我们很容易遇到别的物体，所以低估有利于警戒。而远处的物体，虽然其出现概率较低，但是可能有奔跑速度很快的哺乳动物，我们自己也可以跑得很快，所以依旧是低估，由于距离增多，判断的线索较少或者因为在这个地方面对的生存压力最大，因此估计准确性最低（被严重加权）。而对于样式，我们很少遇到物体，所以倾向于高估以减少大脑压力，对于较近的平视和仰视类似。对于较远的平视，其遇到物体的概率也不高，但是估计面临较大的生存压力，所以也倾向于低估。\n",
    "\n",
    "所以我认为，可能是进化的压力导致的对于俯视和仰视、平视的这种出现概率×重要性加权的视觉距离估计响应模式。"
   ]
  },
  {
   "cell_type": "markdown",
   "metadata": {},
   "source": [
    "## 1.3 Seeing Depth with Two Eyes (Stereopsis)"
   ]
  },
  {
   "cell_type": "markdown",
   "metadata": {},
   "source": [
    "### 1.3.1 Basic Stereopsis\n",
    "\n",
    "实际上，很多动物都没有深度视觉，但是它们依然生活的很好，而那些只有一个眼能够工作的人生活上也没有太大的问题。但是，拿两个笔，试着将笔头怼在一起，你会发现双眼比单眼容易的多，这就是深度视觉的作用。深度视觉的物理原理非常简单，就是因为6.5cm远的双眼距离导致成像的不同，这导致了视网膜上存在这双眼时差，和之前一样，双眼视差是一个不可逆问题。双眼时差如何被转换、通信如何被加工，在神经层面上还有各种现象层面上都没有很好的被解决。"
   ]
  },
  {
   "cell_type": "markdown",
   "metadata": {},
   "source": [
    "<img src=\"seeingspace16.png\" width=\"70%\" height=\"50%\" align=\"left\">\n"
   ]
  },
  {
   "cell_type": "markdown",
   "metadata": {},
   "source": [
    "Wheatstone是最早研究双眼视觉的科学家。其观察到，左右眼在注视同一个点的情况下，视野中的图像是不同的。造成这种结果的原因是——当我们在注视某个东西时，对于非注视点，其在固定不动的双眼中所成的像的位置存在差异，这造成了视觉上左右眼的不同。stereopsis toy就是利用了这种原理，给左右眼呈现不同的图案，这些图案对应视网膜上的左右眼不同的像，然后大脑就像感知到立体物体一样感知到这些差异。"
   ]
  },
  {
   "cell_type": "markdown",
   "metadata": {},
   "source": [
    "Wheatstone’s “pseudoscope” 幻视镜是一种很特别的东西，其在左右眼经过的路线上各加上了一个三棱镜，导致左眼能看到右眼的线索，右眼能看到左眼的线索。像是倒的。\n",
    "\n",
    "<img src=\"seeingspace17.png\" height=\"30%\" align=\"left\">"
   ]
  },
  {
   "cell_type": "markdown",
   "metadata": {},
   "source": [
    "如下图所示，我们认为双眼视觉的一个解释在于，对于圆弧⌒上的点，其具有和视网膜相同的距离，我们认为其深度相同。而当视觉注视在黑点的时候，近处的物体透过当前固定的眼球在左右眼形成不同位置的像，一个为p，一个为q，p和q的差异就是深度知觉产生的物理基础。远处点类似，n和m的差异就是远处的深度知觉。\n",
    "\n",
    "需要注意，深度知觉只有30m左右，再大的距离，双眼看到的像的差异过小，就很难产生深度知觉。"
   ]
  },
  {
   "cell_type": "markdown",
   "metadata": {},
   "source": [
    "![](seeingspace18.png)"
   ]
  },
  {
   "cell_type": "markdown",
   "metadata": {},
   "source": [
    "下面深入思考一下在视网膜之后，当信息被传递到丘脑和V1皮层发生的情况：\n",
    "![](seeingspace19.png)"
   ]
  },
  {
   "cell_type": "markdown",
   "metadata": {},
   "source": [
    "解剖神经科学家发现了初级视觉皮层上有分别对于远距离、近距离、中距离进行不同相应的细胞类型的存在，这是双眼问题在100年以来取得的比较重要的成果。"
   ]
  },
  {
   "cell_type": "markdown",
   "metadata": {},
   "source": [
    "### 1.3.2 The Inverse Problem"
   ]
  },
  {
   "cell_type": "markdown",
   "metadata": {},
   "source": [
    "真实世界中的像的特征包括其几何特征我们并不清楚，并且不能够通过任何的探测或者算法来了解。通信问题是立体知觉中不可知的外在刺激的表现。也就是说，我们不清楚外界的深度信息，但是我们有一个双眼的视差，pq和nm，我们只知道这个差别，任何外在刺激能够相同表现这个差别的，即便其位置不同，我们也无法计算和知晓。这就是不可逆问题在双眼视觉中的表述。\n",
    "\n",
    "![](seeingspace24.png)"
   ]
  },
  {
   "cell_type": "markdown",
   "metadata": {},
   "source": [
    "如上，1和2的深度知觉差异与1和3的深度知觉差异相同，并且我们不能够根据视网膜上的深度差异探知刺激是1和2还是1和3."
   ]
  },
  {
   "cell_type": "markdown",
   "metadata": {},
   "source": [
    "### 1.3.3 The Correspondence Problem # Behavior"
   ]
  },
  {
   "cell_type": "markdown",
   "metadata": {},
   "source": [
    "**Julesz Random Dots Stereograms实验**\n",
    "\n",
    "![](seeingspace23.png)"
   ]
  },
  {
   "cell_type": "markdown",
   "metadata": {},
   "source": [
    "如上所示是Béla Julesz的Random Dot Stereograms实验。这个实验是为了解决The Correspondence Problem存在的。通信问题指的是，左右眼如何将视觉差异合并在一起？\n",
    "\n",
    "在这个试验中，要求被试双眼分别观察左右两个随机点，当在右眼看到一个物体时，在左眼会期望有一个物体的近似的视觉，但是左边仅仅是随机点，所以我们就人为的建构出一个稍微有差异的像，这导致了我们在随机点上看到了立体的物体，可能是一个凹陷的方形或者是一个凹陷的圆。"
   ]
  },
  {
   "cell_type": "markdown",
   "metadata": {},
   "source": [
    "**Sherrington闪光融合实验**\n",
    "\n",
    "![](seeingspace21.png)"
   ]
  },
  {
   "cell_type": "markdown",
   "metadata": {},
   "source": [
    "如上图所示的是Charles Sherrington所做的实验，左右眼观察不同的闪光频率。我们猜测，同步左右眼导致闪光频率不会变化，而异步则会导致闪光频率发生变化，因为间隔减小了。但是实际没有出现变化，异步情况下，闪光融合频率和同步一样。这导致了双眼视觉如何融合的这个问题变得十分棘手。"
   ]
  },
  {
   "cell_type": "markdown",
   "metadata": {},
   "source": [
    "**Binocular Rivalry**\n",
    "![](seeingspace22.png)"
   ]
  },
  {
   "cell_type": "markdown",
   "metadata": {},
   "source": [
    "双眼似乎存在着一种竞争的关系，当我们试图融合竖线条的左眼和横线条的右眼，我们并非完整的看到格子，而是一些奇怪的，不断变化的东西，这个现象到现在没有完美的解释。"
   ]
  },
  {
   "cell_type": "markdown",
   "metadata": {},
   "source": [
    "### 1.3.4 The Correspondence Problem # Neuros"
   ]
  },
  {
   "cell_type": "markdown",
   "metadata": {},
   "source": [
    "![](seeingspace20.png)"
   ]
  },
  {
   "cell_type": "markdown",
   "metadata": {},
   "source": [
    "我们知道，在视网膜上的细胞会经过中央交叉到达丘脑，然后到达视觉皮层，如上，左右眼的细胞经过丘脑，丘脑外侧膝状体的6层如图所示，其中2、3、5为右眼细胞，1、4、6为左眼细胞。在视觉皮层的第四层进行混合，但是有趣的是，单眼细胞和双眼细胞存在于第2、3、5、6层，而不存在于第4层。也就是说，左右眼的信息尚未在第四层进行整合，但莫名其妙的在别的层进行了转换。"
   ]
  }
 ],
 "metadata": {
  "kernelspec": {
   "display_name": "Python 3",
   "language": "python",
   "name": "python3"
  },
  "language_info": {
   "codemirror_mode": {
    "name": "ipython",
    "version": 3
   },
   "file_extension": ".py",
   "mimetype": "text/x-python",
   "name": "python",
   "nbconvert_exporter": "python",
   "pygments_lexer": "ipython3",
   "version": "3.5.2"
  }
 },
 "nbformat": 4,
 "nbformat_minor": 2
}
