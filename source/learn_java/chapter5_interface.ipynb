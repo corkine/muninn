{
 "cells": [
  {
   "cell_type": "markdown",
   "metadata": {},
   "source": [
    "<span type=\"title\">接口</span> | <span type=\"update\">2018-07-21</span> - Version <span type=\"version\">1.0</span>\n",
    "    \n",
    "    \n",
    "<span type=\"intro\"><p class=\"card-text\">本章主要讲解接口。</p></span>"
   ]
  },
  {
   "cell_type": "markdown",
   "metadata": {},
   "source": [
    "# 抽象类和抽象方法\n",
    "\n",
    "在上一章的多态中，提到了基类方法用作接口的API设计。Java提供了一个叫做 `abstract` 的关键字，使用此关键字限定的类有以下特性：\n",
    "- 不可使用构造器构造抽象类\n",
    "- 在抽象类中定义的抽象方法必须在继承中重载\n",
    "- 在抽象类中可以定义非抽象方法，导出类可以重载，也可以不重载\n",
    "\n",
    "抽象类介于接口和普通类之间。其提供了一种清晰的抽象，避免程序员犯傻去构造这种用作接口的基类，或者忘记重载这些类的方法。同时，又不像接口那样，只要方法没有使用抽象关键字定义，那么导出类可以选择重载或者不重载，这样就很灵活。\n",
    "\n",
    "```java\n",
    "/Music.java\n",
    "import static com.mazhangjing.Print.*; import java.util.*;\n",
    "enum Note {MIDDLE_C, C_SHAPE, B_FLAT;}\n",
    "//重载类名使用abstract限定\n",
    "abstract class Instrument {\n",
    "    //重载方法是用abstract限定，必须提供输入、输出类型、名称，不能写方法体。\n",
    "    //如果定义抽象方法，则必须定义抽象类，并且删除抽象方法的方法体。\n",
    "\tabstract void play(Note n);\n",
    "\tpublic String toString() {return \"Instrument\";}//不需要完全重载所有方法\n",
    "\tabstract void adjust();\n",
    "}\n",
    "class Wind extends Instrument {\n",
    "\tvoid play(Note n) {print(\"Wind.play() \" + n);}\n",
    "\tvoid adjust() {print(\"Adjusting Wind\");}\n",
    "}\n",
    "class Stringed extends Instrument {\n",
    "\tvoid play(Note n) {print(\"Stringed.play() \" + n);}\n",
    "\tvoid adjust() {print(\"Adjusting Stringed\");}\n",
    "    //继承抽象类的导出类必须全部实现抽象方法定义，其中包含方法体\n",
    "    //可以看作是抽象类的具体实现\n",
    "}\n",
    "class Brass extends Wind {\n",
    "\tvoid adjust() {print(\"Adjusting Brass\");}\n",
    "\t//因为Brass并非Instrument直接导出类，因此其可以没有play()方法，由于动态绑定，会到Wind寻找\n",
    "}\n",
    "\n",
    "public class Music {\n",
    "\tpublic static void tune(Instrument i){i.play(Note.MIDDLE_C);}\n",
    "\tpublic static void turnAll(Instrument[] e){for (Instrument i : e){tune(i);}}\n",
    "\tpublic static void main(String[] args){\n",
    "\t\tInstrument[] orchestra = {\n",
    "\t\t\tnew Wind(),new Stringed(),new Brass()};\n",
    "\t\tturnAll(orchestra);\n",
    "\t\t//Instrument x = new Instrument();\n",
    "\t\t//Instrument is abstract; 不能构造抽象类\n",
    "\t}\n",
    "}\n",
    "```"
   ]
  }
 ],
 "metadata": {
  "kernelspec": {
   "display_name": "Python 3",
   "language": "python",
   "name": "python3"
  },
  "language_info": {
   "codemirror_mode": {
    "name": "ipython",
    "version": 3
   },
   "file_extension": ".py",
   "mimetype": "text/x-python",
   "name": "python",
   "nbconvert_exporter": "python",
   "pygments_lexer": "ipython3",
   "version": "3.5.2"
  }
 },
 "nbformat": 4,
 "nbformat_minor": 2
}
