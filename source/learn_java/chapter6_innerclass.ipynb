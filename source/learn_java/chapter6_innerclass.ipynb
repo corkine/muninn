{
 "cells": [
  {
   "cell_type": "markdown",
   "metadata": {},
   "source": [
    "<span type=\"title\">内部类</span> | <span type=\"update\">2018-07-23</span> - Version <span type=\"version\">1.0</span>\n",
    "    \n",
    "    \n",
    "<span type=\"intro\"><p class=\"card-text\">本章主要讲解内部类。</p></span>"
   ]
  }
 ],
 "metadata": {
  "kernelspec": {
   "display_name": "Python 3",
   "language": "python",
   "name": "python3"
  },
  "language_info": {
   "codemirror_mode": {
    "name": "ipython",
    "version": 3
   },
   "file_extension": ".py",
   "mimetype": "text/x-python",
   "name": "python",
   "nbconvert_exporter": "python",
   "pygments_lexer": "ipython3",
   "version": "3.5.2"
  }
 },
 "nbformat": 4,
 "nbformat_minor": 2
}
