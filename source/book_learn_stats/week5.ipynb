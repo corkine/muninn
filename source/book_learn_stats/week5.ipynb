{
 "cells": [
  {
   "cell_type": "markdown",
   "metadata": {},
   "source": [
    "<span type=\"title\">概率密度函数PDF、连续概率分布</span> | <span type=\"version\">0.8</span> | <span type=\"update\">2018-06-17</span>\n",
    "\n",
    "<span type=\"intro\">本周主要介绍概率密度函数PDF的定义、期望值和变异数的定义，并且介绍了几种连续的概率分布形式的PDF、CDF以及其变异数和期望值。</span>"
   ]
  },
  {
   "cell_type": "markdown",
   "metadata": {},
   "source": [
    "# 连续概率分布的 PDF\n",
    "\n",
    "## PDF\n",
    "\n",
    "对于连续分布而言，没有PMF，因为有无穷多的点，而这些点对应的PMF则为0，但是合起来的话，值又为1.因此采用PDF的定义来代替PMF，定义如下：\n",
    "\n",
    "$$PDF = f_X(x)=lim_{\\Delta x -> 0}\\frac{P(x\\le X\\le x + \\Delta x)}{\\Delta x} = lim_{\\Delta -> 0}\\frac{F_X(x+\\Delta x)-F_X(x)}{\\Delta x} = F^{'}_X(x)$$\n",
    "\n",
    "此外，PDF还有以下两点性质：$（1）：\\int_{-∞}^∞f_X(x)dx=1;（2）：f_X(x)\\ge0$\n",
    "\n",
    "对于每个点来说，其PDF为0。对于第一点性质，需要注意：对于一小段来说，其PDF($f_X$)可以大于1。只要保证 $f_X{(x)}*\\Delta x$ 小于1即可。\n",
    "\n",
    "## CDF\n",
    "\n",
    "连续分布的PDF的定义建立起了CDF和PDF的关系：PDF是CDF的导数。如下：\n",
    "\n",
    "$$CDF = F_X(x) = \\int_{-∞}^xf_X(u)du$$\n",
    "\n",
    "## Probability\n",
    "\n",
    "根据这个定义，很容易求出来一段的概率，使用CDF的差，也就是PDF的积分即可。\n",
    "\n",
    "**对于一段概率**\n",
    "\n",
    "$$P(a\\lt X \\le b)=F_X(b)-F_X(a) = \\int_{-∞}^{b}f_X(x)dx - \\int_{-∞}^af_X(x)dx = \\int_a^bf_X(x)dx$$\n",
    "\n",
    "**对于一点概率**\n",
    "\n",
    "$$f_X(x)=lim_{\\Delta x -> 0}\\frac{P(x\\le X\\le x + \\Delta x)}{\\Delta x}$$\n",
    "\n",
    "约等于这一点的长度乘以其PDF\n",
    "\n",
    "$$P(x\\le X \\le x+\\Delta x)≈f_X(x)\\Delta x$$"
   ]
  },
  {
   "cell_type": "markdown",
   "metadata": {},
   "source": [
    "# 连续概率分布模型\n",
    "\n",
    "## Uniform 概率分布\n",
    "\n",
    "这种分布和离散Uniform很类似，不过，也有一定的不同。\n",
    "\n",
    "![](w5p1.png)\n",
    "\n",
    "一个例子就是公交车每10分钟一班，一个人随机到站台等车。等到车所需的时间的分布，是一个Uniform的连续分布，X~UNIF(0,10)"
   ]
  },
  {
   "cell_type": "markdown",
   "metadata": {},
   "source": [
    "## Exponential 概率分布\n",
    "\n",
    "其只有一个参数，$\\lambda$，如下所示，此分布**没有记忆性**，这一点需要注意。可以被用来对于出门化妆所用时间，打游戏所有时间建模。不能对于寿命建模，因为80岁的时候，其寿命取决于80岁这一时间点，如果使用 Exp 分布，那么其和0岁的寿命有相同的分布。\n",
    "\n",
    "此外，它的CDF可以推导出来一个很漂亮的表达式，$PDF = \\lambda e^{-\\lambda x}; CDF = 1-e^{-\\lambda x}$\n",
    "\n",
    "![](w5p2.png)"
   ]
  },
  {
   "cell_type": "markdown",
   "metadata": {},
   "source": [
    "## Erlang 概率分布\n",
    "\n",
    "其相当于包含一件有多个关卡的时间，每个关卡的时间都是随机的。类似于多重的 Exponential 分布，接受两个参数，$n,\\lambda$。比如，打完三盘游戏的所需时间：$Erlang(3,\\lambda)$\n",
    "\n",
    "![](w5p3.png)\n",
    "\n",
    "![](w5p4.png)"
   ]
  },
  {
   "cell_type": "markdown",
   "metadata": {},
   "source": [
    "## Gaussian 概率分布\n",
    "\n",
    "此分布又称作常态分布，典型的钟形曲线。其在自然界很常见，比如人口身高的分布、体重的分布。更有意思的是，对于**大量的随机量的和的分布**，比如100个人吃饭的总时间，和高斯分布也非常拟合。\n",
    "\n",
    "$$高斯分布可以写成这两种形式：X~-Gaussian(\\mu,\\sigma) ~~ X ~- N(\\mu,\\sigma^2)$$\n",
    "\n",
    "$$PDF = f_X(x) = \\frac{1}{\\sqrt{2\\pi}\\sigma}e^{-\\frac{(x-\\mu)^2}{2𝝈^2}}$$\n"
   ]
  },
  {
   "cell_type": "markdown",
   "metadata": {},
   "source": [
    "因为 Gaussian 分布的 CDF 不可积分，因此使用查表的方法计算。\n",
    "\n",
    "规定标准高斯分布如下：\n",
    "\n",
    "$$Z -~ N(0,1) ~~~ f_Z(z)=\\frac{1}{\\sqrt{2\\pi}}e^{-\\frac{z^2}{2}}$$\n",
    "\n",
    "$$简写CDF为：F_Z(z) = \\Phi(z) = \\int_{-∞}^z\\frac{1}{\\sqrt{2\\pi}}e^{-\\frac{\\mu^2}{2}}d\\mu$$\n",
    "\n",
    "仔细思考，可以得到：$$\\Phi(-z)=1-\\Phi{z}$$"
   ]
  },
  {
   "cell_type": "markdown",
   "metadata": {},
   "source": [
    "**高斯分布的归一化**\n",
    "\n",
    "**1. 对于任何$X~- N(\\mu,\\sigma^2)$而言，$\\frac{X-\\mu}{\\sigma} ~- N(0,1)$**\n",
    "\n",
    "对于X的CDF,如下表示：\n",
    "\n",
    "$$f_X(x) = \\frac{1}{\\sqrt{2\\pi}\\sigma} e^{-\\frac{(x-\\mu)^2}{2\\sigma^2}}$$\n",
    "\n",
    "如果$\\frac{X-\\mu}{\\sigma}$的CDF如下，等于$\\Phi(z)$,那么即可证明：\n",
    "\n",
    "$$P(\\frac{X-\\mu}{\\sigma}\\le z)=P(X\\le\\mu+\\sigma z)=\\int_{-∞}^{\\mu+\\sigma z}\\frac{1}{\\sqrt{2\\pi}\\sigma}e^{-\\frac{(x-\\mu)^2}{2\\sigma^2}}dx\\\\\n",
    "令 w=\\frac{x-\\mu}{\\sigma} => P(\\frac{X-\\mu}{\\sigma}\\le z) => \\int_{-∞}^z\\frac{1}{2\\pi}e^{-\\frac{w^2}{2}}dw = \\Phi(z)$$\n",
    "\n",
    "**2. 对于任何$X~- N(\\mu,\\sigma^2)$而言，$F_X(x) = \\Phi(\\frac{x-\\mu}{\\sigma})$**\n",
    "\n",
    "这个很容易证明，根据CDF定义和上式的推导：\n",
    "\n",
    "$F_X(x)=P(X\\le x) = P(X-\\mu \\le x-\\mu)=P(\\frac{X-\\mu}{\\sigma}\\le\\frac{x-\\mu}{\\sigma})=\\Phi(\\frac{x-\\mu}{\\sigma})$\n",
    "\n",
    "<u>通过以上两条的证明，可以得到，对于任意随机变数X，减去u，除以σ，得到的随机变数服从标准高斯分布。</u>"
   ]
  },
  {
   "cell_type": "markdown",
   "metadata": {},
   "source": [
    "# 期望值\n",
    "\n",
    "## 从大数法则说起\n",
    "\n",
    "大数法则指的是，对于多次实验N，记录的事件A出现的比率接近于实际的概率。\n",
    "\n",
    "\n",
    "$$P(A)=lim_{N->∞}\\frac{N_A}{N}$$\n",
    "\n",
    "对于一个样本空间 {1,2,3...,n}，做实验N次，那么记录各结果出现的次数，分别为$N_1,N_2...$，那么，$mean = \\sum_{x=1}^n\\frac{xN_x}{N}$ （次数乘以其概率之和）\n",
    "\n",
    "根据大数法则：\n",
    "\n",
    "$$\\lim_{N->∞}\\frac{N_x}{N}=P_X(x) => \\lim_{N->∞} mean = \\lim_{N->∞}\\sum_{n=1}^nx\\frac{N_x}{N}=\\sum_{x=1}^nxP_X(x)$$"
   ]
  },
  {
   "cell_type": "markdown",
   "metadata": {},
   "source": [
    "## 期望值的定义\n",
    "\n",
    "因此，定义期望值，也就是 mean 为：\n",
    "\n",
    "$$E[X]=\\mu_X = \\sum_{x=-∞}^{∞}xP_X(x)$$\n",
    "\n",
    "## 期望值的运算\n",
    "\n",
    "对于期望值的函数运算，只改变其本身，而不改变$P_X(x)$\n",
    "\n",
    "对于常数乘法可以提出来，对于加法可以分开算。\n",
    "\n",
    "$$E[g(X)]=\\mu_X = \\sum_{x=-∞}^{∞}g(x)P_X(x)$$\n",
    "\n",
    "$$E[a·g(X) + b·h(x)]= \\sum_{x=-∞}^{∞}[a·g(x)+b·h(x)]P_X(x)=a E[g(X)] + b E[h(X)]$$\n",
    "\n",
    "$$E[3]=\\mu_X = \\sum_{x=-∞}^{∞}3*P_X(x) = 3*1 = 3$$"
   ]
  },
  {
   "cell_type": "markdown",
   "metadata": {},
   "source": [
    "## 变异数 Variance\n",
    "\n",
    "定义 $$\\sigma_X^2 = E [(X-\\mu_X)^2] = \\sum_{x=-∞}^∞(x-\\mu_x)^2P_X(x)$$\n",
    "\n",
    "其暗示了随机变量X有多乱的信息。注意，其和概率关系，纯粹和X的值的分布情况有关，如果X分布很紧凑，只有一两个值，不论其概率差异如何悬殊，其变异数也很小。而对于很多不同X的值，如果其概率相似，但是其变异数依旧很大。变异数开平方就是标准差 $\\sigma_X$\n",
    "\n",
    "Variance 的一种快速计算方法是：\n",
    "\n",
    "$$\\sigma_X^2=e[(x-\\mu_X^2)] = E[X^2] - \\mu_X^2 => E[X^2] = \\sigma_X^2 + \\mu_X^2$$\n",
    "\n",
    "就是说，X的2th moment的值减去 mean 值，就是 variance 的值。\n",
    "\n"
   ]
  },
  {
   "cell_type": "markdown",
   "metadata": {},
   "source": [
    "# 常见分布的期望和变异\n",
    "\n",
    "在前面讲到了不同分布的PDF，在这里，可以根据期望值和变异数的定义来推导其期望和随机变数的变异情况。\n",
    "\n",
    "## Bernouli 分布\n",
    "\n",
    "$\\mu_X = 1·p + 0·(1-p) = p\\\\\\sigma_X^2= 1·p^2 - 0·(1-p)^2 - \\mu_X = p(1-p)$\n",
    "\n",
    "## Bin 分布\n",
    "\n",
    "$\\mu_X = np\\\\\n",
    "\\sigma_X^2 = np(1-p)$\n",
    "\n",
    "## Geo 分布\n",
    "\n",
    "$\\mu_X = \\frac{1}{p}\\\\\n",
    "\\sigma_X^2 = \\frac{1-p}{p^2}$\n",
    "\n",
    "## PASKAL 分布\n",
    "\n",
    "$\\mu_X = \\frac{k}{p}\\\\\n",
    "\\sigma_X^2 = \\frac{k(1-p)}{p^2}$\n",
    "\n",
    "## POI 分布\n",
    "\n",
    "$\\mu_X = \\sigma_X^2 = a$\n",
    "\n",
    "## UNIF 分布\n",
    "\n",
    "$\\mu_X = \\frac{a+b}{2}\\\\\n",
    "\\sigma_X^2=\\frac{1}{12}(b-a)(b-a+2)$"
   ]
  },
  {
   "cell_type": "markdown",
   "metadata": {},
   "source": [
    "# 附录：Bin 分布的期望和方差的推导\n",
    "\n",
    "对于平均数而言\n",
    "\n",
    "$$P(X=k) = {n\\choose k}p^kq^{n-k}, k = 0,1,2,..,n,q = 1-p\\\\\n",
    "EX = \\sum_{k=0}^n k {n\\choose k}p^kq^{n-k} \\\\\n",
    "= \\sum_{k=1}^n k {n\\choose k}p^kq^{n-k} \\\\\n",
    "=  \\sum_{k=1}^n k {\\frac{n!}{k!(n-k)!}}p^kq^{n-k} \\\\\n",
    "=  np\\sum_{k=1}^n  {\\frac{(n-1)!}{(k-1)!(n-k)!}}p^{k-1}q^{(n-1)-(k-1)} \\\\\n",
    "= np\\sum_{k=1}^n{n-1\\choose k-1}p^{k-1}q^{(n-1)-(k-1)}\\\\\n",
    "= np[{n-1\\choose 0}p^0q^{n-1}+{n-1\\choose 1}p^1q^{n-2}+...+{n-1\\choose n-1}p^{n-1}q^0] \\\\\n",
    "= np$$\n",
    "\n",
    "对于方差而言：\n",
    "\n",
    "$$\n",
    "EX^2 =  \\sum_{k=1}^nk^2{n\\choose k}p^kq^{n-k}, k = 0,1,2,..,n,q = 1-p\\\\\n",
    "= \\sum_{k=1}^n[k(k-1)+k]{n\\choose k}p^kq^{n-k}\\\\\n",
    "= \\sum_{k=1}^nk(k-1){n\\choose k}p^kq^{n-k} + \\sum_{k=1}^nk{n\\choose k}p^kq^{n-k}\\\\\n",
    "其中，\n",
    "\\sum_{k=1}^nk{n\\choose k}p^kq^{n-k} = EX = np\\\\\n",
    "\\sum_{k=1}^nk(k-1){n\\choose k}p^kq^{n-k} \\\\\n",
    "= \\sum_{k=1}^nk(k-1){\\frac{n!}{k!(n-k)!}}p^2p^{k-2}q^{n-k} \\\\\n",
    "= \\sum_{k=2}^nk(k-1){\\frac{n!}{k!(n-k)!}}p^2p^{k-2}q^{n-k} \\\\\n",
    "注：特别注意这里k=1时项为0，所以可以从k=2开始计算。\\\\\n",
    "= \\sum_{k=1}^n{\\frac{n(n-1)(n-2)!}{(k-2)!(n-k)!}}p^2p^{k-2}q^{[(n-2)-(k-2)]} \\\\\n",
    "= n(n-1)p^2\\sum_{k=2}^n{\\frac{(n-2)!}{(k-2)!(n-k)!}}p^{k-2}q^{[(n-2)-(k-2)]}\\\\\n",
    "= n(n-1)p^2\\sum_{k=2}^n{n-2\\choose k-2}p^{k-2}q^{[(n-2)-(k-2)]}\\\\ \n",
    "= n(n-1)p^2 \\\\\n",
    "\\rightarrow EX^2 = n(n-1)p^2+np \\\\\n",
    "\\rightarrow DX = EX^2-(EX)^2 = np-np^2 = np(1-p)$$"
   ]
  },
  {
   "cell_type": "markdown",
   "metadata": {},
   "source": [
    "**相关笔记**\n",
    "\n",
    "<span type=\"related_note\" update=\"2018-06-17\" url=\"\" mold=\"blog\" description=\"这是我阅读《深入浅出统计学》一书的相关笔记和整理，这本书用了很多例子，读起来很好玩，在概念理解上让我很受启发。因此放在这里，以备日后查找。\">简明统计精要（上）- 我的博客<span>"
   ]
  }
 ],
 "metadata": {
  "kernelspec": {
   "display_name": "Python 3",
   "language": "python",
   "name": "python3"
  },
  "language_info": {
   "codemirror_mode": {
    "name": "ipython",
    "version": 3
   },
   "file_extension": ".py",
   "mimetype": "text/x-python",
   "name": "python",
   "nbconvert_exporter": "python",
   "pygments_lexer": "ipython3",
   "version": "3.5.2"
  }
 },
 "nbformat": 4,
 "nbformat_minor": 2
}
