{
 "cells": [
  {
   "cell_type": "markdown",
   "metadata": {},
   "source": [
    "## 1. 基本定义"
   ]
  },
  {
   "cell_type": "markdown",
   "metadata": {},
   "source": [
    "### 概率的定义\n",
    "\n",
    "可以将概率看作是一个周长为1的圆盘。概率为0.2意味着一根长为0.2的绳子缠绕在圆环周围，旋转转盘，刻度停留在有绳子处的可能性。\n",
    "\n",
    "### 集合的定义\n",
    "\n",
    "集合是由元素构成的合集。全集（宇集）用 $S$ 表示。空集用 $Φ$ 表示。\n",
    "\n",
    "集合之间的关系有交/或（A∪B）、并/和（A∩B）、补集 ($ C = A^c$)、差集（$ X-Y $）\n",
    "\n",
    "Disjoint 不相交指的是两个集合的关系 $ X ∩ Y = Φ $ 。Mutually Exclusive 互斥指的是多个集合均不相交。"
   ]
  },
  {
   "cell_type": "markdown",
   "metadata": {},
   "source": [
    "### De Morgan‘s Law 第摩根定律\n",
    "\n",
    "$ (A ∪ B)^c = A^c ∩ B^c $"
   ]
  },
  {
   "cell_type": "markdown",
   "metadata": {},
   "source": [
    "### 实验（Experiment）的要素\n",
    "\n",
    "Procedures、Model、Observations（Outcome）"
   ]
  },
  {
   "cell_type": "markdown",
   "metadata": {},
   "source": [
    "![](exp1.png)"
   ]
  },
  {
   "cell_type": "markdown",
   "metadata": {},
   "source": [
    "## 2. 自变量：元素、样本和事件"
   ]
  },
  {
   "cell_type": "markdown",
   "metadata": {},
   "source": [
    "### Sample Space 样本空间\n",
    "\n",
    "用 $S$ 表示，代表几率实验所有的可能的结果的集合。\n",
    "\n",
    "比如转转盘1次，$ S= [0,1) $ ，可以用一条线表示。转2次， $ S = [0,1) × [0,1) $ 可以用一个正方形表示。转3次，可以用立方体表示。\n",
    "\n",
    "### Event 事件 和 Event Space 事件空间\n",
    "\n",
    "Event 是 Outcome 的集合，是 Sample Space 的子集。\n",
    "\n",
    "Event Space 事件空间指的是所有事件组成的空间。如果样本空间有n个结果，那么事件空间则有$2^n$个结果（包括空集合，其实就是Sample Space各元素的组合而不是排列，也就是不考虑顺序）。\n",
    "\n",
    "![](sos.png)"
   ]
  },
  {
   "cell_type": "markdown",
   "metadata": {},
   "source": [
    "可以将样本空间看作：\n",
    "$$SampleSpace = EventSpace.flat().strip().unique()$$\n",
    "\n",
    "类似于numpy的表示方法：大概含义为去除空集合，从各集合中取出元素排成一排，取唯一值"
   ]
  },
  {
   "cell_type": "markdown",
   "metadata": {},
   "source": [
    "### Probability 概率的输入\n",
    "\n",
    "概率是一个函数 P(x) 相当于 事件（自变量）和概率（0，1）之间的映射。所以，事件空间代表了所有可能的元素的范围（样本空间）内的组合，也就代表着自变量——事件的范围。"
   ]
  },
  {
   "cell_type": "markdown",
   "metadata": {},
   "source": [
    "## 3. 概率公理和推导\n",
    "\n",
    "Axioms 公理指的是那些不可证明的、较少的、所有本领域内容都衍生自的一些基本理论，类似于Class类，所有的实例都派生自类。\n",
    "\n",
    "线性代数的公理一共有8个，概率的公理一共有三个，其分别是：\n",
    "\n",
    "1、对于任何事件A，$P(A) \\ge 0$\n",
    "\n",
    "2、$P(S) = 1$\n",
    "\n",
    "3、$事件A_1 、A_2、 A_3 互斥，则 P(A_1∪A_2∪A_3...)=P(A_1)+P(A_2)+P(A_3)+...$"
   ]
  },
  {
   "cell_type": "markdown",
   "metadata": {},
   "source": [
    "其中公理三搭起了集合运算和概率运算的桥梁，非常重要。"
   ]
  },
  {
   "cell_type": "markdown",
   "metadata": {},
   "source": [
    "以下是一些由公理衍生的性质：\n",
    "\n",
    "$E={O_1,O_2,O_3...} \\quad then \\quad P(E) = P({O_1})+P({O_2})+P({O_3})$\n",
    "\n",
    "$P(Φ)=0$\n",
    "\n",
    "$P(A) = 1- P(A^c)$   证明：由定义知 $A^c∩A = Φ \\quad A^c∪A = S$ 有第三公理证明\n",
    "\n",
    "$P(A)=P(A-B)+P(A∩B)$\n",
    "\n",
    "$P(A\\cup B)=P(A)+P(B)-P(A\\cap B)$ 利用第三公理证明，此定理反映了$\\cup \\cap$的关系，如果需要转换，使用很方便。"
   ]
  },
  {
   "cell_type": "markdown",
   "metadata": {},
   "source": [
    "![](pb1.png)"
   ]
  },
  {
   "cell_type": "markdown",
   "metadata": {},
   "source": [
    "上面这个定理本质上是全概率公式的简化版，多用于多个$\\cap \\cap \\cap  \\cap $的证明使用。"
   ]
  },
  {
   "cell_type": "markdown",
   "metadata": {},
   "source": [
    "$If \\quad A \\in B \\quad then \\quad P(A) \\le P(B)$\n",
    "\n",
    "证明：将B分成A和A的补集。\n",
    "\n",
    "$P(\\bigcup^{n}_{i=1}A_i) \\le ∑^{n}_{i=1}P(A_{i}) \\quad $ Boole's不等式，根据第三定理证明。\n",
    "\n",
    "$P(\\bigcap^{n}_{i=1}A_i) \\ge 1-∑^{n}_{i=1}P(A^{c}_{i})$ Bonferroin's不等式，使用$P(A\\cup B)=P(A)+P(B)-P(A\\cap B)$和补集定义、第三公理证明。"
   ]
  },
  {
   "cell_type": "markdown",
   "metadata": {},
   "source": [
    "以上定理基本都是从第三公理推出来的。基本设计了∩和∪的关系、多个∩集、子集和母集关系以及一些特殊情况下的第三公理（非互斥）。其含义在于，我们将集合运算，转变成了概率运算。"
   ]
  },
  {
   "cell_type": "markdown",
   "metadata": {},
   "source": [
    "## 4. 条件概率\n",
    "\n",
    "条件概率指的是在发生某些事情（条件、已经发生并观察到的）的情况下，发生其他事情的概率。\n",
    "\n",
    "$S = {o_1,o_2,o_3,o_4,o_5,o_6}$\n",
    "\n",
    "$Y = {o_1,o_2,o_3,o_4}$\n",
    "\n",
    "$P(o_1|Y) = \\frac{P(o_1)}{P(o_1)+P(o_2)+P(o_3)+P(o_4)}$\n",
    "\n",
    "$P(X|Y) = \\frac{P(X\\cap Y)}{P(Y)}$ 不属于Y的，一旦Y发生并被观察到了，就不会发生了\n",
    "\n",
    "\n",
    "\n"
   ]
  },
  {
   "cell_type": "markdown",
   "metadata": {},
   "source": [
    "和概率三公理一样，条件概率满足：\n",
    "\n",
    "$P(X|Y) \\ge 0$\n",
    "\n",
    "$P(Y|Y) = 1$\n",
    "\n",
    "$P((A\\cup B) | Y)=P(A|Y)+P(B|Y)$"
   ]
  },
  {
   "cell_type": "markdown",
   "metadata": {},
   "source": [
    "### 全概率公式\n",
    "\n",
    "对于$C_1,C_2,C_3,C_4$互斥，并且$C_1\\cup C_2 \\cup C_3 \\cup C_n =S$\n",
    "\n",
    "对于任意事件A，有：\n",
    "\n",
    "$P(A)=P(A|C_1)P(C_1)+P(A|C_2)P(C_2)+P(A|C_n)P(C_n)$\n",
    "\n",
    "### 贝叶斯公式\n",
    "\n",
    "$P(C_1|A) = \\frac{P(A|C_1)P(C_1)}{P(A|C_1)P(C_1)+P(A|C_2)P(C_2)+P(A|C_n)P(C_n)}$\n",
    "\n",
    "证明如下：\n",
    "\n",
    "根据定义 $P(C_1|A)=\\frac{P(C_1\\cup A)}{P(A)} = \\frac{P(A|C_1)P(C_1)}{P(A)}$\n",
    "\n",
    "$P(A)=P(A|C_1)P(C_1)+P(A|C_2)P(C_2)+P(A|C_n)P(C_n)$\n",
    "\n",
    "所以即可证明。"
   ]
  },
  {
   "cell_type": "markdown",
   "metadata": {},
   "source": [
    "条件概率拓宽了概率的应用范围，可用来计算非随机情况下，当已知部分信息条件下的概率。而贝叶斯公式提供了一个将条件概率的条件和结果互相转换的方法，这对于已知先验概率求当前概率很有帮助。\n",
    "\n",
    "比如解决以下问题：\n",
    "\n",
    "A，B，C 三个门，其中一个有现金，而另外两个没有。当你做出选择后（A），主持人打开另外两个门中的一个（B），并告诉你没现金，问你是否要更改选择（A或者C）？\n",
    "\n",
    "选择A的概率为1/2，选择A的条件概率为1/3.使用贝叶斯公式可以推导出来，其中条件指的是“主持人打开了一个绝对没有奖金且不是玩家选择的门”，这里容易出错，P(条件|C) = 1，P（条件|A） = 0.5。"
   ]
  }
 ],
 "metadata": {
  "kernelspec": {
   "display_name": "Python 3",
   "language": "python",
   "name": "python3"
  },
  "language_info": {
   "codemirror_mode": {
    "name": "ipython",
    "version": 3
   },
   "file_extension": ".py",
   "mimetype": "text/x-python",
   "name": "python",
   "nbconvert_exporter": "python",
   "pygments_lexer": "ipython3",
   "version": "3.5.2"
  }
 },
 "nbformat": 4,
 "nbformat_minor": 2
}
