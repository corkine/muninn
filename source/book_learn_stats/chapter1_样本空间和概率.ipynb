{
 "cells": [
  {
   "cell_type": "markdown",
   "metadata": {},
   "source": [
    "# 1. 样本空间和概率\n",
    "\n",
    "## 1.1 集合运算\n",
    "\n",
    "定义全集/空间为 S，空集为 O，子集为 T。 T ∈ S\n",
    "\n",
    "**元素的分类**\n",
    "\n",
    "元素分为可数和不可数，又分为有限和无限。其中有限不可数表示存在某种规律，比如偶数，能被3整除。有限可数表示可以枚举。\n",
    "\n",
    "$T = [~x~ |~ x = 2k, k = 0,1,2,...]$\n",
    "\n",
    "**集合的运算**\n",
    "\n",
    "$S \\cup T = [~x~|~x∈S ~ or ~ x∈T]$\n",
    "\n",
    "$S \\cap T = [~x~|~x∈S ~ and ~ x∈T]$\n",
    "\n",
    "$S^c = [~x∈Ω~|~x~not~ ∈~S]$\n",
    "\n",
    "**集合的代数**\n",
    "\n",
    "$S \\cup T = T \\cup S\\\\S \\cup (T \\cup U) = (S \\cup T) \\cup U\\\\S \\cup (T \\cap U) = (S \\cup T) \\cap (S \\cup U)\\\\S \\cap (T \\cup U) = (S \\cap T) \\cup (S \\cap U)\\\\(S^c)^c = S$\n",
    "\n",
    "德摩根定理：\n",
    "\n",
    "$(\\cup_nS_n)^c = \\cap_n S_n^c$\n",
    "\n",
    "$(\\cap_nS_n)^c = \\cup_n S_n^c$\n",
    "\n",
    "很容易证明：\n",
    "\n",
    "$(A \\cap B)^c = (A^c \\cap B) \\cup (A^c \\cap B^c) \\cup (A \\cap B^c)$\n",
    "\n",
    "证明如下：对于 $(A^c \\cap B) \\cup (A^c \\cap B^c)$, 因为 $S = (S \\cap T)\\cup(S \\cap T^c)$，所以等于 $A^c$\n",
    "\n",
    "根据德摩根定理，$(A \\cap B)^c = A^c \\cup B^c$\n",
    "\n",
    "而公式后半部分根据集合代数可以求出，因此易证。\n",
    "\n"
   ]
  }
 ],
 "metadata": {
  "kernelspec": {
   "display_name": "Python 3",
   "language": "python",
   "name": "python3"
  },
  "language_info": {
   "codemirror_mode": {
    "name": "ipython",
    "version": 3
   },
   "file_extension": ".py",
   "mimetype": "text/x-python",
   "name": "python",
   "nbconvert_exporter": "python",
   "pygments_lexer": "ipython3",
   "version": "3.5.2"
  }
 },
 "nbformat": 4,
 "nbformat_minor": 2
}
