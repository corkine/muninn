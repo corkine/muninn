{
 "cells": [
  {
   "cell_type": "code",
   "execution_count": 6,
   "metadata": {},
   "outputs": [
    {
     "name": "stdout",
     "output_type": "stream",
     "text": [
      "100000.0 100000\n",
      "1.0\n"
     ]
    }
   ],
   "source": [
    "# -*- coding: utf-8 -*-  \n",
    "\n",
    "from math import *  \n",
    "from random import *  \n",
    "\n",
    "### 一次测试 ###  \n",
    "def test():  \n",
    "    speed = 4.0                #初速度  \n",
    "    distance = 0               #已经走过的距离  \n",
    "    threshold = log(50) / 100  #每秒中枪的概率  \n",
    "\n",
    "    while distance < 400:  \n",
    "        distance += speed        #以当前速度移动  \n",
    "\n",
    "    if random() < threshold: #如果中枪，则判断是否死亡，如果不死亡，速度减半  \n",
    "        if speed == 0.5:  \n",
    "            return 0             #死亡！  \n",
    "        else:  \n",
    "            speed /= 2  \n",
    "\n",
    "    return 1                   #成功通过！  \n",
    "\n",
    "### 模拟 ###  \n",
    "succ = 0.0                   #成功次数  \n",
    "times = 100000               #模拟次数，可随需要更改，越大则越准确，但耗时越多  \n",
    "for i in range(0, times):  \n",
    "    if test() == 1:  \n",
    "        succ += 1  \n",
    "\n",
    "print(succ,times)\n",
    "print(round(succ / times, 2)) #成功频率，以此作为概率估算值，结果保留两位小数-0.06  "
   ]
  }
 ],
 "metadata": {
  "kernelspec": {
   "display_name": "Python 2",
   "language": "python",
   "name": "python2"
  },
  "language_info": {
   "codemirror_mode": {
    "name": "ipython",
    "version": 3
   },
   "file_extension": ".py",
   "mimetype": "text/x-python",
   "name": "python",
   "nbconvert_exporter": "python",
   "pygments_lexer": "ipython3",
   "version": "3.5.2"
  }
 },
 "nbformat": 4,
 "nbformat_minor": 2
}
