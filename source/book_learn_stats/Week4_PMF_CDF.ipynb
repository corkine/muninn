{
 "cells": [
  {
   "cell_type": "markdown",
   "metadata": {},
   "source": [
    "# 4. 随机变量及其函数"
   ]
  },
  {
   "cell_type": "markdown",
   "metadata": {},
   "source": [
    "## 4.1 随机变量 RANDOM VARIABLE\n",
    "\n",
    "### 4.1.1 定义R.V.\n",
    "\n",
    "随机变量不是可变的量，而是一种映射关系，可以将其看做成一个函数，其传入的是Outcome，传出的是对应的数字。\n",
    "\n",
    "注意：传出的必须是数字，比如：\n",
    "\n",
    "1.\n",
    "\n",
    "X(小明赢) = 0\n",
    "X(小明输) = 1\n",
    "\n",
    "正确\n",
    "\n",
    "2.\n",
    "\n",
    "X(x) = '六面出现点数x' x∈{1，2，3，4，5，6} 错误，不是随机变量，因为传出必须为数字\n",
    "\n",
    "3.\n",
    "\n",
    "X(六面出现点数x) = x， Y = X -3 ，对于X和Y来说，都是随机变量，因为其满足传出值为数字。\n",
    "\n",
    "**用数学公式表示：随机变量$(r.v.)$指的是一种 $S → R$ 的映射，其中S为全集，R为实数。**\n",
    "\n",
    "需要注意的是，将实验结果看作是基本元素，将事件看作由不同元素组成的小组，将S看作是元素清单，这有助于理解其三者关系。\n",
    "\n",
    "R.V.的传入值是实验结果，所有的实验结果构成了 S 全集，而概率 P 传入的是事件，事件可以包含多个实验结果，是 S 的子集。"
   ]
  },
  {
   "cell_type": "markdown",
   "metadata": {},
   "source": [
    "### 4.1.2 R.V.的类别\n",
    "\n",
    "随机变量有两种不同的类别，其一为**离散随机变量(Discrete R.V.)**，其特点为集合元素可数，也就是说，映射对应的数字可数，比如：\n",
    "\n",
    "对于所有的正整数集合，{1,2,3,...,n}，虽然它是一个无穷大集合，但是仍然被认为是可数的。\n",
    "\n",
    "其二为**连续随机变量（Continuous R.V.）**，比如 X ∈ （0，1），这个显然是不可数的。\n",
    "\n",
    "证明如下：对于任意0到1之间的数字，总能找到一个数字，其小数第一位等于9-第一个数字的第一位，其小数第二位等于9-第二个数字的第二位，...,使得此数字永远不能被数到。\n",
    "\n",
    "0.1211..\n",
    "\n",
    "0.2312..\n",
    "\n",
    "0.3345..\n",
    "\n",
    "..\n",
    "\n",
    "构造数字为：\n",
    "\n",
    "0.865.. 这个数字永远不可数\n",
    "\n",
    "此外，还需要注意，对于无穷世界而言，正整数集合和正的偶数整数集合一样大，一条长度为1的线段的点和长度为1的正方形的点一样多，因为总能找到一一对应的关系，这里的技巧是**小数总有无限的位数/精度**"
   ]
  },
  {
   "cell_type": "markdown",
   "metadata": {},
   "source": [
    "# 4.2 累积分布函数 CDF\n",
    "\n",
    "CDF (Cumulaticve distribution function) 的定义是：$F_X(x) = P(X \\le x)$"
   ]
  },
  {
   "cell_type": "markdown",
   "metadata": {},
   "source": [
    "其中X表示随机变量（必须用大写），x表示此随机变量可能的取值，F表示CDF函数（通用）。\n",
    "\n",
    "CDF 常见的用途为 计算 X落在某范围的概率，比如：$P(0 \\lt x \\le 5) = F_X(5) - F_X(3)$\n",
    "\n",
    "### 4.2.1 离散随机变量\n",
    "\n",
    "对于离散随机变量而言，其CDF如下：\n",
    "\n",
    "![](prob0401.png)"
   ]
  },
  {
   "cell_type": "markdown",
   "metadata": {},
   "source": [
    "其中，$P(3 \\le X \\le 5)$ 的算法方法如下：\n",
    "\n",
    "$P(3 \\le X \\le 5) = F_X(5) - F_X(3^-) = F_X(5) - F_X(3) + P(X=3)$\n",
    "\n",
    "注意，此算法针对于离散随机变量而言。因为计算少算了在 X = 3 处的概率，因此要加上。"
   ]
  },
  {
   "cell_type": "markdown",
   "metadata": {},
   "source": [
    "### 4.2.2 连续随机变量\n",
    "\n",
    "对于连续随机变量而言，其CDF如下：\n",
    "\n",
    "![](prob0402.png)\n",
    "\n",
    "需要注意的是，没有以上的这种开合差异的区别，因为对于每个基本不可分的点，差异都是无穷小的。对于正态分布，如下："
   ]
  },
  {
   "cell_type": "code",
   "execution_count": 22,
   "metadata": {},
   "outputs": [
    {
     "data": {
      "text/plain": [
       "Text(0,0.5,'Cumulaticve Probability')"
      ]
     },
     "execution_count": 22,
     "metadata": {},
     "output_type": "execute_result"
    },
    {
     "data": {
      "image/png": "[encoded data removed]",
      "text/plain": [
       "<Figure size 1008x288 with 2 Axes>"
      ]
     },
     "metadata": {},
     "output_type": "display_data"
    }
   ],
   "source": [
    "from scipy.stats import norm\n",
    "import matplotlib.pyplot as plt\n",
    "import numpy as np\n",
    "fig, axeses = plt.subplots(1,2)\n",
    "fig.set_figwidth(14)\n",
    "vx = np.linspace(-20,20,100)\n",
    "vy = norm.pdf(vx,0,5)\n",
    "vy_c = norm.cdf(vx,0,5)\n",
    "axeses[0].plot(vx,vy)\n",
    "axeses[0].set_title('PMF(PDF) $p_X(R.V.)$')\n",
    "axeses[0].set_xlabel('R.V.')\n",
    "axeses[0].set_ylabel('Probability')\n",
    "axeses[1].plot(vx,vy_c)\n",
    "axeses[1].set_title('CDF  $F_X(R.V.)$')\n",
    "axeses[1].set_xlabel('R.V.')\n",
    "axeses[1].set_ylabel('Cumulaticve Probability')"
   ]
  },
  {
   "cell_type": "markdown",
   "metadata": {},
   "source": [
    "**不管是连续还是离散，对于CDF而言，其总满足：对于无穷小的R.V.，其值总是为0，对于无穷大的R.V.，其值总是为1。并且，值的范围总是在0到1之间。**"
   ]
  },
  {
   "cell_type": "markdown",
   "metadata": {},
   "source": [
    "## 4.3 概率质量函数 PMF\n",
    "\n",
    "PMF(Probability mass function)定义是： $p_X(x) = P(X = x)$\n",
    "\n",
    "其中PMF和CDF的关系是： $F_X(x) = P(X \\le x) = \\sum_{n=-∞}^{x=[x]}P(X=n)$\n",
    "\n",
    "每一个PMF都称作是一种概率分布（Probability Distribution），概率分布的意思是**随机变量X的总和为1的概率在各点的分布**。如上左图所示。\n",
    "\n",
    "<br><br><br><br>"
   ]
  },
  {
   "cell_type": "markdown",
   "metadata": {},
   "source": [
    "# 5. 离散随机分布\n",
    "\n",
    "<br>\n",
    "\n",
    "## 5.1 Bernoulli 分布\n",
    "\n",
    "**1次实验，2种结果，关心是否发生某种结果**\n",
    "\n",
    "$X ~ Bernoulli(p)$\n",
    "\n",
    "![](prob0403.png)"
   ]
  },
  {
   "cell_type": "markdown",
   "metadata": {},
   "source": [
    "<br><br>"
   ]
  },
  {
   "cell_type": "markdown",
   "metadata": {},
   "source": [
    "## 5.2 Binomial 分布\n",
    "\n",
    "**n次实验，1个概率，关心n次实验出现某种结果k次的概率**\n",
    "\n",
    "$X- ~ BIN(n,p)$\n",
    "\n",
    "![](prob0404.png)"
   ]
  },
  {
   "cell_type": "markdown",
   "metadata": {},
   "source": [
    "<br><br>"
   ]
  },
  {
   "cell_type": "markdown",
   "metadata": {},
   "source": [
    "## 5.3 Uniform 分布\n",
    "\n",
    "**1次实验，n种结果，各种结果概率相等，关心某结果是否发生**\n",
    "\n",
    "$X- ~ UNIF(a,b)$\n",
    "\n",
    "![](prob0405.png)\n"
   ]
  },
  {
   "cell_type": "markdown",
   "metadata": {},
   "source": [
    "<br><br>"
   ]
  },
  {
   "cell_type": "markdown",
   "metadata": {},
   "source": [
    "## 5.4 Geometric 分布\n",
    "\n",
    "**实验中出现某结果概率已知，重复操作一直到出现该结果为止，关系某结果在第几次实验才首次出现**\n",
    "\n",
    "$X- ~ Geometric(p)$\n",
    "\n",
    "几何概率有失忆性，可以由PMF看出，当第二次尝试的时候，概率逐渐降低，因为发生第二次尝试需要条件（只要成功一次即可）。\n",
    "\n",
    "![](prob0406.png)"
   ]
  },
  {
   "cell_type": "markdown",
   "metadata": {},
   "source": [
    "<br><br>"
   ]
  },
  {
   "cell_type": "markdown",
   "metadata": {},
   "source": [
    "## 5.5 Pascal 分布\n",
    "\n",
    "**实验中出现结果概率已知，重复操作实验到该结果出现第k次为止，关心在第几次实验才结束**\n",
    "\n",
    "$X- ~ Pascal(k,p)$\n",
    "\n",
    "![](prob0407.png)"
   ]
  },
  {
   "cell_type": "markdown",
   "metadata": {},
   "source": [
    "**由于Pascal分布的CDF很像BIN二项分布的反向，所有Pascal分布又被称之为Negative Binomial分布。**"
   ]
  },
  {
   "cell_type": "markdown",
   "metadata": {},
   "source": [
    "<br><br>"
   ]
  },
  {
   "cell_type": "markdown",
   "metadata": {},
   "source": [
    "## 5.6 Poisson 分布\n",
    "\n",
    "**已知结果出现的平均速率 𝝀 ，问观察某段时间 T 长度后，看到结果出现 X 次的概率？**\n",
    "\n",
    "$X- ~ POI(𝝀,T) \\quad OR \\quad X- ~ POI(μ)，μ=𝝀·T$\n",
    "\n",
    "![](prob0408.png)\n",
    "\n",
    "![](prob0409.png)"
   ]
  },
  {
   "cell_type": "markdown",
   "metadata": {},
   "source": [
    "需要注意，Poisson分布可以由以下方式得到：\n",
    "\n",
    "其中，将时间T分割为小段，然后每一段发生的可能性只有两种，发生或者不发生，所以可以看作是长度为 n 的，概率为 p 的 BIN 分布，证明如下：\n",
    "\n",
    "![](prob0410.png)"
   ]
  },
  {
   "cell_type": "markdown",
   "metadata": {},
   "source": [
    "### 5.6.1 泊松分布很有意思的一个问题\n",
    "\n",
    "https://blog.csdn.net/zhaoxinfan/article/details/12390173"
   ]
  },
  {
   "cell_type": "code",
   "execution_count": 39,
   "metadata": {},
   "outputs": [
    {
     "name": "stdout",
     "output_type": "stream",
     "text": [
      "5795.0 100000\n",
      "0.05795\n"
     ]
    }
   ],
   "source": [
    "# -*- coding: utf-8 -*-  \n",
    "\n",
    "from math import *\n",
    "from random import random\n",
    "\n",
    "### 一次测试 ###  \n",
    "def test():  \n",
    "    speed = 4.0                #初速度  \n",
    "    distance = 0               #已经走过的距离  \n",
    "    threshold = log(50) / 100  #每秒中枪的概率  \n",
    "\n",
    "    while distance < 400:  \n",
    "        distance += speed        #以当前速度移动  \n",
    "\n",
    "        if random() < threshold: #如果中枪，则判断是否死亡，如果不死亡，速度减半  \n",
    "            if speed == 0.5:  \n",
    "                return 0             #死亡！  \n",
    "            else:  \n",
    "                speed /= 2  \n",
    "\n",
    "    return 1                   #成功通过！  \n",
    "\n",
    "### 模拟 ###  \n",
    "succ = 0.0                   #成功次数  \n",
    "times = 100000               #模拟次数，可随需要更改，越大则越准确，但耗时越多  \n",
    "for i in range(0, times):  \n",
    "    if test() == 1:  \n",
    "        succ += 1  \n",
    "\n",
    "print(succ,times)\n",
    "print(round(succ / times, 10)) \n",
    "#成功频率，以此作为概率估算值，结果保留两位小数-0.06  "
   ]
  },
  {
   "cell_type": "markdown",
   "metadata": {},
   "source": [
    "<br>\n",
    "____________________________\n",
    "\n",
    "更新日志：\n",
    "\n",
    "2018年5月21日 SP0.9-180521"
   ]
  }
 ],
 "metadata": {
  "kernelspec": {
   "display_name": "Python 3",
   "language": "python",
   "name": "python3"
  },
  "language_info": {
   "codemirror_mode": {
    "name": "ipython",
    "version": 3
   },
   "file_extension": ".py",
   "mimetype": "text/x-python",
   "name": "python",
   "nbconvert_exporter": "python",
   "pygments_lexer": "ipython3",
   "version": "3.5.2"
  }
 },
 "nbformat": 4,
 "nbformat_minor": 2
}
