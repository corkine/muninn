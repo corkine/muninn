{
 "cells": [
  {
   "cell_type": "markdown",
   "metadata": {},
   "source": [
    "<span type=\"title\">连续分布的期望值</span> | <span type=\"version\">0.8</span> | <span type=\"update\">2018-06-28</span>\n",
    "\n",
    "<span type=\"intro\">本周主要介绍连续分布的期望值定义和其公式。</span>"
   ]
  },
  {
   "cell_type": "markdown",
   "metadata": {},
   "source": [
    "# 连续分布的期望值及性质\n",
    "\n",
    "## 期望值近似推导\n",
    "\n",
    "对于积分， $S = \\sum_{-∞}^∞h(x)dx ≈ \\sum_{n=-∞}^∞h(n\\Delta)·\\Delta$\n",
    "\n",
    "对于连续随机变量 X，可以用近似的方法：\n",
    "\n",
    "$X∈[0,\\Delta) -> Y = 0\\Delta$\n",
    "\n",
    "$X∈[1\\Delta,2\\Delta) -> Y = 1\\Delta$\n",
    "\n",
    "$X∈[n\\Delta,(n+1)\\Delta) -> Y = n\\Delta$\n",
    "\n",
    "当 $\\Delta -> 0, X ≈ Y$。\n",
    "\n",
    "根据：$p_Y(n\\Delta) = P(n\\Delta \\le X \\lt n\\Delta + \\Delta) ≈ f_X(n\\Delta)·\\Delta$，那么有：\n",
    "\n",
    "$$E[X] = \\lim_{\\Delta->0}E[Y] = \\lim_{\\Delta->0}\\sum_{n->-∞}^∞n\\Delta·P_Y(n\\Delta) \\\\\n",
    "= \\lim_{\\Delta->0}\\sum_{n->-∞}^∞n\\Delta·f_X(n\\Delta)·\\Delta = \\int_{-∞}^∞xf_X(x)dx$$\n",
    "\n",
    "## 期望值运算性质\n",
    "\n",
    "同离散分布(不同的是Sum改成了积分):\n",
    "\n",
    "连续分布的期望值函数为：$E[g(X)] = \\int_{-∞}^∞g(x)·f_X(x)dx$\n",
    "\n",
    "离散分布的期望值函数为：$E[g(X)] = \\sum_{-∞}^∞g(x)·p_X(x)$\n",
    "\n",
    "同理，可以得到 $E[a·g(X) + β·h(X)] = a·E[g(X)] + β·E[h(X)];\\\\E[a] = a\\\\E[X^n] = \\int_{-∞}^∞x^nf_X(x)dx\\\\E[(X-\\mu_X)^2] = \\int_{-∞}^∞(x-\\mu_x)^2f_X(x)dx$"
   ]
  },
  {
   "cell_type": "code",
   "execution_count": 31,
   "metadata": {},
   "outputs": [
    {
     "data": {
      "text/plain": [
       "<matplotlib.legend.Legend at 0x7f5aa63efd30>"
      ]
     },
     "execution_count": 31,
     "metadata": {},
     "output_type": "execute_result"
    },
    {
     "data": {
      "image/png": "[encoded data removed]",
      "text/plain": [
       "<Figure size 432x288 with 1 Axes>"
      ]
     },
     "metadata": {},
     "output_type": "display_data"
    }
   ],
   "source": [
    "from matplotlib import pyplot as plt;import numpy as np;\n",
    "import scipy.stats as stats\n",
    "xs = np.linspace(-100,100)\n",
    "plt.plot(xs,stats.norm.pdf(xs,0,10),label=\"Variance Small\")\n",
    "plt.plot(xs,stats.norm.pdf(xs,0,80),label=\"Variance Big\")\n",
    "plt.legend()"
   ]
  },
  {
   "cell_type": "markdown",
   "metadata": {},
   "source": [
    "# 常见连续分布的期望值/变异值\n",
    "\n",
    "- $X -~ Exponential(\\lambda)\\\\\\mu_X = \\frac{1}{\\lambda}\\\\\\sigma_X^2 = \\frac{1}{\\lambda^2}$\n",
    "\n",
    "\n",
    "- $X -~ Erlang(n,\\lambda)\\\\\\mu_X = \\frac{n}{\\lambda}\\\\\\sigma_X^2 = \\frac{n}{\\lambda^2}$\n",
    "\n",
    "\n",
    "- $X -~ Gaussian(\\mu,\\sigma)\\\\\\mu_X = \\mu\\\\\\sigma_X^2 = \\sigma^2$\n",
    "\n",
    "Exp: Exponsential 期望值推导：\n",
    "\n",
    "根据：$\\int Udv = UV - \\int VdU\\\\\\int_0^∞ \\lambda e^{-\\lambda x}dx = 1$\n",
    "\n",
    "$$\\mu_X = \\int_{-∞}^∞xf_X(x)dx = \\int_0^∞x·\\lambda e^{-\\lambda x}dx\\\\\n",
    "= -\\int_0^∞-x\\lambda e^{-\\lambda x}dx = -\\int_0^∞x e^{-\\lambda x}d(-\\lambda x)\n",
    "= - \\int_0^∞ xde^{-\\lambda x} \\\\= \\int_0^∞ e^{-\\lambda x}dx = \\frac{1}{\\lambda}\\int_0^∞ \\lambda e^{-\\lambda x}dx = \\frac{1}{\\lambda}$$"
   ]
  },
  {
   "cell_type": "markdown",
   "metadata": {},
   "source": [
    "# 随机变量函数的分布\n",
    "\n",
    "**Derived random variable**\n",
    "\n",
    "## 离散变量分布\n",
    "\n",
    "当 X 为随机变量，那么 Y = g(X) 也是随机变量：\n",
    "\n",
    "$$p_{g(X)}(y) = \\sum_{让g(x)=y的所有x}p_X(x)$$\n",
    "\n",
    "例如：\n",
    "\n",
    "![](prob0601.png)\n",
    "\n",
    "## 连续变量分布\n",
    "\n",
    "如果 X 为连续变量，那么 Y = g(X) 也是连续变量。区别是，不能直接算PDF，而最好先计算 g(X) 的 CDF：$F_{g(X)}(y) = P[g(X)\\le y]，然后计算 CDF 的积分，然后求 PMF$\n",
    "\n",
    "![](prob0602.png)"
   ]
  },
  {
   "cell_type": "markdown",
   "metadata": {},
   "source": [
    "![](prob0603.png)"
   ]
  },
  {
   "cell_type": "markdown",
   "metadata": {},
   "source": [
    "## 举例\n",
    "\n",
    "![](prob0604.png)\n",
    "\n",
    "![](prob0605.png)"
   ]
  },
  {
   "cell_type": "markdown",
   "metadata": {},
   "source": [
    "<br>\n",
    "\n",
    "# 条件概率的分布和失忆性\n",
    "\n",
    "## 离散条件概率分布\n",
    "\n",
    "![](prob0606.png)\n",
    "\n",
    "如果 X 是离散随机变量，那么 PMF 为 $p_X(x)$。 如果已知某事件 B 已经发生，那么在这种条件下，概率分布为：\n",
    "\n",
    "$$PMF:~p_{X|B}(x)=x∈B：\\frac{p_X(x)}{P(B)},~x~ not ∈ B：0$$\n",
    "\n",
    "$$CDF:~F_{X|B}(x)=\\sum_{\\mu \\le x} p_{X|B}(\\mu) = \\sum_{\\mu \\le x,\\mu ∈ B}\\frac{p_X(\\mu)}{P(B)}$$\n",
    "\n",
    "## 连续条件概率分布\n",
    "\n",
    "![](prob0607.png)"
   ]
  },
  {
   "cell_type": "markdown",
   "metadata": {},
   "source": [
    "如果 X 是连续随机变量，其 PDF 为 $f_X(x)$。如果某事件 B 已经发生，那么在这种情况下：\n",
    "\n",
    "$$PDF:~f_{X|B}=x∈B：\\frac{f_X(x)}{P(B)},~x ~ not ∈ B：0.$$\n",
    "\n",
    "$$CDF:~F_{X|B}(x)=\\int_{-∞}^xf_{X|B}(\\mu)d\\mu = \\int_{-∞\\le \\mu \\le x,\\mu ∈B}\\frac{f_X(\\mu)}{P(B)}d\\mu$$"
   ]
  },
  {
   "cell_type": "markdown",
   "metadata": {},
   "source": [
    "## 条件概率分布的期望值和方差\n",
    "\n",
    "$$离散：E[X|B] = \\sum_{x=-∞}^{∞}x·p_{X|B}(x)$$\n",
    "\n",
    "$$连续：E[X|B] = \\int_{-∞}^{∞}x·f_{X|B}(x)dx$$\n",
    "\n",
    "$$离散：E[g(X)|B] = \\sum_{x=-∞}^{∞}g(x)·p_{X|B}(x)$$\n",
    "\n",
    "$$连续：E[g(X)|B] = \\int_{-∞}^{∞}g(x)·f_{X|B}(x)dx$$"
   ]
  },
  {
   "cell_type": "markdown",
   "metadata": {},
   "source": [
    "$$Var(X|B) = E[(X|B - \\mu_{X|B})^2] = E[(X - \\mu_{X|B})^2|B] \\\\=E[X^2|B] - (\\mu_{X|B})^2$$"
   ]
  },
  {
   "cell_type": "markdown",
   "metadata": {},
   "source": [
    "## 失忆性\n",
    "\n",
    "![](prob0608.png)"
   ]
  }
 ],
 "metadata": {
  "kernelspec": {
   "display_name": "Python 3",
   "language": "python",
   "name": "python3"
  },
  "language_info": {
   "codemirror_mode": {
    "name": "ipython",
    "version": 3
   },
   "file_extension": ".py",
   "mimetype": "text/x-python",
   "name": "python",
   "nbconvert_exporter": "python",
   "pygments_lexer": "ipython3",
   "version": "3.5.2"
  }
 },
 "nbformat": 4,
 "nbformat_minor": 2
}
