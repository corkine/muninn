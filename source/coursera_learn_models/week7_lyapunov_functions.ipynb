{
 "cells": [
  {
   "cell_type": "markdown",
   "metadata": {},
   "source": [
    "<span type=\"title\">Lyapunov Balance & Modeling Culture </span> | <span type=\"version\">0.9</span> | <span type=\"update\">2018-06-17</span>\n",
    "\n",
    "<span type=\"intro\"><p class=\"card-text\">在第一部分，本章主要讲解Lyapunov函数，此函数用来表示一个过程是否可以达到平衡。困难之处在于找到构建这样一个函数，并且最好不要有外部的效应。</p><p class=\"card-text\">\n",
    "在第二部分，使用Coordination Gmae（核心是一个Lyapunov函数）建立了文化的模型，这个模型可以被很好的解释文化内外的不同。考虑到个人一致性、群体协调性和误差后，使用马尔科夫平衡的文化的模型可以解释在同一文化内部的差异性。\n",
    "</p></span>"
   ]
  },
  {
   "cell_type": "markdown",
   "metadata": {},
   "source": [
    "# Lyapunov Functions\n",
    "\n",
    "## Define of Function\n",
    "\n",
    "F(x), a Lyaponuv function\n",
    "\n",
    "A1: has a maximum value.\n",
    "\n",
    "A2: There is a k > 0 such that if $X_{t+1}\\ne X_t, F(X_{t+1}) > F(X_t) + k$\n",
    "\n",
    "Claim: At some point $X_{t+1} = X_{t}$\n",
    "\n",
    "## Example: Exchange and Market\n",
    "\n",
    "在没有管理者的城市，如果人们都避免拥挤，那么，所有人将会合理分配自己在某个时间去的地方，这样的话，最终理想状态就是每个人都不见面。这就达到了一个Lyapunov平衡。如果每个人都见面， 这也会达到Lyapunov平衡。\n",
    "\n",
    "其余的例子，比如交易货物的时候的总幸福感，可以看作是Lyapunov函数。比如Dating，也可以将总体幸福感看作Lyapunov函数，如果两个人都高兴，那么有最大收益，直到平衡，不论让两人高兴的方式是在一起或者分手。\n",
    "\n",
    "如果说在交易的过程中存在着负向的外在效应，可能让没有参与交易的人感到损失，因此会带动模型运动，一直到完全平衡。\n",
    "\n",
    "## Time to Convergence and Optimality\n",
    "\n",
    "Q1: How long will Lyapunov hava a balance?\n",
    "\n",
    "```\n",
    "There are 100 people divided between Waiting Room A and Waiting Room B. These people will switch rooms if one is too busy. They have varying thresholds for \"too busy\", but no one has a threshold below 58. In other words, so long as 58 or fewer people are in a room, no one will want to leave that room. In the first time period, there are 87 people in Room A and only 13 in Room B. What is the maximum number of time periods that it could take for this system to reach equilibrium?\n",
    "\n",
    "=> 29, let k = 1, min = 58, init = 87\n",
    "```\n",
    "\n",
    "Q2: Does the process always stop at the min or max?\n",
    "\n",
    "NO. 因为每个人的评价标准可能不同\n",
    "\n",
    "Q3: 注意\n",
    "\n",
    "对于有**指向相反方向的**外部效应的事件，不能采用 Lyapunov Function 进行平衡。比如，分配办公室，每个人可能有自己特殊的偏好。但是对分配椅子这样的问题，则完全可以，因为每个人的椅子不会影响到别人，带来外部效应。\n",
    "\n",
    "如果交易带来外部效应，这外部效应指的是：会对所有人都有好处，那么这外部效应不会影响Lyapunov函数模型。只有指向相反方向的外部效应的事件才不容易达到平衡。"
   ]
  },
  {
   "cell_type": "markdown",
   "metadata": {},
   "source": [
    "# Coordination and Culture\n",
    "\n",
    "## What is culture？\n",
    "\n",
    "Tylor(1871): Culture is complex whole which includes knowledge, belief, art, law, morals, customs.\n",
    "\n",
    "Trilling(1955): To make a coherent life, to confront the terrors of the outer and the inner world,the pieties and duties which make possible the life of the group and the individual - these are culture, and to contemplate these various enterprises which constitute a culture is inevitably moving."
   ]
  },
  {
   "cell_type": "markdown",
   "metadata": {},
   "source": [
    "`Differences between；Similarities within。`\n",
    "\n",
    "Exp: 两个人分钱，看不同文化的人怎么分。如果分钱的人的分配方案，另一个人不能接受，则两人均得到0元。否则，将10元分给这两人。\n",
    "\n",
    "根据不同国家表现，如下：两个因素：生存/自我表现，传统信仰/世俗理性，可以将不同文化区分开。\n",
    "\n",
    "![](w7p1.png)"
   ]
  },
  {
   "cell_type": "markdown",
   "metadata": {},
   "source": [
    "http://www.worldvaluessurvey.org/WVSContents.jsp"
   ]
  },
  {
   "cell_type": "markdown",
   "metadata": {},
   "source": [
    "## Pure Coordination Game\n",
    "\n",
    "这一部分主要讲解 为什么文化内一致的原因。\n",
    "\n",
    "**博弈是一个Lyapunov函数，最后会导致静态均衡/文化**\n",
    "\n",
    "两个人的博弈，如果两个人都把番茄酱放到柜子里，那么每人得1分，如果都放到冰箱里，也都得1分，如果一个人放在柜子里，一个人放在冰箱里，则不得分。\n",
    "\n",
    "文化像是多个人的纯协调博弈。如果处在不同的习惯的两个人中间，那么就会感到不协调。如下：\n",
    "\n",
    "![](w7p2.png)\n",
    "\n",
    "如果将 Coordination 看作 Lyapunov Function，那么最终会移动产生相似性的隔离。这就是 Axelrod's culture model."
   ]
  },
  {
   "cell_type": "markdown",
   "metadata": {},
   "source": [
    "**博弈和起立鼓掌模型的不同**\n",
    "\n",
    "协调博弈和Standing Ovation不同，因为在博弈中，如果不按照社会规则，那么有可能付出惨痛的代价。\n",
    "\n",
    "**博弈的不公平收益**\n",
    "\n",
    "一些时候，协同的收益并不相同，比如 Metric - English Game，只有英国使用英制，而其余国家使用公制，那么英国人的收益就比较低，但是，因为处于这个环境中，因此所有改变，必然导致当下收益/很长一段时间的收益为0.所以说，希望改变的人只有接受这个大家都在做出的选择。\n",
    "\n",
    "![](w7p3.png)"
   ]
  },
  {
   "cell_type": "markdown",
   "metadata": {},
   "source": [
    "## Emergence of culture\n",
    "\n",
    "Why Cultures differ？ According to Axelrod's culture model：\n",
    "\n",
    "定义一个特征向量，每个人都有一个特征向量，其中代表我们对事情的偏好。\n",
    "\n",
    "当两个人相遇，比较特征向量，如果向量有5个元素，两个元素相同，那么会面的概率为40%，这两个人中有一个是领导者，另一个是跟随者，那么跟随者会按照一定的比例改变自己不同的特征向量。\n",
    "\n",
    "PersionA:LEADER 12213\n",
    "\n",
    "PersonB：FOLLOWER 13343\n",
    "\n",
    "40% Probability Meeting\n",
    "\n",
    "PersonB：AFTER MEETING 12343（Change 1 Column）\n",
    "\n",
    "60% Probability Meeting\n",
    "\n",
    "![](w7p4.png)\n",
    "\n",
    "结果显示，在这样的模型中，多个不同的文化会交流融合，形成更大的文化。但是，那些和主流文化有很深的边界的文化，因为和其余文化交流太少，并且距离太远，因此单独保留了下来。"
   ]
  },
  {
   "cell_type": "markdown",
   "metadata": {},
   "source": [
    "## Coordination and Consisten\n",
    "\n",
    "Rule0：Coordination rule 和别人保持一致\n",
    "\n",
    "Rule1：Consistency rule 和自己更经常出现的行为保持一致/保持行为的一致性\n",
    "\n",
    "Rule2：Sometime people have some error/innovation（small）\n",
    "\n",
    "也就是说，我们可以和自己跨时间的行为保持一致，或者和别人跨空间的行为保持一致。\n",
    "\n",
    "\n",
    "\n",
    "![](w7p5.png)\n",
    "\n",
    "G1 G2 代表时间维度，P1 P2 代表不同个体。第一个图是一致的，第二个代表了随机的变异。第三个表示和自己行为一致，但是和别人不一致。第四个表示第二个人改变了行为和第一个人一致，但是，它们两个时间维度不一致。第五个纯粹混乱。\n",
    "\n",
    "\n",
    "![](w7p6.png)\n",
    "\n",
    "这个图代表了向不同位置变化的可能性。最上面的是“ALL MESS”。左边代表协调又一致。右边代表一致但不协调。\n",
    "\n",
    "![](w7p7.png)\n",
    "\n",
    "根据马尔科夫动态平衡，如果引入 创新率/误差率 ε ，即便很小，也会导致显著的差异性。\n",
    "\n",
    "**这个模型用来解释在同一文化内部的不一致性。**"
   ]
  },
  {
   "cell_type": "markdown",
   "metadata": {},
   "source": [
    "总而言之，三个不同的原因导致了同一文化内部的一致性差异：\n",
    "\n",
    "- 保持个体一致性\n",
    "- 保持群体协调\n",
    "- 选择的收益可能随着时间的变化而产生变化"
   ]
  },
  {
   "cell_type": "markdown",
   "metadata": {},
   "source": [
    "<span type=\"related_note\" mold=\"explain\" update=\"2018-06-28\">如果将概率分布看作是独立个体在某一特定时间段的群体画像，那么李科维也夫模型可以看作是独立个体在时间序列上群体画像，李科维也夫刻画了这种个体协商、变化以达到总体平衡的过程。</span>"
   ]
  }
 ],
 "metadata": {
  "kernelspec": {
   "display_name": "Python 3",
   "language": "python",
   "name": "python3"
  },
  "language_info": {
   "codemirror_mode": {
    "name": "ipython",
    "version": 3
   },
   "file_extension": ".py",
   "mimetype": "text/x-python",
   "name": "python",
   "nbconvert_exporter": "python",
   "pygments_lexer": "ipython3",
   "version": "3.5.2"
  }
 },
 "nbformat": 4,
 "nbformat_minor": 2
}
