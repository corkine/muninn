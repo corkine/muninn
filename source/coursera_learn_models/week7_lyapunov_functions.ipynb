{
 "cells": [
  {
   "cell_type": "markdown",
   "metadata": {},
   "source": [
    "<span type=\"title\">Lyapunov Function</span> | <span type=\"version\">0.9</span> | <span type=\"update\">2018-06-17</span>\n",
    "\n",
    "<span type=\"intro\"><p class=\"card-text\">本章讲解Lyapunov函数，此函数用来表示一个过程是否可以达到平衡。困难之处在于找到构建这样一个函数。</p></span>"
   ]
  },
  {
   "cell_type": "markdown",
   "metadata": {},
   "source": [
    "# Lyapunov Functions\n",
    "\n",
    "## Define\n",
    "\n",
    "F(x), a Lyaponuv function\n",
    "\n",
    "A1: has a maximum value.\n",
    "\n",
    "A2: There is a k > 0 such that if $X_{t+1}\\ne X_t, F(X_{t+1}) > F(X_t) + k$\n",
    "\n",
    "Claim: At some point $X_{t+1} = X_{t}$\n",
    "\n",
    "## Example\n",
    "\n",
    "在没有管理者的城市，如果人们都避免拥挤，那么，所有人将会合理分配自己在某个时间去的地方，这样的话，最终理想状态就是每个人都不见面。这就达到了一个Lyapunov平衡。如果每个人都见面， 这也会达到Lyapunov平衡。\n",
    "\n",
    "其余的例子，比如交易货物的时候的总幸福感，可以看作是Lyapunov函数。比如Dating，也可以将总体幸福感看作Lyapunov函数，如果两个人都高兴，那么有最大收益，直到平衡，不论让两人高兴的方式是在一起或者分手。\n",
    "\n",
    "如果说在交易的过程中存在着负向的外在效应，可能让没有参与交易的人感到损失，因此会带动模型运动，一直到完全平衡。\n",
    "\n",
    "## "
   ]
  }
 ],
 "metadata": {
  "kernelspec": {
   "display_name": "Python 3",
   "language": "python",
   "name": "python3"
  },
  "language_info": {
   "codemirror_mode": {
    "name": "ipython",
    "version": 3
   },
   "file_extension": ".py",
   "mimetype": "text/x-python",
   "name": "python",
   "nbconvert_exporter": "python",
   "pygments_lexer": "ipython3",
   "version": "3.5.2"
  }
 },
 "nbformat": 4,
 "nbformat_minor": 2
}
