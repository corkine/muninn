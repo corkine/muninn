{
 "cells": [
  {
   "cell_type": "markdown",
   "metadata": {},
   "source": [
    "<span type=\"title\">Lyapunov Function</span> | <span type=\"version\">0.9</span> | <span type=\"update\">2018-06-17</span>\n",
    "\n",
    "<span type=\"intro\"><p class=\"card-text\">本章讲解Lyapunov函数，此函数用来表示一个过程是否可以达到平衡。困难之处在于找到构建这样一个函数。</p></span>"
   ]
  },
  {
   "cell_type": "markdown",
   "metadata": {},
   "source": [
    "# Lyapunov Functions\n",
    "\n",
    "## Define of Function\n",
    "\n",
    "F(x), a Lyaponuv function\n",
    "\n",
    "A1: has a maximum value.\n",
    "\n",
    "A2: There is a k > 0 such that if $X_{t+1}\\ne X_t, F(X_{t+1}) > F(X_t) + k$\n",
    "\n",
    "Claim: At some point $X_{t+1} = X_{t}$\n",
    "\n",
    "## Example: Exchange and Market\n",
    "\n",
    "在没有管理者的城市，如果人们都避免拥挤，那么，所有人将会合理分配自己在某个时间去的地方，这样的话，最终理想状态就是每个人都不见面。这就达到了一个Lyapunov平衡。如果每个人都见面， 这也会达到Lyapunov平衡。\n",
    "\n",
    "其余的例子，比如交易货物的时候的总幸福感，可以看作是Lyapunov函数。比如Dating，也可以将总体幸福感看作Lyapunov函数，如果两个人都高兴，那么有最大收益，直到平衡，不论让两人高兴的方式是在一起或者分手。\n",
    "\n",
    "如果说在交易的过程中存在着负向的外在效应，可能让没有参与交易的人感到损失，因此会带动模型运动，一直到完全平衡。\n",
    "\n",
    "## Time to Convergence and Optimality\n",
    "\n",
    "Q1: How long will Lyapunov hava a balance?\n",
    "\n",
    "```\n",
    "There are 100 people divided between Waiting Room A and Waiting Room B. These people will switch rooms if one is too busy. They have varying thresholds for \"too busy\", but no one has a threshold below 58. In other words, so long as 58 or fewer people are in a room, no one will want to leave that room. In the first time period, there are 87 people in Room A and only 13 in Room B. What is the maximum number of time periods that it could take for this system to reach equilibrium?\n",
    "\n",
    "=> 29, let k = 1, min = 58, init = 87\n",
    "```\n",
    "\n",
    "Q2: Does the process always stop at the min or max?\n",
    "\n",
    "NO. 因为每个人的评价标准可能不同\n",
    "\n",
    "Q3: 注意\n",
    "\n",
    "对于有**指向相反方向的**外部效应的事件，不能采用 Lyapunov Function 进行平衡。比如，分配办公室，每个人可能有自己特殊的偏好。但是对分配椅子这样的问题，则完全可以，因为每个人的椅子不会影响到别人，带来外部效应。\n",
    "\n",
    "如果交易带来外部效应，这外部效应指的是：会对所有人都有好处，那么这外部效应不会影响Lyapunov函数模型。只有指向相反方向的外部效应的事件才不容易达到平衡。"
   ]
  }
 ],
 "metadata": {
  "kernelspec": {
   "display_name": "Python 3",
   "language": "python",
   "name": "python3"
  },
  "language_info": {
   "codemirror_mode": {
    "name": "ipython",
    "version": 3
   },
   "file_extension": ".py",
   "mimetype": "text/x-python",
   "name": "python",
   "nbconvert_exporter": "python",
   "pygments_lexer": "ipython3",
   "version": "3.5.2"
  }
 },
 "nbformat": 4,
 "nbformat_minor": 2
}
