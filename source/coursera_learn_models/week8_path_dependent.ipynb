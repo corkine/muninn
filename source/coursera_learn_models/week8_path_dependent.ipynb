{
 "cells": [
  {
   "cell_type": "markdown",
   "metadata": {},
   "source": [
    "<span type=\"title\">Path Dependence & Network</span> | <span type=\"version\">0.9</span> | <span type=\"update\">2018-06-21</span>\n",
    "\n",
    "<span type=\"intro\"><p class=\"card-text\">在第一部分，本章主要讲解路径依赖的相关模型，使用 Urn Model 很方便的定义了路径依赖和选择依赖，并且利用这些模型来试图解释现实中的流行问题和选择问题。此外，作者对路径依赖和马尔科夫过程、初始敏感过程、引爆点模型进行了比较和区分。同时，也提出了路径依赖通过外部效应导致收益递增的这个作用机制。总的来说，路径依赖可以解释我们深入学习/从事某一领域学习/研究。但是，我们也看到其和yin'bao'dia</p><p class=\"card-text\">\n",
    "在第二部分，使用Coordination Gmae（核心是一个Lyapunov函数）建立了文化的模型，这个模型可以被很好的解释文化内外的不同。考虑到个人一致性、群体协调性和误差后，使用马尔科夫平衡的文化的模型可以解释在同一文化内部的差异性。\n",
    "</p></span>"
   ]
  },
  {
   "cell_type": "markdown",
   "metadata": {},
   "source": [
    "# Path Dependence"
   ]
  },
  {
   "cell_type": "markdown",
   "metadata": {},
   "source": [
    "## Define Path Dependence\n",
    "\n",
    "Outcome probabilities depend upon the sequence of past outcomes.\n",
    "\n",
    "**Example**\n",
    "\n",
    "- Technology choose like QWERTY Keybord\n",
    "- Choose Preson or University\n",
    "\n",
    "**Increasing Returns**\n",
    "\n",
    "当做出一个选择后，时间维度的收益随着这个选择而产生变化。比如选择建监狱或者学校，当犯罪率较高时，前者收益大，但是当急需提高教育水平时，后者收益大。随着时间的变化，环境决定了这两个选择的不同收益，像滚雪球一样。\n",
    "\n",
    "Path Dependence 指的就是收益持续取决于之前做出的某个决策，比如选择了QWERTY键盘或者选择建立学校。\n",
    "\n",
    "在心理中，每个人不能被看作一张白纸，而是由之前自己做出的每个决策构成的集合。当下的人格受到这些决策的影响。这也可以称之为一种路径依赖。\n",
    "\n",
    "## Urn Model\n",
    "\n",
    "**Bernoulli Model**\n",
    "\n",
    "罐子里有一定数量红球和蓝球，取出一个。\n",
    "\n",
    "Bernoulli U = {B blue, R red} 有选择并放回\n",
    "\n",
    "P(red) = R/(B+R) 结果独立\n",
    "\n",
    "**Polya Model**\n",
    "\n",
    "罐子里有一个红球和一个蓝球，我们取出一个，然后放回，如果这个球是红色，那么再放进去一个红色，持续进行下去。\n",
    "\n",
    "这样的话，抽到某个球的概率会随着时间而变化，具有路径依赖性，取决于之前的选择。\n",
    "\n",
    "Result1：从长远看，任何蓝球和红球的概率都可能是均衡状态。比如，最后得到4%的红色球，30%的红色球并保持均衡。并且，更为关键的是，这些不同的最终概率都是等可能性的。\n",
    "\n",
    "Applied：选择购买红色/蓝色衣服，如果一个人买了红色，那么在接下来另一个人决策中，就会觉得红色衣服更主流，持续进行下去，某种颜色会变成主流。比如QWERTY键盘和Windows。\n",
    "\n",
    "Result2：以任何顺序取出R个红球和B个蓝球的概率都是相同的。比如：RRRB/RBRR出现等概率。\n",
    "\n",
    "**Balancing Process**\n",
    "\n",
    "同Polya Model，如果取出的是红色，那么放入相反颜色的球。其会在最终导致球数目的平衡。\n",
    "\n",
    "Applied：当做出一个选择后，下一次做出相反的选择，比如，今天选择在这里举行比赛，下次选择在另一个地方举办。\n",
    "\n",
    "**Balancing vs Polya**\n",
    "\n",
    "前者总会导致某个事件发生概率为0.5，而后者在选择过程中具有路径依赖性，在最终则等可能的保证发生的概率随机。\n",
    "\n",
    "关键是要区分 **Period Outcome** 以及 **Equilibrium**。前者指的是某个过程中的结果，后者则是指的是长时间的均衡。\n",
    "\n",
    "Histroy can matter at each moment but not have any impact in the long run.\n",
    "\n",
    "比如铁路，每段铁路的相连是路径依赖的，但是从长远来看，总会每段路都连起来，没有这种路径依赖性。\n",
    "\n",
    "**区分 PATH & PHTA**\n",
    "\n",
    "定义选择依赖指的是当前结果依赖过去的选择，但是和过去选择的顺序无关，只和选择的结果有关。Ploya Model 就是一个选择依赖，称之为 PHTA，PATH的字母颠倒过来。它和我们选择的顺序没有直接关系。\n",
    "\n",
    "**SWAY Process**\n",
    "\n",
    "U = {1 bLUE, 1rED} 选择一个并放回\n",
    "\n",
    "在时刻t，添加一个相同颜色的球，放回去，并且添加 $2^{t-s}-2^{t-s-1}$ 个在每个小于t的s时刻抽到的球。\n",
    "\n",
    "![](sway.png)\n",
    "\n",
    "SWAY 过程是一个完全的路径以来，在某种情况下可以表示历史厚重感。\n",
    "\n",
    "## Different with Markov\n",
    "\n",
    "固定转移概率不等。这意味着历史对现在有所意义，而不是终究会变成完全相似的动态均衡。（或许是时间尺度的问题？在较长时间尺度下，转移概率可以被看作相等，但是在较短时间尺度下则不可以？）\n",
    "\n",
    "在 Urn 模型中，可以明显的看到，每次放回的概率都是有区别的的，也就是说，不存在像Markov过程那种红球向蓝球转化，蓝球向红球转化，在某一时刻，只存在一种转化。"
   ]
  },
  {
   "cell_type": "markdown",
   "metadata": {},
   "source": [
    "## Different with Chaos\n",
    "\n",
    "ESTIC ：Extreme Sensitivity to initial conditions\n",
    "\n",
    "Chaos 指的是仅对初始变量敏感，但是之后完全混乱的递归，比如：\n",
    "\n",
    "X in (0,1)\n",
    "\n",
    "F(X) = 2X if X < 0.5\n",
    "F(X) = 2 - 2X if X > 0.5\n",
    "\n",
    "初始值决定了整个序列，虽然每个时刻都仅仅和上一个时刻相关，但是总的来看却是随机的。\n",
    "\n",
    "这个看起来很像 PATH DEPENDENCE，但是却不是。因为Chaos序列固定，而PATH DEPENDENCE的结果则取决于之前的决策。因此不等同于Chaos。\n",
    "\n",
    "X = 0.4321 经过11次后变成 0.2368，而 X = 0.4322 经过11次后变成 0.5824。\n",
    "\n"
   ]
  },
  {
   "cell_type": "markdown",
   "metadata": {},
   "source": [
    "## Does PATH have a Tipping Points？\n",
    "\n",
    "临界点是一些由之前的选择产生的点造成了巨大的影响，那么，这和路径依赖之间有关系吗？路径依赖是否会导致临界点？\n",
    "\n",
    "Tipping Points Measure：多样性指数。\n",
    "\n",
    "对于PATH DEPENDENCE 的开始和结束进行多样性测量，发现没有 Tipping Points 那种多样性急剧变化的过程（一个独立的事件终结了所有的多样性）。\n",
    "\n",
    "PATH DEPENDENCE 的多样性变化不太明显（虽然也减少了，但是只说明了路径上发生的事情改变了最终走向）。\n",
    "\n",
    "所以说，PATH DENENDENCE 不能导致一个引爆点。这就好比专精某一领域，但是越是深入，越受限制，花费同样的时间，收益反而不高。相反，多个不同领域的入门，带来的总体收益是更大的，因为在知识的开始，花费较少的时间，收益就不错。这样多样性指数下降的更快，和引爆点就越接近。\n",
    "\n",
    "从视角的观念来看，多种不同视角的整合或许可以给不同领域带来融合和变革。这难道是“道可道，非常道？”"
   ]
  },
  {
   "cell_type": "markdown",
   "metadata": {},
   "source": [
    "## 外部效应、路径依赖和收益递增\n",
    "\n",
    "对于买一个面包这种决策，很少概率会出现外部效应和路径依赖，也不会怎么导致收益递增。但是像重大决策，比如修核电站或者国家公园，或者个人重大决策，那么很有可能导致外部效应，根据这些外部效应影响的不同，产生了不同的路径依赖，比如修公园，那么可能促进城市建设效益，产生此方面以来，导致旅游业发展。而对于修核电站，外部效应表现在工业和能源发展，可能产生GDP、工业发展等路径依赖和外部效应，产生此方面的收益递增。\n",
    "\n",
    "总的来说，收益递增不一定和路径依赖和外部效应有关。但是外部效应总是会决定我们的路径选择，大多数情况下会导致收益递增。\n",
    "\n"
   ]
  },
  {
   "cell_type": "markdown",
   "metadata": {},
   "source": [
    "# Network\n",
    "\n",
    "## Define a Network\n",
    "\n",
    "how it froms？what is the structure？\n",
    "\n",
    "《Network：An introduction》by Newtter\n",
    "\n",
    "前提：No direction Network。\n",
    "\n",
    "Degree(node): 一个node有一条线，那么degree(node)就是1，如果有四条线，那么degree(node)为4。\n",
    "\n",
    "Degree(network): 整个网络的线段的个数。\n",
    "\n",
    "Average Degree(network): edges*2/nodes 线段×2/节点数\n",
    "\n",
    "Neighbors of a node：和一个node连接的其余node。\n",
    "\n",
    "**Fact1**：一个人的朋友大多数情况下比他们自己受欢迎/朋友多。\n",
    "\n",
    "Path Length： 两个node交流需要经过的edge/线段数。\n",
    "\n",
    "Average Path Length：network的两个node线段总长除以线段数\n",
    "\n",
    "**Fact2**：Markov过程可以表述成四个node的network\n",
    "\n",
    "Clustering Coefficient：聚合系数 network的线段能够形成多少个三角形？三角形个数/node数就是聚合系数。常用来表示网络鲁棒性，在创新研究上使用较多，三个人的三角形更能保持创新，使信息流动更有效。\n",
    "\n",
    "## Measure Network\n",
    "\n",
    "### Random Attachment\n",
    "\n",
    "N nodes & P = probability two nodes connected\n",
    "\n",
    "当 P > 1/(N-1) 时，对于很大的N，所有节点都将被连接。\n",
    "\n",
    "当到达这个P值的时候，类似于Tipping Point，所有的点突然一下子就被连接。\n",
    "\n",
    "![](ctp.png)\n",
    "\n",
    "### Small Worlds Newwork\n",
    "\n",
    "熟人圈子社交如下：\n",
    "\n",
    "![](swlogo.png)"
   ]
  },
  {
   "cell_type": "markdown",
   "metadata": {},
   "source": [
    "可见在这种情况下，每个人基本上和6个人连接。\n",
    "\n",
    "### Preferential Attachment\n",
    "\n",
    "真实世界类似于熟人社交（比如亲属）+一部分的随机网络（比如室友和工作伙伴）。可以看到，那些巨大的node就是拥有较多连接的点，比如互联网上的龙头网站，而个人网站等访问量就很少。熟人社交在这里的意思是指，我们通过这些龙头网站去建立和别人的联系。随机网络指的是随机建立任意两个点的联系，这就构成了和Small World以及完全随机非常不相似的模式，也是最接近真实的模式。\n",
    "\n",
    "对于熟人网络的话，其取决于路径依赖，因此总会有些点有更多的连接，也就变得更大了。\n",
    "\n",
    "![](palogo.png)"
   ]
  },
  {
   "cell_type": "markdown",
   "metadata": {},
   "source": [
    "分布总是类似的，也就是说，大多数人只有 1 degree，而那些拥有很高 degree 的人非常少。\n",
    "\n",
    "对于和那些拥有很多 degree 的人连接的人，其发展遵循 PATH DEPENDENCE，从这些较大的分支中受益。"
   ]
  },
  {
   "cell_type": "markdown",
   "metadata": {},
   "source": [
    "```\n",
    "Sophia is looking for a job after she graduates from college. Which kind of network best explains why Sophia is more likely to find a job in New York City (a populous metropolis) than in Lima, Ohio (a relatively small town)? Assume that we know nothing about Sophia's existing connections ?.\n",
    "\n",
    "the answer is preferential attachment\n",
    "\n",
    "There are already a lot of people in New York, people who are likely to be interconnected. Preferential Attachment suggests that the probability of connecting to a node is proportional to the number of connections that node already has. New York has far more connections than Lima, therefore Sophia is more likely to get a job in New York.\n",
    "```"
   ]
  },
  {
   "cell_type": "markdown",
   "metadata": {},
   "source": [
    "## Function of a Network"
   ]
  },
  {
   "cell_type": "markdown",
   "metadata": {},
   "source": [
    "R:Random friends; \n",
    "C:Small World friends;\n",
    "\n",
    "一条信息经过多少人的传递会到达任意人？6个。\n",
    "\n",
    "1 Neighbors： R　＋　ｃ\n",
    "\n",
    "2 Neighbors: CR + RR + RC\n",
    "\n",
    "3 Neighbors: RRR + RRC + RCR + CRR + CRC\n",
    "\n",
    "C = 140 R = 10\n",
    "\n",
    "1N: 150\n",
    "\n",
    "2N: 1400 + 100 + 1400 = 2900\n",
    "\n",
    "3N: 146000\n",
    "\n",
    "People get jobs， find friends， partners，etc through weak ties. 通常是第二个或第三个邻居。 —— Granovetter 1973\n",
    "\n",
    "比如母亲工友的女儿，室友兄弟的朋友，高中同学的大学室友的父亲。"
   ]
  },
  {
   "cell_type": "markdown",
   "metadata": {},
   "source": [
    "比如，如果想要关闭中国互联网，只需要关闭腾讯、阿里巴巴、百度、美团点评等数个公司即可。反而是，针对那些拥有较少连接的大头，这是由于结构产生的，因此无法进行一一处理。"
   ]
  },
  {
   "cell_type": "markdown",
   "metadata": {},
   "source": [
    "比如，当疫情严重的时候，但是没有办法一一接种的时候，针对网络中链接较多的人接种是要给好主意。这也是网络水军/基于网络的广告投放的基础。最大化效益。"
   ]
  }
 ],
 "metadata": {
  "kernelspec": {
   "display_name": "Python 3",
   "language": "python",
   "name": "python3"
  },
  "language_info": {
   "codemirror_mode": {
    "name": "ipython",
    "version": 3
   },
   "file_extension": ".py",
   "mimetype": "text/x-python",
   "name": "python",
   "nbconvert_exporter": "python",
   "pygments_lexer": "ipython3",
   "version": "3.5.2"
  }
 },
 "nbformat": 4,
 "nbformat_minor": 2
}
