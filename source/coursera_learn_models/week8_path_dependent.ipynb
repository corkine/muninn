{
 "cells": [
  {
   "cell_type": "markdown",
   "metadata": {},
   "source": [
    "<span type=\"title\">Path Depence </span> | <span type=\"version\">0.9</span> | <span type=\"update\">2018-06-21</span>\n",
    "\n",
    "<span type=\"intro\"><p class=\"card-text\">在第一部分，本章主要讲解Lyapunov函数，此函数用来表示一个过程是否可以达到平衡。困难之处在于找到构建这样一个函数，并且最好不要有外部的效应。</p><p class=\"card-text\">\n",
    "在第二部分，使用Coordination Gmae（核心是一个Lyapunov函数）建立了文化的模型，这个模型可以被很好的解释文化内外的不同。考虑到个人一致性、群体协调性和误差后，使用马尔科夫平衡的文化的模型可以解释在同一文化内部的差异性。\n",
    "</p></span>"
   ]
  },
  {
   "cell_type": "markdown",
   "metadata": {},
   "source": [
    "# Path Dependence"
   ]
  },
  {
   "cell_type": "markdown",
   "metadata": {},
   "source": [
    "## Define Path Dependence\n",
    "\n",
    "Outcome probabilities depend upon the sequence of past outcomes.\n",
    "\n",
    "QWERTY Keybord\n",
    "Tec"
   ]
  }
 ],
 "metadata": {
  "kernelspec": {
   "display_name": "Python 3",
   "language": "python",
   "name": "python3"
  },
  "language_info": {
   "codemirror_mode": {
    "name": "ipython",
    "version": 3
   },
   "file_extension": ".py",
   "mimetype": "text/x-python",
   "name": "python",
   "nbconvert_exporter": "python",
   "pygments_lexer": "ipython3",
   "version": "3.5.2"
  }
 },
 "nbformat": 4,
 "nbformat_minor": 2
}
