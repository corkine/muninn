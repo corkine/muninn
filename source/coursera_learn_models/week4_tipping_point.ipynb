{
 "cells": [
  {
   "cell_type": "markdown",
   "metadata": {},
   "source": [
    "<span type=\"title\">Tipping Points & Growth</span> | <span type=\"version\">0.9</span> | <span type=\"update\">2018-06-17</span>\n",
    "<span type=\"intro\">\n",
    "    <p class=\"card-text\">本章主要介绍如何成功（笑）以及如何成长。正经来说，本章的模型被用来解释“引爆点/传染扩散”现象，以及国家GDP增长困境。在某种程度上，可以认为这是对成功和成长的模型。</p>\n",
    "</span>\n",
    "<hr>"
   ]
  },
  {
   "cell_type": "markdown",
   "metadata": {},
   "source": [
    "# 4.1 Tipping Point\n",
    "\n",
    "明显的转折（比如指数增长）不一定是Tipping Point。知道临界点位置能够有效的应对，本节主要介绍如何识别临界点及其位置，基于以下两个模型：PERCOLATION MODEL & SIS MODEL\n",
    "\n",
    "## 4.1.1 Percolation Model\n",
    "\n",
    "其中，渗透模型指的是，雨滴从上到下，在如下的格子中，只有黑色格子可以通过，问什么密度的情况下可以通过？\n",
    "\n",
    "![](tp1.png)\n",
    "\n",
    "这个问题很有趣，因为10%和11%差别不大，而50%有可能和51%造成质的差别，造成水滴的渗透。这在物理领域中被称之为渗透模型。\n",
    "\n",
    "需要注意的是，当密度增加，不是说只有一条通路被打开了，而是有很多条。因此这和线性回归差别很大，这种过程也是不可逆/不可控制的。\n",
    "\n",
    "![](tp2.png)\n",
    "\n",
    "**举例**\n",
    "\n",
    "在这个模型中，有几个关键变量：如果一个客体和别的客体的关系越密切，那么就可以认为它就越接近多边形，越容易通过它进行渗透。或者你也可以把和别人具有密切关系的客体看作是边长很大的正方形（几个小正方形的组合），这样的话，这种客体越多，模型密度越大。对于一般客体，其增加很多才能定的上一个具有密切关系客体的传播能力。\n",
    "\n",
    "在这个模型中，自变量是密度，因变量是传播面积。\n",
    "\n",
    "根据此模型可以解释森林火灾和密度的关系。\n",
    "\n",
    "![](tp3.png)\n",
    "\n",
    "![](tp4.png)\n",
    "\n",
    "类似的例子在2008年金融危机中，拯救哪家银行能够避免危机？效用最大？这取决于拯救哪家银行能够最大限度地改变密度，以增加到临近点的距离。\n",
    "\n",
    "如果银行更加互联，并且更加依赖彼此借贷关系，那么关系网的密度就会越大，那么就越容易在发生问题的时候全部遭殃。\n",
    "\n",
    "同样的，社交网络中的信息，要多真实才能获得足够传播？这并不是一个线性关系，而类似于Logistic回归。\n",
    "\n",
    "同样的，可以用来解释随着知识的积累和发现，到什么程度会有突然的应用增长，比如机器学习。\n",
    "\n",
    "\n"
   ]
  },
  {
   "cell_type": "markdown",
   "metadata": {},
   "source": [
    "## 4.1.2 SIS Model\n",
    "\n",
    "### 4.1.2.1 Diffusion 扩散模型 \n",
    "\n",
    "易感染（susceptible）、可传播（infected）、可感染（susceptible）\n",
    "\n",
    "基本再生数 0 没人被感染 1 所有人都被感染\n",
    "\n",
    "所有人都会被感染，没有治愈方法，\n",
    "\n",
    "$W_t = t ~时间被感染的人数$\n",
    "\n",
    "$(N-W_t) = t ~时间没有被感染的人数$\n",
    "\n",
    "$τ = 两人相遇被病毒传播的概率$\n",
    "\n",
    "$t ~时刻相遇的时候，没有感染传播给感染人的概率 = τ\\left(\\frac{W_t}{N}\\right)\\left(\\frac{N-W_t}{N}\\right)$\n",
    "\n",
    "$c = 接触频率$\n",
    "\n",
    "\n",
    "所以：\n",
    "\n",
    "$$W_{t+1} = W_{t} + (Nc)τ\\left(\\frac{W_t}{N}\\right)\\left(\\frac{N-W_t}{N}\\right)$$\n",
    "\n",
    "在早期和晚期，患病增长率很低，而在中期，则有指数的增长，这在公式中可以看出来。\n",
    "\n",
    "比如：\n",
    "\n",
    "```logo\n",
    "In a school with 800 students, a rumor spreads through a diffusion process. Is the rate that the rumor spreads faster when 50 people have heard or when 700 people have heard?\n",
    "\n",
    "The rumor spreads faster when 700 people have heard.\n",
    "\n",
    "For W=50, W(N-W) = 50(750) = 37,500\n",
    "\n",
    "For W=700, W(N-W) = 700(100) = 7,0000\n",
    "```\n",
    "\n",
    "![](tp5.png)\n",
    "\n",
    "在上面这个图中，不存在Tiping Point，它可能只是起到加速的效果。"
   ]
  },
  {
   "cell_type": "markdown",
   "metadata": {},
   "source": [
    "### 4.1.2.2 SIS Model\n",
    "\n",
    "$$W_{t+1} = W_{t} + (Nc)τ\\left(\\frac{W_t}{N}\\right)\\left(\\frac{N-W_t}{N}\\right) - αW_t$$\n",
    "\n",
    "α 表示治愈率，SIS模型相比较扩散模型，唯一的区别是可以被治愈。\n",
    "\n",
    "$$W_{t+1} = W_{t} + W_{t}\\left(c~τ\\frac{N-W_t}{N}-α\\right)$$\n",
    "\n",
    "当疾病刚开始的时候$\\frac{N-W_t}{N}$很小，可以看作 $W_{t+1} = W_t + W_t(cτ-a)$，取决于 cτ - α 的变化。\n",
    "\n",
    "取 $R_0 = \\frac{cτ}{α}$，当 R > 1，那么疾病就会传播，否则就不会。对于流感而言，大于 R 值为3。\n",
    "\n",
    "设 V 为接种疫苗的概率，定义 $r_0 = R_o (1-V)$为接种疫苗后的疾病再生数，那么 $r_0 = R_o (1-V) \\le 1$ 可以化简为 $V \\ge 1-\\frac{1}{R_0}$, 也就是说在这个水平下接种疫苗，不会让较高的基本再生数导致疾病传播。"
   ]
  },
  {
   "cell_type": "markdown",
   "metadata": {},
   "source": [
    "## 4.1.3 Classifying Tipping Points"
   ]
  },
  {
   "cell_type": "markdown",
   "metadata": {},
   "source": [
    "临界点：任何小的变化都会移动和改变方向。微小的动作或者事件会导致最后结果发生很大的变化/影响。\n",
    "\n",
    "![](tp6.png)\n",
    "\n",
    "注意中间那个点，可以往左变化或者往右变化，一点点就可以改变，因此处在临界点。"
   ]
  },
  {
   "cell_type": "markdown",
   "metadata": {},
   "source": [
    "但是，本质上，导致临界点变化的原因是环境的变化。比如，上面的曲线向下平移，那么在v点就不再是临界点。"
   ]
  },
  {
   "cell_type": "markdown",
   "metadata": {},
   "source": [
    "![](tp7.png)\n",
    "\n",
    "临界点是环境变化导致的一些特殊分界点，通过这些点的变化，系统在这四种状态下进行切换，分别是平衡系统、周期系统、随机系统、复杂系统。\n",
    "\n",
    "\n",
    "![](tp8.png)\n",
    "\n",
    "比如上面的改变。\n",
    "\n",
    "或者，当沉睡的密封随着温度的升高而醒来，随机运动，这是一个基于情景（环境）的系统间的变化。"
   ]
  },
  {
   "cell_type": "markdown",
   "metadata": {},
   "source": [
    "## 4.1.4 Measuring Tips\n",
    "\n",
    "**多样性指数 Diversity Index**\n",
    "\n",
    "事件a,b,c构成了全集。那么，多样性指数为：\n",
    "\n",
    "$P_a + P_b + P_c = 1,~~P^2 = P_a^2+P_b^2+P_c^2,~~Index = \\frac{1}{\\sum P^2}$\n",
    "\n",
    "```logo\n",
    "What is the diversity index in a situation in which there exist four outcomes: one that occurs with probability 0.5 and three that occur with probability 0.167?\n",
    "\n",
    "The Answer is 3.\n",
    "```\n",
    "多样性指数指出 Tips 的数目。\n",
    "\n",
    "**熵 Entropy**\n",
    "\n",
    "$-\\sum log_2(Pi)$\n",
    "\n",
    "熵指的是信息的量，其指出要多少信息才能确定Tips。对于含有四个事件且各自概率相等的情况而言，E = 2，也就是你需要问两个问题来确定是这四个中的哪一个，比如：A或者B，C或者D。\n",
    "\n",
    "![](tp9.png)"
   ]
  },
  {
   "cell_type": "markdown",
   "metadata": {},
   "source": [
    "# 4.2 Growth Models\n",
    "\n",
    "## 4.2.1 Exponential Growth\n",
    "\n",
    "**72法则**：当一个国家经济增长为 6%/年，另一个为2%/年，则其翻倍的时间大约为72/6和72/2年。\n",
    "\n",
    "\n",
    "**当每年->每秒支付利息，增长率公式可以由$e^{rt}$表示**\n",
    "\n",
    "$$lim_{n->∞}（1+\\frac{r}{n}）^{nt} = e^{rt}$$"
   ]
  },
  {
   "cell_type": "markdown",
   "metadata": {},
   "source": [
    "\n",
    "## 4.2.2 Basic Growth Model\n",
    "\n",
    "用椰子、工人、机器、机器折旧 阐述投资的作用：\n",
    "\n",
    "$L_t =  t~时刻的工人$\n",
    "\n",
    "$M_t = t~时刻的机器$\n",
    "\n",
    "$O_t = t~时刻的产出$\n",
    "\n",
    "$E_t = t~时刻的消耗的椰子量$\n",
    "\n",
    "$I_t = t~时刻用于投资的椰子量$ ——转化成了机器\n",
    "\n",
    "$s ~储存率$\n",
    "\n",
    "$d ~折旧率$"
   ]
  },
  {
   "cell_type": "markdown",
   "metadata": {},
   "source": [
    "$O_t = \\sqrt{L_t}\\sqrt{M_t}$ 产出是工人和机器的凹函数\n",
    "\n",
    "$O_t = E_t + I_t ~~I_t = sO_t$ 产出要么被消耗，或者用于投资。\n",
    "\n",
    "$M_{t+1} = M_{t} + I_{t} - dM_{t}$ 机器会折旧，也有补充"
   ]
  },
  {
   "cell_type": "markdown",
   "metadata": {},
   "source": [
    "增加工人，得到的椰子越来越多，但是边际收益递减。\n",
    "\n",
    "当 投资等于折旧 $dM_t = sO_t$的时候，达到平衡（最大收益）"
   ]
  },
  {
   "cell_type": "markdown",
   "metadata": {},
   "source": [
    "```logo\n",
    "The economies of two small countries operate with the same output equation: Output= 5√M. Both countries have the same depreciation rate: d=0.10. However, Country 1 is made up of very patient people who are able to sustain a high savings rate: s=0.90. Country 2, on the other hand, is made up of very impatient people with a low savings rate: s=0.10. What is the difference in long run equilibrium output between Country 1 and Country 2?\n",
    "\n",
    "\n",
    "Country 1 has 200 more units of output.\n",
    "```\n",
    "\n",
    "Equilibrium occurs when Investment = Depreciation. Formally, this means:\n",
    "\n",
    "Savings Rate * Output = Depreciation Rate * M.\n",
    "\n",
    "To find the equilibria, we solve for M:\n",
    "\n",
    "Country 1:(5√M)(0.90)=(0.10)(M)\n",
    "\n",
    "Do a little algebra and you find that M=2025\n",
    "\n",
    "Since Output=5$\\sqrt{M}$\n",
    "\n",
    "Output=5M, Output = 5$\\sqrt{2025}$=225\n",
    "\n",
    "Country 2: (5√M)(0.10)=(0.10)(M)\n",
    "In this case, M=25\n",
    "\n",
    "For Country 2, output = 5$\\sqrt{25}$\n",
    "=255 \n",
    "25\n",
    "​\t =25\n",
    "\n",
    "Now find the difference between these two results:\n",
    "\n",
    "225-25=200\n",
    "\n",
    "225−25=200\n",
    "\n",
    "Therefore, Country 1 has 200 more units of output at long run equilibrium than does Country 2."
   ]
  },
  {
   "cell_type": "markdown",
   "metadata": {},
   "source": [
    "增长不会持续，会停止在某个位置，之后保持稳定。如上，城市1拥有2025台机器，而城市2则有25台，然而其收入差别只有200."
   ]
  },
  {
   "cell_type": "markdown",
   "metadata": {},
   "source": [
    "这是因为折旧是线性的，而收入则是凹函数的，因此总会有增长的停止。"
   ]
  },
  {
   "cell_type": "markdown",
   "metadata": {},
   "source": [
    "## 4.2.3 Solow Growth Model\n",
    "\n",
    "技术停止进步，那么经济就会停止增长。然而，现实中的GDP总是增长的。Solow模型考虑到了创新的因素。\n",
    "\n",
    "$L_t = t ~时刻的劳动力$\n",
    "\n",
    "$K_t = t ~时刻的资产$\n",
    "\n",
    "$A_t = t ~时刻的技术水平$\n",
    "\n",
    "$O_t = Output 产出$ \n",
    "\n",
    "$O_t = A_t K_t^βL_t^{1-β}$\n",
    "\n",
    "β 为 资产和劳动比例，资产密集，则β越大，反之，劳动力密集，β越小。"
   ]
  },
  {
   "cell_type": "markdown",
   "metadata": {},
   "source": [
    "![](tp10.png)\n",
    "\n",
    "![](tp11.png)"
   ]
  },
  {
   "cell_type": "markdown",
   "metadata": {},
   "source": [
    "当创新为2，生产率2X，GDP 4X增长。因为生产率增高->劳动力增多->增加机器，所以GDP乘数效应。"
   ]
  },
  {
   "cell_type": "markdown",
   "metadata": {},
   "source": [
    "因此，只要提高生产力，就能提高GDP，保证其处于稳定增长状态。可以选择一部分劳动力用于创新（提高技术/知识），提高生产力，重点在于选择的比例，这取决于创新带来的GDP增长和其成本（劳动力消耗和研发成本）。"
   ]
  },
  {
   "cell_type": "markdown",
   "metadata": {},
   "source": [
    "根据Solow模型，中国具有大量劳工，但是没有劳工匹配的资本，最近20年处于资本积累带来的经济增长期，包括战后日本和美国。而这种增长必然会随着市场饱和而降低，不论投资多大（因为折旧相应有多大，但是受益增长却缓慢的多）。\n",
    "\n",
    "**只有选择增加A来保持增长，但是这是以损失生产投资和劳动力为代价的（用于科研的人和资金）这意味着要损失掉这8%的增长率来换取经济转型。**\n"
   ]
  },
  {
   "cell_type": "markdown",
   "metadata": {},
   "source": [
    "### 4.2.4 Problems\n",
    "\n",
    "创新是一把双刃剑，因为技术降低了对于劳动力的依赖，这会改变原有的产业结构，造成社会问题，从某种程度上来说，降低了生产率。但是从长远和总体看，这是有益于总体的经济增长和社会发展的。这是一个艰难的选择。\n"
   ]
  },
  {
   "cell_type": "markdown",
   "metadata": {},
   "source": [
    "<hr>\n",
    "\n",
    "2018-05-28：SP0.8\n",
    "\n",
    "**相关笔记**\n",
    "\n",
    "<span type=\"related_note\" mold=\"question\">如果一个人的一生算作成功，那么他所需要的元素/技能点应该是什么？</span>"
   ]
  }
 ],
 "metadata": {
  "kernelspec": {
   "display_name": "Python 3",
   "language": "python",
   "name": "python3"
  },
  "language_info": {
   "codemirror_mode": {
    "name": "ipython",
    "version": 3
   },
   "file_extension": ".py",
   "mimetype": "text/x-python",
   "name": "python",
   "nbconvert_exporter": "python",
   "pygments_lexer": "ipython3",
   "version": "3.5.2"
  }
 },
 "nbformat": 4,
 "nbformat_minor": 2
}
