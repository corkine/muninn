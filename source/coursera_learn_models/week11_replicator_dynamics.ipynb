{
 "cells": [
  {
   "cell_type": "markdown",
   "metadata": {},
   "source": [
    "<span type=\"title\">Prisoners'Dilemma & Mechanism Design</span> | <span type=\"version\">1.0</span> | <span type=\"update\">2018-06-30</span>\n",
    "\n",
    "<span type=\"intro\"><p class=\"card-text\">第一部分主要是关于多人竞争和合作的建模，在这里主要定义了囚徒困境模型、群体行动模型，资源有限模型，并且提出7种促进合作的方式。\n",
    "</p><p class=\"card-text\">\n",
    "在第二部分，主要讲解了模式设计。模式设计被用来针对隐含信息和隐藏行为进行模型设计，来迫使人们改变行为，有效的进行合作达到目标，比如公共购买，竞拍以及上班摸鱼。\n",
    "</p></span>"
   ]
  },
  {
   "cell_type": "markdown",
   "metadata": {},
   "source": [
    "# Replicator Dynamics\n",
    "\n",
    "## Define\n",
    "\n",
    "```\n",
    "set of types {1,2,3,4,5,6,7,...N}\n",
    "payoff for each type π(i)\n",
    "proportion of each type Pr(i)\n",
    "```"
   ]
  }
 ],
 "metadata": {
  "kernelspec": {
   "display_name": "Python 3",
   "language": "python",
   "name": "python3"
  },
  "language_info": {
   "codemirror_mode": {
    "name": "ipython",
    "version": 3
   },
   "file_extension": ".py",
   "mimetype": "text/x-python",
   "name": "python",
   "nbconvert_exporter": "python",
   "pygments_lexer": "ipython3",
   "version": "3.5.2"
  }
 },
 "nbformat": 4,
 "nbformat_minor": 2
}
