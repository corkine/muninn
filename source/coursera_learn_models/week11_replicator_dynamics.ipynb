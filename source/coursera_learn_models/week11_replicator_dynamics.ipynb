{
 "cells": [
  {
   "cell_type": "markdown",
   "metadata": {},
   "source": [
    "<span type=\"title\">Prisoners'Dilemma & Mechanism Design</span> | <span type=\"version\">1.0</span> | <span type=\"update\">2018-06-30</span>\n",
    "\n",
    "<span type=\"intro\"><p class=\"card-text\">第一部分主要是关于多人竞争和合作的建模，在这里主要定义了囚徒困境模型、群体行动模型，资源有限模型，并且提出7种促进合作的方式。\n",
    "</p><p class=\"card-text\">\n",
    "在第二部分，主要讲解了模式设计。模式设计被用来针对隐含信息和隐藏行为进行模型设计，来迫使人们改变行为，有效的进行合作达到目标，比如公共购买，竞拍以及上班摸鱼。\n",
    "</p></span>"
   ]
  },
  {
   "cell_type": "markdown",
   "metadata": {},
   "source": [
    "# Replicator Dynamics\n",
    "\n",
    "## Define\n",
    "\n",
    "```\n",
    "set of types {1,2,3,4,5,6,7,...N}\n",
    "payoff for each type Pi(i)\n",
    "proportion of each type Pr(i)\n",
    "```\n",
    "\n",
    "the replicator dynamics model will seek to tell us something about the relationship between\n",
    "- (1) copying what other agents are doing\n",
    "- (2) doing whatever has the highest payoff.\n",
    "\n",
    "模仿者动态是一种用来理解人们决策的方法，因为人们总是在做两件事情：理性决策以及模仿别人行为（和别人比较），因此可以整合 模仿 和 理性 两种行为形成一个整合的模型。\n",
    "\n",
    "假设权重：\n",
    "\n",
    "$Widght(i) = Pi(i)·Pr(i)$\n",
    "\n",
    "那么，$Pr_{t+1}(i) = \\frac{Pr_r(i)\\pi (i)}{\\sum_{j=1}^NPr_{t}(j)\\pi(j)}$\n",
    "\n",
    "即 t+1 时刻，对于策略 i 的 Proportion 为 t 时刻该策略的权重除以 t 时刻所有策略的权重。\n",
    "\n",
    "![](w11p1.png)"
   ]
  },
  {
   "cell_type": "markdown",
   "metadata": {},
   "source": [
    "## Example：SUV\n",
    "\n",
    "为什么在城市里，人们会选择笨重且庞大的SUV而不是小轿车呢？根据模仿者均衡，可以看到，人们选择了一个次优的结果，这是理性和模仿/比较共同起作用的结果。共同选择小轿车的群体收益当然是最高的，但是总有一些人想要把别人比下去，因此就有了一种特殊的均衡。\n",
    "\n",
    "![](w11p2.png)"
   ]
  },
  {
   "cell_type": "markdown",
   "metadata": {},
   "source": [
    "# Fisher's Theorem\n",
    "\n",
    "Model1 : There is no cardinal（北美红雀表现型和基因型各不相同）\n",
    "\n",
    "Model2 : Rugged Landscape（不同表现型和基因型的红雀在不同的山峰/位置上）\n",
    "\n",
    "Model3 : Replicator dynamics（复制那些表现型集中或者基因型好的）\n",
    "\n",
    "动态平衡的速度取决于适应度的方差，方差（变化）越大，适应越快，就越容易登上山峰\n",
    "```\n",
    "+++++++++++++++++++++++++++++\n",
    "\n",
    "Population 1 (Low Variation)\n",
    "1/3 with fitness 3\n",
    "1/3 with fitness 4\n",
    "1/3 with fitness 5\n",
    "\n",
    "w1 = 1; w2 = 4/3; w3 = 5/3;\n",
    "Pr1 = 3/12; Pr2 = 4/12; Pr3 = 5/12;\n",
    "Gain 1\n",
    "Var 2\n",
    "\n",
    "Population 2 (High Variation)\n",
    "1/3 with fitness 0\n",
    "1/3 with fitness 4\n",
    "1/3 with fitness 8\n",
    "\n",
    "w1 = 0; w2 = 4/3; w3 = 8/3;\n",
    "Pr1 = 0; Pr2 = 1/3; Pr3 = 2/3\n",
    "Gain 16\n",
    "Var 32\n",
    "\n",
    "++++++++++++++++++++++++++++++\n",
    "```\n",
    "\n",
    "平均适合度的变化在模仿者动态的选择下和方差同比：方差越大，适应就越快。"
   ]
  },
  {
   "cell_type": "markdown",
   "metadata": {},
   "source": [
    "# Variation or Six Sigma\n",
    "\n",
    "What is right？ 活到老，学到老？ 还是 老狗学不会新把戏？\n",
    "\n",
    "模型而非谚语更加有用的原因是，其提供了非常清晰的假设以及非常简洁的数学公式。我们对逻辑了如指掌，但是对谚语却无能为力。\n",
    "\n",
    "这个问题很好解释。如果将问题看作是一个固定的模式，那么减少变化会更好，比如一道数学题，有固定的解法，一个算法，有最优的处理思路。一件任务，有最合适、最有效率的方式。对于机器，Six Sigma 或者努力减少差异是有巨大回报的。\n",
    "\n",
    "但，实际上，非常多的情况下，环境是变化的。人的能力也是变化的。因此，差异越大，适应越快，人的能力是不断变化的，对于人来说，扩大视野，提高差异，努力适应，这才会有更大的回报，相反，对某一件事的刻板化偏见，只会变得狭隘和固执。"
   ]
  }
 ],
 "metadata": {
  "kernelspec": {
   "display_name": "Python 3",
   "language": "python",
   "name": "python3"
  },
  "language_info": {
   "codemirror_mode": {
    "name": "ipython",
    "version": 3
   },
   "file_extension": ".py",
   "mimetype": "text/x-python",
   "name": "python",
   "nbconvert_exporter": "python",
   "pygments_lexer": "ipython3",
   "version": "3.5.2"
  }
 },
 "nbformat": 4,
 "nbformat_minor": 2
}
