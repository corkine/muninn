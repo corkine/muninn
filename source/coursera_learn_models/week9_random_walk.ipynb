{
 "cells": [
  {
   "cell_type": "markdown",
   "metadata": {},
   "source": [
    "<span type=\"title\">Randomness and Random Walk</span> | <span type=\"version\">1.0</span> | <span type=\"update\">2018-06-29</span>\n",
    "\n",
    "<span type=\"intro\"><p class=\"card-text\">\n",
    "</p><p class=\"card-text\">\n",
    "\n",
    "</p></span>"
   ]
  },
  {
   "cell_type": "markdown",
   "metadata": {},
   "source": [
    "# Randomness\n",
    "\n",
    "Randomness 导致了 Random Walk。后者是前者的结果。\n",
    "\n",
    "## The sources of Randomness\n",
    "\n",
    "- $X + \\epsilon（Noise）噪音$\n",
    "- $Error ~误差$\n",
    "- $Uncertainty ~不确定性$\n",
    "- $Complexity ~复杂性$\n",
    "\n",
    "比如决策，一个人的决策取决于其启动和依赖的信息，这些信息是不确定的，并且如何使用这些信息是复杂的机制，此外，即便是做出了决策，这个决策能否执行也有噪音和误差的影响，因此我们可以将基于行为的人类行为看作是一种类似随机过程。"
   ]
  },
  {
   "cell_type": "markdown",
   "metadata": {},
   "source": [
    "## Skill & Luck\n",
    "\n",
    "$Outcome = a*Luck + (1-a)*Skill$\n",
    "\n",
    "比如世界杯，a 可能等于 0.9，运气更重要，而对于围棋比赛，大师和新手，那当然是 a ="
   ]
  }
 ],
 "metadata": {
  "kernelspec": {
   "display_name": "Python 3",
   "language": "python",
   "name": "python3"
  },
  "language_info": {
   "codemirror_mode": {
    "name": "ipython",
    "version": 3
   },
   "file_extension": ".py",
   "mimetype": "text/x-python",
   "name": "python",
   "nbconvert_exporter": "python",
   "pygments_lexer": "ipython3",
   "version": "3.5.2"
  }
 },
 "nbformat": 4,
 "nbformat_minor": 2
}
