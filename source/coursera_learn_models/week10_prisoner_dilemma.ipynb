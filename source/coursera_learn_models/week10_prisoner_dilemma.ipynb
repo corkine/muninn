{
 "cells": [
  {
   "cell_type": "markdown",
   "metadata": {},
   "source": [
    "# Prisoners' Dilemma \n",
    "\n",
    "两个参与者，每人有两种选择，合作C or 抵抗D，收益如下：\n",
    "\n",
    "![](w10p1.png)\n",
    "\n",
    "这个博弈迷人之处在于简单：对于个人而言，最大收益是偷偷背叛，对于总体而言，最大收益是合作。需要注意，当背叛的收益为9时，这种情况不叫做囚徒困境，因为轮流背叛将会成为最大收益的选择。\n",
    "\n",
    "## Define Prisoners' Dilemma\n",
    "\n",
    "![](w10p2.png)\n",
    "\n",
    "其中必须满足 T > R, F > T, 2T > F，叫做囚徒困境。\n",
    "\n",
    "## Pareto Efficient\n",
    "\n",
    "Pareto Efficient 指的是，所选择的行为，不能够让所有人都变得更好，在这种情况下， 认为达到了帕拉图最优。对于(4,4)而言，向(0,6),(6,0)偏斜均损害了了一个玩家的利益。对于(0,6)而言，向(2,2),(4,4)偏斜也损害了某个玩家的利益，因此除了(2,2)，其余均为帕拉图最优。总体偏好总是指向合作。\n",
    "\n",
    "## Nash Equilibrium\n",
    "\n",
    "纳什均衡假设人们会最大化自身利益。如果玩家1选择合作，那么作为玩家2，最好是背叛，那么，玩家1会选择继续背叛，最后总会达到(2,2)的均衡，因为两人都为了维护自己的利益。个人偏好总是指向背叛。\n",
    "\n",
    "## Why Prisoners' Dilemma\n",
    "\n",
    "![](w10p3.png)\n",
    "\n",
    "以上是一个就叫做 self interst game 的博弈，可以看到 nash equilibrium 和 pareto efficient 指向相同的位置，囚徒困境迷人之处就在于此，nash 和 pareto 结果指向不同。\n",
    "\n",
    "**Example**\n",
    "\n",
    "- 价格战\n",
    "- 采用新技术\n",
    "- 军备竞赛\n",
    "- 购买奢侈品"
   ]
  }
 ],
 "metadata": {
  "kernelspec": {
   "display_name": "Python 3",
   "language": "python",
   "name": "python3"
  },
  "language_info": {
   "codemirror_mode": {
    "name": "ipython",
    "version": 3
   },
   "file_extension": ".py",
   "mimetype": "text/x-python",
   "name": "python",
   "nbconvert_exporter": "python",
   "pygments_lexer": "ipython3",
   "version": "3.5.2"
  }
 },
 "nbformat": 4,
 "nbformat_minor": 2
}
