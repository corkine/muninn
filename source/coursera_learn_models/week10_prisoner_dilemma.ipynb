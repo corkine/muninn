{
 "cells": [
  {
   "cell_type": "markdown",
   "metadata": {},
   "source": [
    "# Prisoners' Dilemma \n",
    "\n",
    "两个参与者，每人有两种选择，合作C or 抵抗D，收益如下：\n",
    "\n",
    "![](w10p1.png)\n",
    "\n",
    "这个博弈迷人之处在于简单：对于个人而言，最大收益是偷偷背叛，对于总体而言，最大收益是合作。需要注意，当背叛的收益为9时，这种情况不叫做囚徒困境，因为轮流背叛将会成为最大收益的选择。\n",
    "\n",
    "## Define Prisoners' Dilemma\n",
    "\n",
    "![](w10p2.png)\n",
    "\n",
    "其中必须满足 T > R, F > T, 2T > F，叫做囚徒困境。\n",
    "\n",
    "## Pareto Efficient\n",
    "\n",
    "Pareto Efficient 指的是，所选择的行为，不能够让所有人都变得更好，在这种情况下， 认为达到了帕拉图最优。对于(4,4)而言，向(0,6),(6,0)偏斜均损害了了一个玩家的利益。对于(0,6)而言，向(2,2),(4,4)偏斜也损害了某个玩家的利益，因此除了(2,2)，其余均为帕拉图最优。总体偏好总是指向合作。\n",
    "\n",
    "## Nash Equilibrium\n",
    "\n",
    "纳什均衡假设人们会最大化自身利益。如果玩家1选择合作，那么作为玩家2，最好是背叛，那么，玩家1会选择继续背叛，最后总会达到(2,2)的均衡，因为两人都为了维护自己的利益。个人偏好总是指向背叛。\n",
    "\n",
    "## Why Prisoners' Dilemma\n",
    "\n",
    "![](w10p3.png)\n",
    "\n",
    "以上是一个就叫做 self interst game 的博弈，可以看到 nash equilibrium 和 pareto efficient 指向相同的位置，囚徒困境迷人之处就在于此，nash 和 pareto 结果指向不同。\n",
    "\n",
    "**Example**\n",
    "\n",
    "- 价格战\n",
    "- 采用新技术\n",
    "- 军备竞赛\n",
    "- 购买奢侈品"
   ]
  },
  {
   "cell_type": "markdown",
   "metadata": {},
   "source": [
    "# Seven Way to Cooperation\n",
    "\n",
    "Cost of cooperation：c\n",
    "\n",
    "Benefit to others：b\n",
    "\n",
    "if b > c, then cooperation\n",
    "\n",
    "## Direct Reciprocity\n",
    "\n",
    "直接互惠。如果有足够的机会相遇，那么以牙还牙的策略可以促进合作。\n",
    "\n",
    "P = probability of we meet again\n",
    "\n",
    "deviate： 0\n",
    "\n",
    "cooperate: -c + pb\n",
    "\n",
    "p > c/b\n",
    "\n",
    "比如在小城市见面机会更多，合作受益更大，这并非因为小城市人们比大城市人们更善良。\n",
    "\n",
    "## Indirect Reciprocity\n",
    "\n",
    "间接互惠，通过名声的传播\n",
    "\n",
    "q = probability reputation know\n",
    "\n",
    "deviate:0\n",
    "\n",
    "cooperate: -c + qb\n",
    "\n",
    "q > c/b\n",
    "\n",
    "\n",
    "## Network Reciprocity\n",
    "\n",
    "k neighbors\n",
    "\n",
    "if k < b/c then cooperation\n",
    "\n",
    "why?\n",
    "\n",
    "surrounded by cooperator: k(b-c)\n",
    "\n",
    "boundary defector: (k-1)b\n",
    "\n",
    "k(b-c) > (k-1)b ==> k < b/c\n",
    "\n",
    "**观察Network的密度，可以知道合作是通过名声传播还是直接互惠导致的。因为前者依靠高密度的网络，而后者的网络依赖则不高。在大城市里，依靠名声比直接互惠概率更高，那么对网络的以来更大，更容易出现不合作者。**"
   ]
  },
  {
   "cell_type": "markdown",
   "metadata": {},
   "source": [
    "## Group Selection\n",
    "\n",
    "GroupA：合作概率80%\n",
    "\n",
    "GroupB：合作概率50%\n",
    "\n",
    "如果发生两组对抗，那么A获胜概率更大，因此如果以组为单位，那么就会要求更高的合作概率。"
   ]
  },
  {
   "cell_type": "markdown",
   "metadata": {},
   "source": [
    "```\n",
    "which 2 are the most likely to explain why people in small, isolated towns are so nice?\n",
    "\n",
    "- Reputation (Indirect Reciprocity)\n",
    "- Repetition (Direct Reciprocity)\n",
    "\n",
    "Both Repetition and Reputation explain why people would be nice in a small town - because p and q are high, meaning that there is a high probability in small towns that two people will meet again and that one's reputation will spread.\n",
    "\n",
    "Group reciprocity is less likely, since small isolated towns are unlikely to be competing (or fighting) with surrounding towns.\n",
    "\n",
    "Network Reciprocity is also less likely, because it suggests that the more dense the connections between people, the more likely people are to change and defect.\n",
    "```"
   ]
  },
  {
   "cell_type": "markdown",
   "metadata": {},
   "source": [
    "## Kin\n",
    "\n",
    "## Laws\n",
    "\n",
    "## Incentives \n",
    "\n",
    "- 铲除门前的雪，代价很高，收益不大"
   ]
  },
  {
   "cell_type": "markdown",
   "metadata": {},
   "source": [
    "# Colletive Action\n",
    "\n",
    "Colletive Action mean something like that:\n",
    "\n",
    "```\n",
    "Pretend that you're driving on the highway and you see a chair in the middle of the road. You had to turn out of the way to avoid hitting the chair with your car. You consider stopping your car, getting out, and moving the chair out of the way. On the other hand, you're late to work, and it's not your fault that the chair is in the road. You have to figure whether to move the chair or not.\n",
    "```\n",
    "\n",
    "$x_j: the ~action ~of ~person ~j\\\\Payoff~to~j:~-x_j + β\\sum_{i=1}^Nx_i~~,β~in~(0,1)$"
   ]
  },
  {
   "cell_type": "markdown",
   "metadata": {},
   "source": [
    "## Free Rider Problem\n",
    "\n",
    "别人贡献收益，而自己搭便车。\n",
    "\n",
    "**公共池塘资源问题：**资源过度消耗，造成不可持续发展。\n",
    "\n",
    "## "
   ]
  }
 ],
 "metadata": {
  "kernelspec": {
   "display_name": "Python 3",
   "language": "python",
   "name": "python3"
  },
  "language_info": {
   "codemirror_mode": {
    "name": "ipython",
    "version": 3
   },
   "file_extension": ".py",
   "mimetype": "text/x-python",
   "name": "python",
   "nbconvert_exporter": "python",
   "pygments_lexer": "ipython3",
   "version": "3.5.2"
  }
 },
 "nbformat": 4,
 "nbformat_minor": 2
}
